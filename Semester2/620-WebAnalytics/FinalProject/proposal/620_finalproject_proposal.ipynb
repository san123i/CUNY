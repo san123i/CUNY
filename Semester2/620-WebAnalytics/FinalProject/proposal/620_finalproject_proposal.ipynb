{
 "cells": [
  {
   "cell_type": "markdown",
   "metadata": {},
   "source": [
    "### DATA 620\n",
    "#### FINAL PROJECT PROPOSAL : Australian Election 2019 Tweets\n",
    "##### Group Four\n",
    "- Santosh Cheruku\n",
    "- Vinicio Haro\n",
    "- Javern Wilson\n",
    "- Saayed Alam  \n",
    "\n",
    "***\n",
    "\n",
    "#### Problem Statement\n",
    "Social networks is the biggest public forum ever created by mankind and during the time of election, forums are teeming with discussions from negative to positive and everything in between. The conversations create a hub for scientists to analyze texts of large scale and find insights.\n",
    "\n",
    "For our final project, Group 4 has decided to work with [Australian Election 2019 Tweets](https://www.kaggle.com/taniaj/australian-election-2019-tweets). The tweets were scraped using Twitter API and graciously uploaded to Kaggle by the user `wayward_artisan`. \n",
    "\n",
    "Our goal is to perform network analysis on the dataset and find Twitter users who are very connected, popular individuals, individuals who are likely to hold most information or individuals who can quickly connect with the wider network. We will also calculate EigenCentrality to identify nodes with influence over the whole network, not just those directly connected to it. Finally, we will perform sentiment analysis on the dataset to understand user's opinion during the time of election.\n",
    "\n",
    "We will work as a group via Slack and Git to find the best solutions to our business goals and publish the results on Github.\n",
    "\n",
    "*** \n",
    "\n",
    "#### Dataset\n",
    "Over 180,000 tweets collected using Twitter API keyword search between 10.05.2019 and 20.05.2019. Columns are as follows:  \n",
    "\n",
    "`created_at`: Date and time of tweet creation  \n",
    "`id`: Unique ID of the tweet  \n",
    "`full_text`: Full tweet text  \n",
    "`retweet_count`: Number of retweets  \n",
    "`favorite_count`: Number of likes  \n",
    "`user_id`: User ID of tweet creator  \n",
    "`user_name`: Username of tweet creator  \n",
    "`user_screen_name`: Screen name of tweet creator  \n",
    "`user_description`: Description on tweet creator's profile  \n",
    "`user_location`: Location given on tweet creator's profile  \n",
    "`user_created_at`: Date the tweet creator joined Twitter  "
   ]
  }
 ],
 "metadata": {
  "kernelspec": {
   "display_name": "Python 3",
   "language": "python",
   "name": "python3"
  },
  "language_info": {
   "codemirror_mode": {
    "name": "ipython",
    "version": 3
   },
   "file_extension": ".py",
   "mimetype": "text/x-python",
   "name": "python",
   "nbconvert_exporter": "python",
   "pygments_lexer": "ipython3",
   "version": "3.6.3"
  }
 },
 "nbformat": 4,
 "nbformat_minor": 2
}
