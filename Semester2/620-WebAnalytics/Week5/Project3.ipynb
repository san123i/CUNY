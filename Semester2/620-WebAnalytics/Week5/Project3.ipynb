{
 "cells": [
  {
   "cell_type": "markdown",
   "metadata": {},
   "source": [
    "### DATA 620\n",
    "#### Project 3   \n",
    "### [Video Presentation]()\n",
    "##### Group Four\n",
    "- Santosh Cheruku\n",
    "- Vinicio Haro\n",
    "- Javern Wilson\n",
    "- Saayed Alam  "
   ]
  },
  {
   "cell_type": "code",
   "execution_count": 53,
   "metadata": {},
   "outputs": [],
   "source": [
    "# load libraries\n",
    "import nltk\n",
    "from nltk.corpus import names\n",
    "import random"
   ]
  },
  {
   "cell_type": "markdown",
   "metadata": {},
   "source": [
    "### Introduction\n",
    "In this assignment, we will work with naive Bayes classifiers to build a name gender classifier. We will select relevant features as we go along to improve the accuracy of our classifier. Deciding on relevant features for a classifier can have an enormous impact on the classifier's ability to extract a good model."
   ]
  },
  {
   "cell_type": "code",
   "execution_count": 54,
   "metadata": {},
   "outputs": [],
   "source": [
    "# load names from nltk library\n",
    "labeled_names = ([(name, \"male\") for name in names.words(\"male.txt\")] + \n",
    "                 [(name, \"female\") for name in names.words(\"female.txt\")])\n",
    "\n",
    "# random shuffle the names\n",
    "random.shuffle(labeled_names)"
   ]
  },
  {
   "cell_type": "markdown",
   "metadata": {},
   "source": [
    "### Data Preparation\n",
    "We begin by splitting the names courpus into three subsets: 500 words for the test set, 500 words for the dev-test set, and the remaining 6900 words for the training set. The training set is used to train the model, and the dev-test set is used to perform error analysis. The test set serves in our final evaluation of the classifier."
   ]
  },
  {
   "cell_type": "code",
   "execution_count": 55,
   "metadata": {},
   "outputs": [],
   "source": [
    "# split data into three subsets\n",
    "train_names = labeled_names[1500:]\n",
    "devtest_names = labeled_names[500:1000]\n",
    "test_names = labeled_names[:500]"
   ]
  },
  {
   "cell_type": "markdown",
   "metadata": {},
   "source": [
    "Using the dev-test set, we can generate a list of the errors that the classifier makes when predicting name genders. We will build a function to generate the error list with the number of errors."
   ]
  },
  {
   "cell_type": "code",
   "execution_count": 56,
   "metadata": {},
   "outputs": [],
   "source": [
    "# define error analysis function\n",
    "def error_analysis(gender_features):\n",
    "    # error list\n",
    "    errors = []\n",
    "    # extract mislabels\n",
    "    for (name, tag) in devtest_names:\n",
    "        guess = classifier.classify(gender_features(name))\n",
    "        if guess != tag:\n",
    "            errors.append((tag, guess, name))\n",
    "    print(\"Number of Errors: \", len(errors))\n",
    "    # print the errors\n",
    "    for (tag, guess, name) in sorted(errors):\n",
    "        print('correct={:<8} guess={:<8s} name={:<30}'.format(tag, guess, name))"
   ]
  },
  {
   "cell_type": "markdown",
   "metadata": {},
   "source": [
    "### Feature Engineering\n",
    "#### Gender Feature 1\n",
    "Our first feature function is a the example from the textbook. It classifies name based on the number of English alphabets and for that reason it overfits gender features. However, we will start with this function as benchmark and add or remove features to improve our classifier."
   ]
  },
  {
   "cell_type": "code",
   "execution_count": 57,
   "metadata": {},
   "outputs": [
    {
     "name": "stdout",
     "output_type": "stream",
     "text": [
      "0.758\n"
     ]
    }
   ],
   "source": [
    "# define first version of gender features\n",
    "def gender_features1(name):\n",
    "    features = {}\n",
    "    features[\"first_letter\"] = name[0].lower()\n",
    "    features[\"last_letter\"] = name[-1].lower()\n",
    "    for letter in \"abcdefghijklmnopqrstuvwxyz\":\n",
    "        features[\"count({})\".format(letter)] = name.lower().count(letter)\n",
    "        features[\"has({})\".format(letter)] = (letter in name.lower())\n",
    "    return features\n",
    "\n",
    "# train model and print accuracy score\n",
    "train_set = [(gender_features1(n), gender) for (n, gender) in train_names]\n",
    "devtest_set = [(gender_features1(n), gender) for (n, gender) in devtest_names]\n",
    "classifier = nltk.NaiveBayesClassifier.train(train_set)\n",
    "print(nltk.classify.accuracy(classifier, devtest_set))"
   ]
  },
  {
   "cell_type": "markdown",
   "metadata": {},
   "source": [
    " As expected, our first classifier score matches the one from the textbook. We will improve it."
   ]
  },
  {
   "cell_type": "code",
   "execution_count": 58,
   "metadata": {},
   "outputs": [
    {
     "name": "stdout",
     "output_type": "stream",
     "text": [
      "Number of Errors:  121\n",
      "correct=female   guess=male     name=Barry                         \n",
      "correct=female   guess=male     name=Bonny                         \n",
      "correct=female   guess=male     name=Bryn                          \n",
      "correct=female   guess=male     name=Chrysler                      \n",
      "correct=female   guess=male     name=Cody                          \n",
      "correct=female   guess=male     name=Cordey                        \n",
      "correct=female   guess=male     name=Dawn                          \n",
      "correct=female   guess=male     name=Delores                       \n",
      "correct=female   guess=male     name=Demetris                      \n",
      "correct=female   guess=male     name=Diamond                       \n",
      "correct=female   guess=male     name=Dorey                         \n",
      "correct=female   guess=male     name=Dory                          \n",
      "correct=female   guess=male     name=Ester                         \n",
      "correct=female   guess=male     name=Ethyl                         \n",
      "correct=female   guess=male     name=Farrah                        \n",
      "correct=female   guess=male     name=Fawn                          \n",
      "correct=female   guess=male     name=Florrie                       \n",
      "correct=female   guess=male     name=Glyn                          \n",
      "correct=female   guess=male     name=Gredel                        \n",
      "correct=female   guess=male     name=Guinevere                     \n",
      "correct=female   guess=male     name=Gwen                          \n",
      "correct=female   guess=male     name=Gweneth                       \n",
      "correct=female   guess=male     name=Gwennie                       \n",
      "correct=female   guess=male     name=Happy                         \n",
      "correct=female   guess=male     name=Hatty                         \n",
      "correct=female   guess=male     name=Hazel                         \n",
      "correct=female   guess=male     name=Heath                         \n",
      "correct=female   guess=male     name=Hedy                          \n",
      "correct=female   guess=male     name=Hephzibah                     \n",
      "correct=female   guess=male     name=Hope                          \n",
      "correct=female   guess=male     name=Judye                         \n",
      "correct=female   guess=male     name=Kore                          \n",
      "correct=female   guess=male     name=Kristen                       \n",
      "correct=female   guess=male     name=Mag                           \n",
      "correct=female   guess=male     name=Marigold                      \n",
      "correct=female   guess=male     name=Maureen                       \n",
      "correct=female   guess=male     name=Merry                         \n",
      "correct=female   guess=male     name=Noel                          \n",
      "correct=female   guess=male     name=Page                          \n",
      "correct=female   guess=male     name=Prissie                       \n",
      "correct=female   guess=male     name=Prudence                      \n",
      "correct=female   guess=male     name=Rhody                         \n",
      "correct=female   guess=male     name=Rochette                      \n",
      "correct=female   guess=male     name=Rosemary                      \n",
      "correct=female   guess=male     name=Ruthann                       \n",
      "correct=female   guess=male     name=Ruthe                         \n",
      "correct=female   guess=male     name=Ruthy                         \n",
      "correct=female   guess=male     name=Sharon                        \n",
      "correct=female   guess=male     name=Sharyl                        \n",
      "correct=female   guess=male     name=Sheelagh                      \n",
      "correct=female   guess=male     name=Sheryl                        \n",
      "correct=female   guess=male     name=Sigrid                        \n",
      "correct=female   guess=male     name=Sue                           \n",
      "correct=female   guess=male     name=Susan                         \n",
      "correct=female   guess=male     name=Suzzy                         \n",
      "correct=female   guess=male     name=Tarah                         \n",
      "correct=female   guess=male     name=Terrye                        \n",
      "correct=female   guess=male     name=Tiffy                         \n",
      "correct=female   guess=male     name=Tony                          \n",
      "correct=female   guess=male     name=Trix                          \n",
      "correct=female   guess=male     name=Wilie                         \n",
      "correct=female   guess=male     name=Willy                         \n",
      "correct=female   guess=male     name=Willyt                        \n",
      "correct=female   guess=male     name=Winny                         \n",
      "correct=female   guess=male     name=Yehudit                       \n",
      "correct=female   guess=male     name=Yoko                          \n",
      "correct=male     guess=female   name=Anselm                        \n",
      "correct=male     guess=female   name=Arnie                         \n",
      "correct=male     guess=female   name=Averill                       \n",
      "correct=male     guess=female   name=Barnabas                      \n",
      "correct=male     guess=female   name=Barrie                        \n",
      "correct=male     guess=female   name=Bay                           \n",
      "correct=male     guess=female   name=Blake                         \n",
      "correct=male     guess=female   name=Blayne                        \n",
      "correct=male     guess=female   name=Bubba                         \n",
      "correct=male     guess=female   name=Cary                          \n",
      "correct=male     guess=female   name=Caryl                         \n",
      "correct=male     guess=female   name=Christie                      \n",
      "correct=male     guess=female   name=Clement                       \n",
      "correct=male     guess=female   name=Clemente                      \n",
      "correct=male     guess=female   name=Clemmie                       \n",
      "correct=male     guess=female   name=Emil                          \n",
      "correct=male     guess=female   name=Esme                          \n",
      "correct=male     guess=female   name=Ezekiel                       \n",
      "correct=male     guess=female   name=Felix                         \n",
      "correct=male     guess=female   name=Fidel                         \n",
      "correct=male     guess=female   name=Frankie                       \n",
      "correct=male     guess=female   name=Gavin                         \n",
      "correct=male     guess=female   name=Gene                          \n",
      "correct=male     guess=female   name=Germaine                      \n",
      "correct=male     guess=female   name=Gill                          \n",
      "correct=male     guess=female   name=Granville                     \n",
      "correct=male     guess=female   name=Haley                         \n",
      "correct=male     guess=female   name=Jean-Paul                     \n",
      "correct=male     guess=female   name=Jere                          \n",
      "correct=male     guess=female   name=Jessie                        \n",
      "correct=male     guess=female   name=Joe                           \n",
      "correct=male     guess=female   name=Kermie                        \n",
      "correct=male     guess=female   name=Kimball                       \n",
      "correct=male     guess=female   name=Kristian                      \n",
      "correct=male     guess=female   name=Lamar                         \n",
      "correct=male     guess=female   name=Leigh                         \n",
      "correct=male     guess=female   name=Lorne                         \n",
      "correct=male     guess=female   name=Marten                        \n",
      "correct=male     guess=female   name=Matias                        \n",
      "correct=male     guess=female   name=Melvyn                        \n",
      "correct=male     guess=female   name=Mike                          \n",
      "correct=male     guess=female   name=Mitchael                      \n",
      "correct=male     guess=female   name=Nathanial                     \n",
      "correct=male     guess=female   name=Niall                         \n",
      "correct=male     guess=female   name=Pace                          \n",
      "correct=male     guess=female   name=Rafael                        \n",
      "correct=male     guess=female   name=Ransell                       \n",
      "correct=male     guess=female   name=Raphael                       \n",
      "correct=male     guess=female   name=Sansone                       \n",
      "correct=male     guess=female   name=Sullivan                      \n",
      "correct=male     guess=female   name=Tait                          \n",
      "correct=male     guess=female   name=Tonnie                        \n",
      "correct=male     guess=female   name=Tremaine                      \n",
      "correct=male     guess=female   name=Vladamir                      \n",
      "correct=male     guess=female   name=Zachariah                     \n"
     ]
    }
   ],
   "source": [
    "# print error results\n",
    "error_analysis(gender_features1)"
   ]
  },
  {
   "cell_type": "markdown",
   "metadata": {},
   "source": [
    "#### Gender Feature 2\n",
    "As discussed in the textbook and from common knowledge the list above makes it clear that some suffixes have more than one letter that can be suggestive of name genders. For example, names ending in `ie` appear to be mislabeled. The same can be said about prefixes as well. For example, names starting with `Do` is mostly female. Also, names starting with `Je` is generally males in the error list. "
   ]
  },
  {
   "cell_type": "code",
   "execution_count": 59,
   "metadata": {},
   "outputs": [
    {
     "name": "stdout",
     "output_type": "stream",
     "text": [
      "0.822\n"
     ]
    }
   ],
   "source": [
    "# define second version of gender features\n",
    "def gender_features2(name):\n",
    "    features = {}\n",
    "    features[\"first_letter\"] = name[0].lower()\n",
    "    features[\"last_letter\"] = name[-1].lower()\n",
    "    for letter in \"abcdefghijklmnopqrstuvwxyz\":\n",
    "        features[\"count({})\".format(letter)] = name.lower().count(letter)\n",
    "        features[\"has({})\".format(letter)] = (letter in name.lower())\n",
    "    features[\"suffix2\"] = name[-2:].lower()\n",
    "    features[\"suffix3\"] = name[-3:].lower()\n",
    "    features[\"prefix3\"] = name[:3].lower()\n",
    "    return features\n",
    "\n",
    "# train model and print accuracy score\n",
    "train_set = [(gender_features2(n), gender) for (n, gender) in train_names]\n",
    "devtest_set = [(gender_features2(n), gender) for (n, gender) in devtest_names]\n",
    "classifier = nltk.NaiveBayesClassifier.train(train_set)\n",
    "print(nltk.classify.accuracy(classifier, devtest_set))"
   ]
  },
  {
   "cell_type": "markdown",
   "metadata": {},
   "source": [
    "We see good improvement in our accuracy score. The number of errors has decreased as well. Let us see if we can improve our classifier even further. "
   ]
  },
  {
   "cell_type": "code",
   "execution_count": 60,
   "metadata": {},
   "outputs": [
    {
     "name": "stdout",
     "output_type": "stream",
     "text": [
      "Number of Errors:  89\n",
      "correct=female   guess=male     name=Avril                         \n",
      "correct=female   guess=male     name=Barry                         \n",
      "correct=female   guess=male     name=Chrysler                      \n",
      "correct=female   guess=male     name=Cody                          \n",
      "correct=female   guess=male     name=Darell                        \n",
      "correct=female   guess=male     name=Dawn                          \n",
      "correct=female   guess=male     name=Delores                       \n",
      "correct=female   guess=male     name=Demetris                      \n",
      "correct=female   guess=male     name=Diamond                       \n",
      "correct=female   guess=male     name=Dorey                         \n",
      "correct=female   guess=male     name=Ester                         \n",
      "correct=female   guess=male     name=Fawn                          \n",
      "correct=female   guess=male     name=Gredel                        \n",
      "correct=female   guess=male     name=Guinevere                     \n",
      "correct=female   guess=male     name=Gwen                          \n",
      "correct=female   guess=male     name=Gweneth                       \n",
      "correct=female   guess=male     name=Happy                         \n",
      "correct=female   guess=male     name=Hazel                         \n",
      "correct=female   guess=male     name=Heath                         \n",
      "correct=female   guess=male     name=Hedy                          \n",
      "correct=female   guess=male     name=Hephzibah                     \n",
      "correct=female   guess=male     name=Hope                          \n",
      "correct=female   guess=male     name=Judye                         \n",
      "correct=female   guess=male     name=Konstance                     \n",
      "correct=female   guess=male     name=Kristen                       \n",
      "correct=female   guess=male     name=Mag                           \n",
      "correct=female   guess=male     name=Mairead                       \n",
      "correct=female   guess=male     name=Marigold                      \n",
      "correct=female   guess=male     name=Merry                         \n",
      "correct=female   guess=male     name=Michell                       \n",
      "correct=female   guess=male     name=Milissent                     \n",
      "correct=female   guess=male     name=Murial                        \n",
      "correct=female   guess=male     name=Noel                          \n",
      "correct=female   guess=male     name=Page                          \n",
      "correct=female   guess=male     name=Paula-Grace                   \n",
      "correct=female   guess=male     name=Prudence                      \n",
      "correct=female   guess=male     name=Rhody                         \n",
      "correct=female   guess=male     name=Ruthann                       \n",
      "correct=female   guess=male     name=Ruthy                         \n",
      "correct=female   guess=male     name=Sharon                        \n",
      "correct=female   guess=male     name=Sheelagh                      \n",
      "correct=female   guess=male     name=Sheryl                        \n",
      "correct=female   guess=male     name=Sigrid                        \n",
      "correct=female   guess=male     name=Sue                           \n",
      "correct=female   guess=male     name=Susan                         \n",
      "correct=female   guess=male     name=Suzzy                         \n",
      "correct=female   guess=male     name=Tiffy                         \n",
      "correct=female   guess=male     name=Tony                          \n",
      "correct=female   guess=male     name=Trix                          \n",
      "correct=female   guess=male     name=Vere                          \n",
      "correct=female   guess=male     name=Wilie                         \n",
      "correct=female   guess=male     name=Willy                         \n",
      "correct=female   guess=male     name=Willyt                        \n",
      "correct=female   guess=male     name=Winny                         \n",
      "correct=female   guess=male     name=Yehudit                       \n",
      "correct=female   guess=male     name=Yoko                          \n",
      "correct=male     guess=female   name=Arnie                         \n",
      "correct=male     guess=female   name=Averill                       \n",
      "correct=male     guess=female   name=Barrie                        \n",
      "correct=male     guess=female   name=Blayne                        \n",
      "correct=male     guess=female   name=Bubba                         \n",
      "correct=male     guess=female   name=Cary                          \n",
      "correct=male     guess=female   name=Caryl                         \n",
      "correct=male     guess=female   name=Christie                      \n",
      "correct=male     guess=female   name=Clemente                      \n",
      "correct=male     guess=female   name=Clemmie                       \n",
      "correct=male     guess=female   name=Emil                          \n",
      "correct=male     guess=female   name=Esme                          \n",
      "correct=male     guess=female   name=Felix                         \n",
      "correct=male     guess=female   name=Fidel                         \n",
      "correct=male     guess=female   name=Frankie                       \n",
      "correct=male     guess=female   name=Gene                          \n",
      "correct=male     guess=female   name=Germaine                      \n",
      "correct=male     guess=female   name=Granville                     \n",
      "correct=male     guess=female   name=Helmuth                       \n",
      "correct=male     guess=female   name=Herculie                      \n",
      "correct=male     guess=female   name=Jessie                        \n",
      "correct=male     guess=female   name=Joe                           \n",
      "correct=male     guess=female   name=Kermie                        \n",
      "correct=male     guess=female   name=Kory                          \n",
      "correct=male     guess=female   name=Lorne                         \n",
      "correct=male     guess=female   name=Melvyn                        \n",
      "correct=male     guess=female   name=Mitchael                      \n",
      "correct=male     guess=female   name=Nathanial                     \n",
      "correct=male     guess=female   name=Rafael                        \n",
      "correct=male     guess=female   name=Sansone                       \n",
      "correct=male     guess=female   name=Tommie                        \n",
      "correct=male     guess=female   name=Tonnie                        \n",
      "correct=male     guess=female   name=Tremaine                      \n"
     ]
    }
   ],
   "source": [
    "# print error results\n",
    "error_analysis(gender_features2)"
   ]
  },
  {
   "cell_type": "markdown",
   "metadata": {},
   "source": [
    "#### Gender Feature 3\n",
    "For our last gender feature, we play around with few more numbers of prefixes and suffixes to yield the best accuracy score possible. We also notice `yn` is very indicative of female gender, so we implement that feature as well."
   ]
  },
  {
   "cell_type": "code",
   "execution_count": 61,
   "metadata": {},
   "outputs": [
    {
     "name": "stdout",
     "output_type": "stream",
     "text": [
      "0.834\n"
     ]
    }
   ],
   "source": [
    "# define third version of gender features\n",
    "def gender_features3(name):\n",
    "    features = {}\n",
    "    features[\"first_letter\"] = name[0].lower()\n",
    "    features[\"last_letter\"] = name[-1].lower()\n",
    "    for letter in \"abcdefghijklmnopqrstuvwxyz\":\n",
    "        features[\"count({})\".format(letter)] = name.lower().count(letter)\n",
    "        features[\"has({})\".format(letter)] = (letter in name.lower())\n",
    "    features[\"suffix2\"] = name[-2:].lower()\n",
    "    features[\"suffix3\"] = name[-3:].lower()\n",
    "    features[\"suffix4\"] = name[-4:].lower()\n",
    "    features[\"prefix3\"] = name[:3].lower()\n",
    "    features[\"prefix4\"] = name[:4].lower()\n",
    "    features[\"has_yn\"] = \"yn\" in name\n",
    "    return features\n",
    "\n",
    "# train model and print accuracy score\n",
    "train_set = [(gender_features3(n), gender) for (n, gender) in train_names]\n",
    "devtest_set = [(gender_features3(n), gender) for (n, gender) in devtest_names]\n",
    "classifier = nltk.NaiveBayesClassifier.train(train_set)\n",
    "print(nltk.classify.accuracy(classifier, devtest_set))"
   ]
  },
  {
   "cell_type": "markdown",
   "metadata": {},
   "source": [
    "The resulting score is the best yet. We will test the classifier with `gender_features3()` on our unseen data. "
   ]
  },
  {
   "cell_type": "code",
   "execution_count": 62,
   "metadata": {},
   "outputs": [
    {
     "name": "stdout",
     "output_type": "stream",
     "text": [
      "Number of Errors:  83\n",
      "correct=female   guess=male     name=Adrien                        \n",
      "correct=female   guess=male     name=Avril                         \n",
      "correct=female   guess=male     name=Barry                         \n",
      "correct=female   guess=male     name=Chrysler                      \n",
      "correct=female   guess=male     name=Cody                          \n",
      "correct=female   guess=male     name=Darell                        \n",
      "correct=female   guess=male     name=Dawn                          \n",
      "correct=female   guess=male     name=Delores                       \n",
      "correct=female   guess=male     name=Demetris                      \n",
      "correct=female   guess=male     name=Diamond                       \n",
      "correct=female   guess=male     name=Dory                          \n",
      "correct=female   guess=male     name=Ester                         \n",
      "correct=female   guess=male     name=Ethyl                         \n",
      "correct=female   guess=male     name=Eve                           \n",
      "correct=female   guess=male     name=Gredel                        \n",
      "correct=female   guess=male     name=Gwen                          \n",
      "correct=female   guess=male     name=Happy                         \n",
      "correct=female   guess=male     name=Hazel                         \n",
      "correct=female   guess=male     name=Heath                         \n",
      "correct=female   guess=male     name=Hedy                          \n",
      "correct=female   guess=male     name=Hephzibah                     \n",
      "correct=female   guess=male     name=Hope                          \n",
      "correct=female   guess=male     name=Judye                         \n",
      "correct=female   guess=male     name=Konstance                     \n",
      "correct=female   guess=male     name=Kristen                       \n",
      "correct=female   guess=male     name=Lin                           \n",
      "correct=female   guess=male     name=Mag                           \n",
      "correct=female   guess=male     name=Marigold                      \n",
      "correct=female   guess=male     name=Maxi                          \n",
      "correct=female   guess=male     name=Merry                         \n",
      "correct=female   guess=male     name=Michell                       \n",
      "correct=female   guess=male     name=Noel                          \n",
      "correct=female   guess=male     name=Page                          \n",
      "correct=female   guess=male     name=Paula-Grace                   \n",
      "correct=female   guess=male     name=Prudence                      \n",
      "correct=female   guess=male     name=Rhody                         \n",
      "correct=female   guess=male     name=Ruthann                       \n",
      "correct=female   guess=male     name=Ruthy                         \n",
      "correct=female   guess=male     name=Sharon                        \n",
      "correct=female   guess=male     name=Sigrid                        \n",
      "correct=female   guess=male     name=Sue                           \n",
      "correct=female   guess=male     name=Suzzy                         \n",
      "correct=female   guess=male     name=Tiffy                         \n",
      "correct=female   guess=male     name=Tony                          \n",
      "correct=female   guess=male     name=Willy                         \n",
      "correct=female   guess=male     name=Willyt                        \n",
      "correct=female   guess=male     name=Winny                         \n",
      "correct=female   guess=male     name=Yehudit                       \n",
      "correct=female   guess=male     name=Yoko                          \n",
      "correct=male     guess=female   name=Arnie                         \n",
      "correct=male     guess=female   name=Barrie                        \n",
      "correct=male     guess=female   name=Blake                         \n",
      "correct=male     guess=female   name=Blayne                        \n",
      "correct=male     guess=female   name=Bubba                         \n",
      "correct=male     guess=female   name=Cary                          \n",
      "correct=male     guess=female   name=Caryl                         \n",
      "correct=male     guess=female   name=Christie                      \n",
      "correct=male     guess=female   name=Clemente                      \n",
      "correct=male     guess=female   name=Clemmie                       \n",
      "correct=male     guess=female   name=Emil                          \n",
      "correct=male     guess=female   name=Esme                          \n",
      "correct=male     guess=female   name=Felix                         \n",
      "correct=male     guess=female   name=Fidel                         \n",
      "correct=male     guess=female   name=Frankie                       \n",
      "correct=male     guess=female   name=Gene                          \n",
      "correct=male     guess=female   name=Germaine                      \n",
      "correct=male     guess=female   name=Gill                          \n",
      "correct=male     guess=female   name=Granville                     \n",
      "correct=male     guess=female   name=Haley                         \n",
      "correct=male     guess=female   name=Jessie                        \n",
      "correct=male     guess=female   name=Joel                          \n",
      "correct=male     guess=female   name=Kermie                        \n",
      "correct=male     guess=female   name=Kimball                       \n",
      "correct=male     guess=female   name=Kory                          \n",
      "correct=male     guess=female   name=Melvyn                        \n",
      "correct=male     guess=female   name=Nathanial                     \n",
      "correct=male     guess=female   name=Rafael                        \n",
      "correct=male     guess=female   name=Raphael                       \n",
      "correct=male     guess=female   name=Rory                          \n",
      "correct=male     guess=female   name=Tobe                          \n",
      "correct=male     guess=female   name=Tommie                        \n",
      "correct=male     guess=female   name=Tonnie                        \n",
      "correct=male     guess=female   name=Tremaine                      \n"
     ]
    }
   ],
   "source": [
    "# print error results\n",
    "error_analysis(gender_features3)"
   ]
  },
  {
   "cell_type": "code",
   "execution_count": 63,
   "metadata": {},
   "outputs": [
    {
     "name": "stdout",
     "output_type": "stream",
     "text": [
      "0.83\n"
     ]
    }
   ],
   "source": [
    "# final performance test\n",
    "test_set = [(gender_features3(n), gender) for (n, gender) in test_names]\n",
    "print(nltk.classify.accuracy(classifier, test_set))"
   ]
  },
  {
   "cell_type": "markdown",
   "metadata": {},
   "source": [
    "### Conclusion\n",
    "The performance on the test set is on par with the performance on the dev-test set. We did not expect much improvement."
   ]
  }
 ],
 "metadata": {
  "kernelspec": {
   "display_name": "Python 3",
   "language": "python",
   "name": "python3"
  },
  "language_info": {
   "codemirror_mode": {
    "name": "ipython",
    "version": 3
   },
   "file_extension": ".py",
   "mimetype": "text/x-python",
   "name": "python",
   "nbconvert_exporter": "python",
   "pygments_lexer": "ipython3",
   "version": "3.7.3"
  }
 },
 "nbformat": 4,
 "nbformat_minor": 2
}
