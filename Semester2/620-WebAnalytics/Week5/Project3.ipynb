{
 "cells": [
  {
   "cell_type": "markdown",
   "metadata": {},
   "source": [
    "### DATA 620\n",
    "#### Project 3   \n",
    "### [Video Presentation]()\n",
    "##### Group Four\n",
    "- Santosh Cheruku\n",
    "- Vinicio Haro\n",
    "- Javern Wilson\n",
    "- Saayed Alam  "
   ]
  },
  {
   "cell_type": "code",
   "execution_count": 1,
   "metadata": {},
   "outputs": [],
   "source": [
    "# load libraries\n",
    "import nltk\n",
    "from nltk.corpus import names\n",
    "import random"
   ]
  },
  {
   "cell_type": "markdown",
   "metadata": {},
   "source": [
    "### Introduction\n",
    "In this assignment, we will work with naive Bayes classifiers to build a name gender classifier. We will select relevant features as we go along to improve the accuracy of our classifier. Deciding on relevant features for a classifier can have an enormous impact on the classifier's ability to extract a good model."
   ]
  },
  {
   "cell_type": "code",
   "execution_count": 2,
   "metadata": {},
   "outputs": [],
   "source": [
    "# load names from nltk library\n",
    "labeled_names = ([(name, \"male\") for name in names.words(\"male.txt\")] + \n",
    "                 [(name, \"female\") for name in names.words(\"female.txt\")])\n",
    "\n",
    "# random shuffle the names\n",
    "random.shuffle(labeled_names)"
   ]
  },
  {
   "cell_type": "markdown",
   "metadata": {},
   "source": [
    "### Data Preparation\n",
    "We begin by splitting the names courpus into three subsets: 500 words for the test set, 500 words for the dev-test set, and the remaining 6900 words for the training set. The training set is used to train the model, and the dev-test set is used to perform error analysis. The test set serves in our final evaluation of the classifier."
   ]
  },
  {
   "cell_type": "code",
   "execution_count": 3,
   "metadata": {},
   "outputs": [],
   "source": [
    "# split data into three subsets\n",
    "train_names = labeled_names[1500:]\n",
    "devtest_names = labeled_names[500:1000]\n",
    "test_names = labeled_names[:500]"
   ]
  },
  {
   "cell_type": "markdown",
   "metadata": {},
   "source": [
    "Using the dev-test set, we can generate a list of the errors that the classifier makes when predicting name genders. We will build a function to generate the error list with the number of errors."
   ]
  },
  {
   "cell_type": "code",
   "execution_count": 4,
   "metadata": {},
   "outputs": [],
   "source": [
    "# define error analysis function\n",
    "def error_analysis(gender_features):\n",
    "    # error list\n",
    "    errors = []\n",
    "    # extract mislabels\n",
    "    for (name, tag) in devtest_names:\n",
    "        guess = classifier.classify(gender_features(name))\n",
    "        if guess != tag:\n",
    "            errors.append((tag, guess, name))\n",
    "    print(\"Number of Errors: \", len(errors))\n",
    "    # print the errors\n",
    "    for (tag, guess, name) in sorted(errors):\n",
    "        print('correct={:<8} guess={:<8s} name={:<30}'.format(tag, guess, name))"
   ]
  },
  {
   "cell_type": "markdown",
   "metadata": {},
   "source": [
    "### Feature Engineering\n",
    "#### Gender Feature 1\n",
    "Our first feature function is a the example from the textbook. It classifies name based on the number of English alphabets and for that reason it overfits gender features. However, we will start with this function as benchmark and add or remove features to improve our classifier."
   ]
  },
  {
   "cell_type": "code",
   "execution_count": 5,
   "metadata": {},
   "outputs": [
    {
     "name": "stdout",
     "output_type": "stream",
     "text": [
      "0.776\n"
     ]
    }
   ],
   "source": [
    "# define first version of gender features\n",
    "def gender_features1(name):\n",
    "    features = {}\n",
    "    features[\"first_letter\"] = name[0].lower()\n",
    "    features[\"last_letter\"] = name[-1].lower()\n",
    "    for letter in \"abcdefghijklmnopqrstuvwxyz\":\n",
    "        features[\"count({})\".format(letter)] = name.lower().count(letter)\n",
    "        features[\"has({})\".format(letter)] = (letter in name.lower())\n",
    "    return features\n",
    "\n",
    "# train model and print accuracy score\n",
    "train_set = [(gender_features1(n), gender) for (n, gender) in train_names]\n",
    "devtest_set = [(gender_features1(n), gender) for (n, gender) in devtest_names]\n",
    "classifier = nltk.NaiveBayesClassifier.train(train_set)\n",
    "print(nltk.classify.accuracy(classifier, devtest_set))"
   ]
  },
  {
   "cell_type": "markdown",
   "metadata": {},
   "source": [
    " As expected, our first classifier score matches the one from the textbook. We will improve it."
   ]
  },
  {
   "cell_type": "code",
   "execution_count": 6,
   "metadata": {},
   "outputs": [
    {
     "name": "stdout",
     "output_type": "stream",
     "text": [
      "Number of Errors:  112\n",
      "correct=female   guess=male     name=Audy                          \n",
      "correct=female   guess=male     name=Berte                         \n",
      "correct=female   guess=male     name=Biddy                         \n",
      "correct=female   guess=male     name=Cloris                        \n",
      "correct=female   guess=male     name=Coreen                        \n",
      "correct=female   guess=male     name=Doll                          \n",
      "correct=female   guess=male     name=Dorry                         \n",
      "correct=female   guess=male     name=Dove                          \n",
      "correct=female   guess=male     name=Dusty                         \n",
      "correct=female   guess=male     name=Elsbeth                       \n",
      "correct=female   guess=male     name=Enid                          \n",
      "correct=female   guess=male     name=Fortune                       \n",
      "correct=female   guess=male     name=Gertrude                      \n",
      "correct=female   guess=male     name=Gretal                        \n",
      "correct=female   guess=male     name=Guenevere                     \n",
      "correct=female   guess=male     name=Gwenora                       \n",
      "correct=female   guess=male     name=Jude                          \n",
      "correct=female   guess=male     name=Kore                          \n",
      "correct=female   guess=male     name=Lucy                          \n",
      "correct=female   guess=male     name=Marylou                       \n",
      "correct=female   guess=male     name=Morgen                        \n",
      "correct=female   guess=male     name=Pat                           \n",
      "correct=female   guess=male     name=Pen                           \n",
      "correct=female   guess=male     name=Perry                         \n",
      "correct=female   guess=male     name=Phylys                        \n",
      "correct=female   guess=male     name=Rebekah                       \n",
      "correct=female   guess=male     name=Rosalind                      \n",
      "correct=female   guess=male     name=Rose                          \n",
      "correct=female   guess=male     name=Roxi                          \n",
      "correct=female   guess=male     name=Sapphire                      \n",
      "correct=female   guess=male     name=Shawn                         \n",
      "correct=female   guess=male     name=Shelagh                       \n",
      "correct=female   guess=male     name=Sophie                        \n",
      "correct=female   guess=male     name=Tamar                         \n",
      "correct=female   guess=male     name=Terry                         \n",
      "correct=female   guess=male     name=Teryl                         \n",
      "correct=female   guess=male     name=Tiffany                       \n",
      "correct=female   guess=male     name=Tobi                          \n",
      "correct=female   guess=male     name=Tomiko                        \n",
      "correct=female   guess=male     name=Torey                         \n",
      "correct=female   guess=male     name=Tori                          \n",
      "correct=female   guess=male     name=Tove                          \n",
      "correct=female   guess=male     name=Trixy                         \n",
      "correct=female   guess=male     name=Windy                         \n",
      "correct=female   guess=male     name=Wynnie                        \n",
      "correct=male     guess=female   name=Abel                          \n",
      "correct=male     guess=female   name=Al                            \n",
      "correct=male     guess=female   name=Aldis                         \n",
      "correct=male     guess=female   name=Aleksandrs                    \n",
      "correct=male     guess=female   name=Ansell                        \n",
      "correct=male     guess=female   name=Antoni                        \n",
      "correct=male     guess=female   name=Ashish                        \n",
      "correct=male     guess=female   name=Bealle                        \n",
      "correct=male     guess=female   name=Bentley                       \n",
      "correct=male     guess=female   name=Carlyle                       \n",
      "correct=male     guess=female   name=Chaddie                       \n",
      "correct=male     guess=female   name=Chase                         \n",
      "correct=male     guess=female   name=Chrissy                       \n",
      "correct=male     guess=female   name=Clancy                        \n",
      "correct=male     guess=female   name=Clare                         \n",
      "correct=male     guess=female   name=Clemens                       \n",
      "correct=male     guess=female   name=Daniel                        \n",
      "correct=male     guess=female   name=Davide                        \n",
      "correct=male     guess=female   name=Dennie                        \n",
      "correct=male     guess=female   name=Dickey                        \n",
      "correct=male     guess=female   name=Donnie                        \n",
      "correct=male     guess=female   name=Doyle                         \n",
      "correct=male     guess=female   name=Duane                         \n",
      "correct=male     guess=female   name=Elisha                        \n",
      "correct=male     guess=female   name=Ervin                         \n",
      "correct=male     guess=female   name=Ezra                          \n",
      "correct=male     guess=female   name=Fazeel                        \n",
      "correct=male     guess=female   name=Flynn                         \n",
      "correct=male     guess=female   name=Gabriell                      \n",
      "correct=male     guess=female   name=Hale                          \n",
      "correct=male     guess=female   name=Haleigh                       \n",
      "correct=male     guess=female   name=Haley                         \n",
      "correct=male     guess=female   name=Iggy                          \n",
      "correct=male     guess=female   name=Ingamar                       \n",
      "correct=male     guess=female   name=Jean-Lou                      \n",
      "correct=male     guess=female   name=Jeremiah                      \n",
      "correct=male     guess=female   name=Jermain                       \n",
      "correct=male     guess=female   name=Julie                         \n",
      "correct=male     guess=female   name=Kalvin                        \n",
      "correct=male     guess=female   name=Kermie                        \n",
      "correct=male     guess=female   name=Lane                          \n",
      "correct=male     guess=female   name=Laurie                        \n",
      "correct=male     guess=female   name=Lazare                        \n",
      "correct=male     guess=female   name=Leon                          \n",
      "correct=male     guess=female   name=Mace                          \n",
      "correct=male     guess=female   name=Maddie                        \n",
      "correct=male     guess=female   name=Manny                         \n",
      "correct=male     guess=female   name=Martie                        \n",
      "correct=male     guess=female   name=Matty                         \n",
      "correct=male     guess=female   name=Maurie                        \n",
      "correct=male     guess=female   name=Maxie                         \n",
      "correct=male     guess=female   name=Michale                       \n",
      "correct=male     guess=female   name=Nickolas                      \n",
      "correct=male     guess=female   name=Noble                         \n",
      "correct=male     guess=female   name=Ole                           \n",
      "correct=male     guess=female   name=Ozzie                         \n",
      "correct=male     guess=female   name=Prentice                      \n",
      "correct=male     guess=female   name=Randal                        \n",
      "correct=male     guess=female   name=Shayne                        \n",
      "correct=male     guess=female   name=Stanley                       \n",
      "correct=male     guess=female   name=Stillman                      \n",
      "correct=male     guess=female   name=Sydney                        \n",
      "correct=male     guess=female   name=Tanny                         \n",
      "correct=male     guess=female   name=Thaine                        \n",
      "correct=male     guess=female   name=Vaclav                        \n",
      "correct=male     guess=female   name=Vassili                       \n",
      "correct=male     guess=female   name=Virgie                        \n"
     ]
    }
   ],
   "source": [
    "# print error results\n",
    "error_analysis(gender_features1)"
   ]
  },
  {
   "cell_type": "markdown",
   "metadata": {},
   "source": [
    "#### Gender Feature 2\n",
    "As discussed in the textbook and from common knowledge the list above makes it clear that some suffixes have more than one letter that can be suggestive of name genders. For example, names ending in `ie` appear to be mislabeled. The same can be said about prefixes as well. For example, names starting with `Do` is mostly female. Also, names starting with `Je` is generally males in the error list. "
   ]
  },
  {
   "cell_type": "code",
   "execution_count": 7,
   "metadata": {},
   "outputs": [
    {
     "name": "stdout",
     "output_type": "stream",
     "text": [
      "0.818\n"
     ]
    }
   ],
   "source": [
    "# define second version of gender features\n",
    "def gender_features2(name):\n",
    "    features = {}\n",
    "    features[\"first_letter\"] = name[0].lower()\n",
    "    features[\"last_letter\"] = name[-1].lower()\n",
    "    for letter in \"abcdefghijklmnopqrstuvwxyz\":\n",
    "        features[\"count({})\".format(letter)] = name.lower().count(letter)\n",
    "        features[\"has({})\".format(letter)] = (letter in name.lower())\n",
    "    features[\"suffix2\"] = name[-2:].lower()\n",
    "    features[\"suffix3\"] = name[-3:].lower()\n",
    "    features[\"prefix3\"] = name[:3].lower()\n",
    "    return features\n",
    "\n",
    "# train model and print accuracy score\n",
    "train_set = [(gender_features2(n), gender) for (n, gender) in train_names]\n",
    "devtest_set = [(gender_features2(n), gender) for (n, gender) in devtest_names]\n",
    "classifier = nltk.NaiveBayesClassifier.train(train_set)\n",
    "print(nltk.classify.accuracy(classifier, devtest_set))"
   ]
  },
  {
   "cell_type": "markdown",
   "metadata": {},
   "source": [
    "We see good improvement in our accuracy score. The number of errors has decreased as well. Let us see if we can improve our classifier even further. "
   ]
  },
  {
   "cell_type": "code",
   "execution_count": 8,
   "metadata": {},
   "outputs": [
    {
     "name": "stdout",
     "output_type": "stream",
     "text": [
      "Number of Errors:  91\n",
      "correct=female   guess=male     name=Adore                         \n",
      "correct=female   guess=male     name=Andromache                    \n",
      "correct=female   guess=male     name=Biddy                         \n",
      "correct=female   guess=male     name=Dorry                         \n",
      "correct=female   guess=male     name=Dove                          \n",
      "correct=female   guess=male     name=Dusty                         \n",
      "correct=female   guess=male     name=Emmey                         \n",
      "correct=female   guess=male     name=Enid                          \n",
      "correct=female   guess=male     name=Fortune                       \n",
      "correct=female   guess=male     name=Gertrude                      \n",
      "correct=female   guess=male     name=Guenevere                     \n",
      "correct=female   guess=male     name=Ikey                          \n",
      "correct=female   guess=male     name=Ivy                           \n",
      "correct=female   guess=male     name=Jude                          \n",
      "correct=female   guess=male     name=Lind                          \n",
      "correct=female   guess=male     name=Lucy                          \n",
      "correct=female   guess=male     name=Manon                         \n",
      "correct=female   guess=male     name=Marylou                       \n",
      "correct=female   guess=male     name=Max                           \n",
      "correct=female   guess=male     name=Morgen                        \n",
      "correct=female   guess=male     name=Murial                        \n",
      "correct=female   guess=male     name=Pat                           \n",
      "correct=female   guess=male     name=Pen                           \n",
      "correct=female   guess=male     name=Pepi                          \n",
      "correct=female   guess=male     name=Perry                         \n",
      "correct=female   guess=male     name=Ray                           \n",
      "correct=female   guess=male     name=Renell                        \n",
      "correct=female   guess=male     name=Rosalind                      \n",
      "correct=female   guess=male     name=Rose                          \n",
      "correct=female   guess=male     name=Shannen                       \n",
      "correct=female   guess=male     name=Shawn                         \n",
      "correct=female   guess=male     name=Shelagh                       \n",
      "correct=female   guess=male     name=Tamar                         \n",
      "correct=female   guess=male     name=Terry                         \n",
      "correct=female   guess=male     name=Teryl                         \n",
      "correct=female   guess=male     name=Tomiko                        \n",
      "correct=female   guess=male     name=Torey                         \n",
      "correct=female   guess=male     name=Tove                          \n",
      "correct=female   guess=male     name=Vicky                         \n",
      "correct=female   guess=male     name=Wallie                        \n",
      "correct=female   guess=male     name=Windy                         \n",
      "correct=female   guess=male     name=Wynnie                        \n",
      "correct=male     guess=female   name=Abel                          \n",
      "correct=male     guess=female   name=Al                            \n",
      "correct=male     guess=female   name=Aldis                         \n",
      "correct=male     guess=female   name=Ansell                        \n",
      "correct=male     guess=female   name=Antoni                        \n",
      "correct=male     guess=female   name=Bealle                        \n",
      "correct=male     guess=female   name=Carlyle                       \n",
      "correct=male     guess=female   name=Chaddie                       \n",
      "correct=male     guess=female   name=Chase                         \n",
      "correct=male     guess=female   name=Chrissy                       \n",
      "correct=male     guess=female   name=Clancy                        \n",
      "correct=male     guess=female   name=Clare                         \n",
      "correct=male     guess=female   name=Daniel                        \n",
      "correct=male     guess=female   name=Davide                        \n",
      "correct=male     guess=female   name=Dennie                        \n",
      "correct=male     guess=female   name=Donnie                        \n",
      "correct=male     guess=female   name=Doyle                         \n",
      "correct=male     guess=female   name=Duane                         \n",
      "correct=male     guess=female   name=Elisha                        \n",
      "correct=male     guess=female   name=Ezra                          \n",
      "correct=male     guess=female   name=Flynn                         \n",
      "correct=male     guess=female   name=Gabriell                      \n",
      "correct=male     guess=female   name=Hale                          \n",
      "correct=male     guess=female   name=Haley                         \n",
      "correct=male     guess=female   name=Iggy                          \n",
      "correct=male     guess=female   name=Jeremiah                      \n",
      "correct=male     guess=female   name=Julie                         \n",
      "correct=male     guess=female   name=Kermie                        \n",
      "correct=male     guess=female   name=Lane                          \n",
      "correct=male     guess=female   name=Laurie                        \n",
      "correct=male     guess=female   name=Lazare                        \n",
      "correct=male     guess=female   name=Maddie                        \n",
      "correct=male     guess=female   name=Manny                         \n",
      "correct=male     guess=female   name=Martie                        \n",
      "correct=male     guess=female   name=Matty                         \n",
      "correct=male     guess=female   name=Maurie                        \n",
      "correct=male     guess=female   name=Maxie                         \n",
      "correct=male     guess=female   name=Michale                       \n",
      "correct=male     guess=female   name=Noble                         \n",
      "correct=male     guess=female   name=Ole                           \n",
      "correct=male     guess=female   name=Ozzie                         \n",
      "correct=male     guess=female   name=Shayne                        \n",
      "correct=male     guess=female   name=Sydney                        \n",
      "correct=male     guess=female   name=Tanny                         \n",
      "correct=male     guess=female   name=Thaine                        \n",
      "correct=male     guess=female   name=Vaclav                        \n",
      "correct=male     guess=female   name=Vassili                       \n",
      "correct=male     guess=female   name=Virgie                        \n",
      "correct=male     guess=female   name=Waine                         \n"
     ]
    }
   ],
   "source": [
    "# print error results\n",
    "error_analysis(gender_features2)"
   ]
  },
  {
   "cell_type": "markdown",
   "metadata": {},
   "source": [
    "#### Gender Feature 3\n",
    "For our last gender feature, we play around with few more numbers of prefixes and suffixes to yield the best accuracy score possible. We also notice `yn` is very indicative of female gender, so we implement that feature as well."
   ]
  },
  {
   "cell_type": "code",
   "execution_count": 9,
   "metadata": {},
   "outputs": [
    {
     "name": "stdout",
     "output_type": "stream",
     "text": [
      "0.848\n"
     ]
    }
   ],
   "source": [
    "# define third version of gender features\n",
    "def gender_features3(name):\n",
    "    features = {}\n",
    "    features[\"first_letter\"] = name[0].lower()\n",
    "    features[\"last_letter\"] = name[-1].lower()\n",
    "    for letter in \"abcdefghijklmnopqrstuvwxyz\":\n",
    "        features[\"count({})\".format(letter)] = name.lower().count(letter)\n",
    "        features[\"has({})\".format(letter)] = (letter in name.lower())\n",
    "    features[\"suffix2\"] = name[-2:].lower()\n",
    "    features[\"suffix3\"] = name[-3:].lower()\n",
    "    features[\"suffix4\"] = name[-4:].lower()\n",
    "    features[\"prefix3\"] = name[:3].lower()\n",
    "    features[\"prefix4\"] = name[:4].lower()\n",
    "    features[\"has_yn\"] = \"yn\" in name\n",
    "    return features\n",
    "\n",
    "# train model and print accuracy score\n",
    "train_set = [(gender_features3(n), gender) for (n, gender) in train_names]\n",
    "devtest_set = [(gender_features3(n), gender) for (n, gender) in devtest_names]\n",
    "classifier = nltk.NaiveBayesClassifier.train(train_set)\n",
    "print(nltk.classify.accuracy(classifier, devtest_set))"
   ]
  },
  {
   "cell_type": "markdown",
   "metadata": {},
   "source": [
    "The resulting score is the best yet. We will test the classifier with `gender_features3()` on our unseen data. "
   ]
  },
  {
   "cell_type": "code",
   "execution_count": 10,
   "metadata": {},
   "outputs": [
    {
     "name": "stdout",
     "output_type": "stream",
     "text": [
      "Number of Errors:  76\n",
      "correct=female   guess=male     name=Adore                         \n",
      "correct=female   guess=male     name=Andromache                    \n",
      "correct=female   guess=male     name=Biddy                         \n",
      "correct=female   guess=male     name=Chandal                       \n",
      "correct=female   guess=male     name=Dove                          \n",
      "correct=female   guess=male     name=Dusty                         \n",
      "correct=female   guess=male     name=Emmey                         \n",
      "correct=female   guess=male     name=Enid                          \n",
      "correct=female   guess=male     name=Fortune                       \n",
      "correct=female   guess=male     name=Ikey                          \n",
      "correct=female   guess=male     name=Ivy                           \n",
      "correct=female   guess=male     name=Jude                          \n",
      "correct=female   guess=male     name=Lind                          \n",
      "correct=female   guess=male     name=Lucy                          \n",
      "correct=female   guess=male     name=Manon                         \n",
      "correct=female   guess=male     name=Max                           \n",
      "correct=female   guess=male     name=Meryl                         \n",
      "correct=female   guess=male     name=Morgen                        \n",
      "correct=female   guess=male     name=Murial                        \n",
      "correct=female   guess=male     name=Pat                           \n",
      "correct=female   guess=male     name=Pen                           \n",
      "correct=female   guess=male     name=Pepi                          \n",
      "correct=female   guess=male     name=Perry                         \n",
      "correct=female   guess=male     name=Ray                           \n",
      "correct=female   guess=male     name=Shannen                       \n",
      "correct=female   guess=male     name=Shawn                         \n",
      "correct=female   guess=male     name=Shelagh                       \n",
      "correct=female   guess=male     name=Tamar                         \n",
      "correct=female   guess=male     name=Terry                         \n",
      "correct=female   guess=male     name=Teryl                         \n",
      "correct=female   guess=male     name=Tobi                          \n",
      "correct=female   guess=male     name=Tomiko                        \n",
      "correct=female   guess=male     name=Torey                         \n",
      "correct=female   guess=male     name=Tori                          \n",
      "correct=female   guess=male     name=Tove                          \n",
      "correct=female   guess=male     name=Wallie                        \n",
      "correct=female   guess=male     name=Windy                         \n",
      "correct=male     guess=female   name=Abel                          \n",
      "correct=male     guess=female   name=Anthony                       \n",
      "correct=male     guess=female   name=Antoni                        \n",
      "correct=male     guess=female   name=Bealle                        \n",
      "correct=male     guess=female   name=Carlyle                       \n",
      "correct=male     guess=female   name=Chaddie                       \n",
      "correct=male     guess=female   name=Chrissy                       \n",
      "correct=male     guess=female   name=Clancy                        \n",
      "correct=male     guess=female   name=Clare                         \n",
      "correct=male     guess=female   name=Cory                          \n",
      "correct=male     guess=female   name=Daniel                        \n",
      "correct=male     guess=female   name=Davide                        \n",
      "correct=male     guess=female   name=Dennie                        \n",
      "correct=male     guess=female   name=Donnie                        \n",
      "correct=male     guess=female   name=Duane                         \n",
      "correct=male     guess=female   name=Elisha                        \n",
      "correct=male     guess=female   name=Ezra                          \n",
      "correct=male     guess=female   name=Flynn                         \n",
      "correct=male     guess=female   name=Gabriell                      \n",
      "correct=male     guess=female   name=Hale                          \n",
      "correct=male     guess=female   name=Haley                         \n",
      "correct=male     guess=female   name=Julie                         \n",
      "correct=male     guess=female   name=Kermie                        \n",
      "correct=male     guess=female   name=Lane                          \n",
      "correct=male     guess=female   name=Laurie                        \n",
      "correct=male     guess=female   name=Maddie                        \n",
      "correct=male     guess=female   name=Manny                         \n",
      "correct=male     guess=female   name=Martie                        \n",
      "correct=male     guess=female   name=Maurie                        \n",
      "correct=male     guess=female   name=Maxie                         \n",
      "correct=male     guess=female   name=Michale                       \n",
      "correct=male     guess=female   name=Noble                         \n",
      "correct=male     guess=female   name=Ole                           \n",
      "correct=male     guess=female   name=Ozzie                         \n",
      "correct=male     guess=female   name=Shayne                        \n",
      "correct=male     guess=female   name=Sydney                        \n",
      "correct=male     guess=female   name=Thaine                        \n",
      "correct=male     guess=female   name=Vassili                       \n",
      "correct=male     guess=female   name=Virgie                        \n"
     ]
    }
   ],
   "source": [
    "# print error results\n",
    "error_analysis(gender_features3)"
   ]
  },
  {
   "cell_type": "markdown",
   "metadata": {},
   "source": [
    "### Conclusion\n",
    "The performance on the test set is 1% better than the performance on the dev-test set. We did not expect so much improvement. By random chance, the test set has names that adheres to our gender features more than the dev-test set."
   ]
  },
  {
   "cell_type": "code",
   "execution_count": 11,
   "metadata": {},
   "outputs": [
    {
     "name": "stdout",
     "output_type": "stream",
     "text": [
      "0.836\n"
     ]
    }
   ],
   "source": [
    "# final performance test\n",
    "test_set = [(gender_features3(n), gender) for (n, gender) in test_names]\n",
    "print(nltk.classify.accuracy(classifier, test_set))"
   ]
  }
 ],
 "metadata": {
  "kernelspec": {
   "display_name": "Python 3",
   "language": "python",
   "name": "python3"
  },
  "language_info": {
   "codemirror_mode": {
    "name": "ipython",
    "version": 3
   },
   "file_extension": ".py",
   "mimetype": "text/x-python",
   "name": "python",
   "nbconvert_exporter": "python",
   "pygments_lexer": "ipython3",
   "version": "3.7.3"
  }
 },
 "nbformat": 4,
 "nbformat_minor": 2
}
