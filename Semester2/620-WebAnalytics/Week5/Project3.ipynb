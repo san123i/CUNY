{
 "cells": [
  {
   "cell_type": "markdown",
   "metadata": {},
   "source": [
    "### DATA 620\n",
    "#### Project 3   \n",
    "### [Video Presentation]()\n",
    "##### Group Four\n",
    "- Santosh Cheruku\n",
    "- Vinicio Haro\n",
    "- Javern Wilson\n",
    "- Saayed Alam  "
   ]
  },
  {
   "cell_type": "code",
   "execution_count": 15,
   "metadata": {},
   "outputs": [],
   "source": [
    "# load libraries\n",
    "import nltk\n",
    "from nltk.corpus import names\n",
    "import random"
   ]
  },
  {
   "cell_type": "markdown",
   "metadata": {},
   "source": [
    "### Introduction\n",
    "In this assignment, we will work with naive Bayes classifiers to build a name gender classifier. We will select relevant features as we go along to improve the accuracy of our classifier. Deciding on relevant features for a classifier can have an enormous impact on the classifier's ability to extract a good model."
   ]
  },
  {
   "cell_type": "code",
   "execution_count": 16,
   "metadata": {},
   "outputs": [],
   "source": [
    "# load names from nltk library\n",
    "labeled_names = ([(name, \"male\") for name in names.words(\"male.txt\")] + \n",
    "                 [(name, \"female\") for name in names.words(\"female.txt\")])\n",
    "\n",
    "# random shuffle the names\n",
    "random.shuffle(labeled_names)"
   ]
  },
  {
   "cell_type": "markdown",
   "metadata": {},
   "source": [
    "### Data Preparation\n",
    "We begin by splitting the names courpus into three subsets: 500 words for the test set, 500 words for the dev-test set, and the remaining 6900 words for the training set. The training set is used to train the model, and the dev-test set is used to perform error analysis. The test set serves in our final evaluation of the classifier."
   ]
  },
  {
   "cell_type": "code",
   "execution_count": 17,
   "metadata": {},
   "outputs": [],
   "source": [
    "# split data into three subsets\n",
    "train_names = labeled_names[1500:]\n",
    "devtest_names = labeled_names[500:1000]\n",
    "test_names = labeled_names[:500]\n"
   ]
  },
  {
   "cell_type": "markdown",
   "metadata": {},
   "source": [
    "Using the dev-test set, we can generate a list of the errors that the classifier makes when predicting name genders. We will build a function to generate the error list with the number of errors."
   ]
  },
  {
   "cell_type": "code",
   "execution_count": 18,
   "metadata": {},
   "outputs": [],
   "source": [
    "# define error analysis function\n",
    "def error_analysis(gender_features):\n",
    "    # error list\n",
    "    errors = []\n",
    "    # extract mislabels\n",
    "    for (name, tag) in devtest_names:\n",
    "        guess = classifier.classify(gender_features(name))\n",
    "        if guess != tag:\n",
    "            errors.append((tag, guess, name))\n",
    "    print(\"Number of Errors: \", len(errors))\n",
    "    # print the errors\n",
    "    for (tag, guess, name) in sorted(errors):\n",
    "        print('correct={:<8} guess={:<8s} name={:<30}'.format(tag, guess, name))"
   ]
  },
  {
   "cell_type": "markdown",
   "metadata": {},
   "source": [
    "### Feature Engineering\n",
    "#### Gender Feature 1\n",
    "Our first feature function is a the example from the textbook. It classifies name based on the number of English alphabets and for that reason it overfits gender features. However, we will start with this function as benchmark and add or remove features to improve our classifier."
   ]
  },
  {
   "cell_type": "code",
   "execution_count": 26,
   "metadata": {},
   "outputs": [
    {
     "name": "stdout",
     "output_type": "stream",
     "text": [
      "0.774\n",
      "Most Informative Features\n",
      "             last_letter = 'k'              male : female =     37.7 : 1.0\n",
      "             last_letter = 'a'            female : male   =     31.4 : 1.0\n",
      "             last_letter = 'p'              male : female =     16.1 : 1.0\n",
      "             last_letter = 'f'              male : female =     15.0 : 1.0\n",
      "             last_letter = 'm'              male : female =     11.7 : 1.0\n"
     ]
    }
   ],
   "source": [
    "# define first version of gender features\n",
    "def gender_features1(name):\n",
    "    features = {}\n",
    "    features[\"first_letter\"] = name[0].lower()\n",
    "    features[\"last_letter\"] = name[-1].lower()\n",
    "    for letter in \"abcdefghijklmnopqrstuvwxyz\":\n",
    "        features[\"count({})\".format(letter)] = name.lower().count(letter)\n",
    "        features[\"has({})\".format(letter)] = (letter in name.lower())\n",
    "    return features\n",
    "\n",
    "# train model and print accuracy score\n",
    "train_set = [(gender_features1(n), gender) for (n, gender) in train_names]\n",
    "devtest_set = [(gender_features1(n), gender) for (n, gender) in devtest_names]\n",
    "classifier = nltk.NaiveBayesClassifier.train(train_set)\n",
    "print(nltk.classify.accuracy(classifier, devtest_set))\n",
    "classifier.show_most_informative_features(5)"
   ]
  },
  {
   "cell_type": "markdown",
   "metadata": {},
   "source": [
    " As expected, our first classifier score matches the one from the textbook. We will improve it."
   ]
  },
  {
   "cell_type": "code",
   "execution_count": 20,
   "metadata": {},
   "outputs": [
    {
     "name": "stdout",
     "output_type": "stream",
     "text": [
      "Number of Errors:  113\n",
      "correct=female   guess=male     name=Astrix                        \n",
      "correct=female   guess=male     name=Aubry                         \n",
      "correct=female   guess=male     name=Avrit                         \n",
      "correct=female   guess=male     name=Brett                         \n",
      "correct=female   guess=male     name=Bridgett                      \n",
      "correct=female   guess=male     name=Cherey                        \n",
      "correct=female   guess=male     name=Chris                         \n",
      "correct=female   guess=male     name=Clem                          \n",
      "correct=female   guess=male     name=Con                           \n",
      "correct=female   guess=male     name=Cristy                        \n",
      "correct=female   guess=male     name=Dody                          \n",
      "correct=female   guess=male     name=Dorey                         \n",
      "correct=female   guess=male     name=Dory                          \n",
      "correct=female   guess=male     name=Floris                        \n",
      "correct=female   guess=male     name=Gabey                         \n",
      "correct=female   guess=male     name=Garland                       \n",
      "correct=female   guess=male     name=Gwenette                      \n",
      "correct=female   guess=male     name=Gwenore                       \n",
      "correct=female   guess=male     name=Helyn                         \n",
      "correct=female   guess=male     name=Ingrid                        \n",
      "correct=female   guess=male     name=Iris                          \n",
      "correct=female   guess=male     name=Isobel                        \n",
      "correct=female   guess=male     name=Janot                         \n",
      "correct=female   guess=male     name=Jewel                         \n",
      "correct=female   guess=male     name=Joey                          \n",
      "correct=female   guess=male     name=Jorey                         \n",
      "correct=female   guess=male     name=Jude                          \n",
      "correct=female   guess=male     name=Kim                           \n",
      "correct=female   guess=male     name=Lark                          \n",
      "correct=female   guess=male     name=Lois                          \n",
      "correct=female   guess=male     name=Lorry                         \n",
      "correct=female   guess=male     name=Lulu                          \n",
      "correct=female   guess=male     name=Meghan                        \n",
      "correct=female   guess=male     name=Mignon                        \n",
      "correct=female   guess=male     name=Nariko                        \n",
      "correct=female   guess=male     name=Orly                          \n",
      "correct=female   guess=male     name=Phyllis                       \n",
      "correct=female   guess=male     name=Pooh                          \n",
      "correct=female   guess=male     name=Quinn                         \n",
      "correct=female   guess=male     name=Rorie                         \n",
      "correct=female   guess=male     name=Shanon                        \n",
      "correct=female   guess=male     name=Sheeree                       \n",
      "correct=female   guess=male     name=Sheril                        \n",
      "correct=female   guess=male     name=Sinead                        \n",
      "correct=female   guess=male     name=Storey                        \n",
      "correct=female   guess=male     name=Sue                           \n",
      "correct=female   guess=male     name=Sydel                         \n",
      "correct=female   guess=male     name=Teddy                         \n",
      "correct=female   guess=male     name=Tess                          \n",
      "correct=female   guess=male     name=Tim                           \n",
      "correct=female   guess=male     name=Trish                         \n",
      "correct=female   guess=male     name=Trixy                         \n",
      "correct=female   guess=male     name=Wenonah                       \n",
      "correct=female   guess=male     name=Willow                        \n",
      "correct=male     guess=female   name=Abbie                         \n",
      "correct=male     guess=female   name=Abel                          \n",
      "correct=male     guess=female   name=Aldrich                       \n",
      "correct=male     guess=female   name=Allyn                         \n",
      "correct=male     guess=female   name=Alton                         \n",
      "correct=male     guess=female   name=Alwin                         \n",
      "correct=male     guess=female   name=Arel                          \n",
      "correct=male     guess=female   name=Ashley                        \n",
      "correct=male     guess=female   name=Avery                         \n",
      "correct=male     guess=female   name=Bailey                        \n",
      "correct=male     guess=female   name=Barnabas                      \n",
      "correct=male     guess=female   name=Blaine                        \n",
      "correct=male     guess=female   name=Caryl                         \n",
      "correct=male     guess=female   name=Clinten                       \n",
      "correct=male     guess=female   name=Darien                        \n",
      "correct=male     guess=female   name=Darryl                        \n",
      "correct=male     guess=female   name=Elden                         \n",
      "correct=male     guess=female   name=Elias                         \n",
      "correct=male     guess=female   name=Elvin                         \n",
      "correct=male     guess=female   name=Erl                           \n",
      "correct=male     guess=female   name=Ezechiel                      \n",
      "correct=male     guess=female   name=Florian                       \n",
      "correct=male     guess=female   name=Garfinkel                     \n",
      "correct=male     guess=female   name=Gerri                         \n",
      "correct=male     guess=female   name=Glynn                         \n",
      "correct=male     guess=female   name=Haleigh                       \n",
      "correct=male     guess=female   name=Harlan                        \n",
      "correct=male     guess=female   name=Henrie                        \n",
      "correct=male     guess=female   name=Herculie                      \n",
      "correct=male     guess=female   name=Jan                           \n",
      "correct=male     guess=female   name=Jermain                       \n",
      "correct=male     guess=female   name=Johnathan                     \n",
      "correct=male     guess=female   name=Julie                         \n",
      "correct=male     guess=female   name=Kin                           \n",
      "correct=male     guess=female   name=Laurance                      \n",
      "correct=male     guess=female   name=Laurence                      \n",
      "correct=male     guess=female   name=Lemuel                        \n",
      "correct=male     guess=female   name=Lennie                        \n",
      "correct=male     guess=female   name=Lenny                         \n",
      "correct=male     guess=female   name=Lex                           \n",
      "correct=male     guess=female   name=Lincoln                       \n",
      "correct=male     guess=female   name=Mackenzie                     \n",
      "correct=male     guess=female   name=Matthias                      \n",
      "correct=male     guess=female   name=Maximilien                    \n",
      "correct=male     guess=female   name=Merill                        \n",
      "correct=male     guess=female   name=Mickey                        \n",
      "correct=male     guess=female   name=Nelsen                        \n",
      "correct=male     guess=female   name=Nevin                         \n",
      "correct=male     guess=female   name=Ossie                         \n",
      "correct=male     guess=female   name=Pascal                        \n",
      "correct=male     guess=female   name=Pennie                        \n",
      "correct=male     guess=female   name=Randie                        \n",
      "correct=male     guess=female   name=Randy                         \n",
      "correct=male     guess=female   name=Stearne                       \n",
      "correct=male     guess=female   name=Tanny                         \n",
      "correct=male     guess=female   name=Tracie                        \n",
      "correct=male     guess=female   name=Vinnie                        \n",
      "correct=male     guess=female   name=Yanaton                       \n",
      "correct=male     guess=female   name=Zane                          \n"
     ]
    }
   ],
   "source": [
    "# print error results\n",
    "error_analysis(gender_features1)"
   ]
  },
  {
   "cell_type": "markdown",
   "metadata": {},
   "source": [
    "#### Gender Feature 2\n",
    "As discussed in the textbook and from common knowledge the list above makes it clear that some suffixes have more than one letter that can be suggestive of name genders. For example, names ending in `ie` appear to be mislabeled. The same can be said about prefixes as well. For example, names starting with `Do` is mostly female. Also, names starting with `Je` is generally males in the error list. "
   ]
  },
  {
   "cell_type": "code",
   "execution_count": 27,
   "metadata": {},
   "outputs": [
    {
     "name": "stdout",
     "output_type": "stream",
     "text": [
      "0.828\n",
      "Most Informative Features\n",
      "                 suffix2 = 'na'           female : male   =     90.3 : 1.0\n",
      "                 suffix2 = 'la'           female : male   =     65.7 : 1.0\n",
      "             last_letter = 'k'              male : female =     37.7 : 1.0\n",
      "                 suffix2 = 'ia'           female : male   =     34.3 : 1.0\n",
      "             last_letter = 'a'            female : male   =     31.4 : 1.0\n"
     ]
    }
   ],
   "source": [
    "# define second version of gender features\n",
    "def gender_features2(name):\n",
    "    features = {}\n",
    "    features[\"first_letter\"] = name[0].lower()\n",
    "    features[\"last_letter\"] = name[-1].lower()\n",
    "    for letter in \"abcdefghijklmnopqrstuvwxyz\":\n",
    "        features[\"count({})\".format(letter)] = name.lower().count(letter)\n",
    "        features[\"has({})\".format(letter)] = (letter in name.lower())\n",
    "    features[\"suffix2\"] = name[-2:].lower()\n",
    "    features[\"suffix3\"] = name[-3:].lower()\n",
    "    features[\"prefix3\"] = name[:3].lower()\n",
    "    return features\n",
    "\n",
    "# train model and print accuracy score\n",
    "train_set = [(gender_features2(n), gender) for (n, gender) in train_names]\n",
    "devtest_set = [(gender_features2(n), gender) for (n, gender) in devtest_names]\n",
    "classifier = nltk.NaiveBayesClassifier.train(train_set)\n",
    "print(nltk.classify.accuracy(classifier, devtest_set))\n",
    "classifier.show_most_informative_features(5)"
   ]
  },
  {
   "cell_type": "markdown",
   "metadata": {},
   "source": [
    "We see good improvement in our accuracy score. The number of errors has decreased as well. Let us see if we can improve our classifier even further. "
   ]
  },
  {
   "cell_type": "code",
   "execution_count": 22,
   "metadata": {},
   "outputs": [
    {
     "name": "stdout",
     "output_type": "stream",
     "text": [
      "Number of Errors:  86\n",
      "correct=female   guess=male     name=Aubry                         \n",
      "correct=female   guess=male     name=Avrit                         \n",
      "correct=female   guess=male     name=Barbey                        \n",
      "correct=female   guess=male     name=Blair                         \n",
      "correct=female   guess=male     name=Brett                         \n",
      "correct=female   guess=male     name=Bridgett                      \n",
      "correct=female   guess=male     name=Carolan                       \n",
      "correct=female   guess=male     name=Cherey                        \n",
      "correct=female   guess=male     name=Chris                         \n",
      "correct=female   guess=male     name=Clem                          \n",
      "correct=female   guess=male     name=Con                           \n",
      "correct=female   guess=male     name=Constancy                     \n",
      "correct=female   guess=male     name=Dody                          \n",
      "correct=female   guess=male     name=Garland                       \n",
      "correct=female   guess=male     name=Gwenore                       \n",
      "correct=female   guess=male     name=Ike                           \n",
      "correct=female   guess=male     name=Ingrid                        \n",
      "correct=female   guess=male     name=Iris                          \n",
      "correct=female   guess=male     name=Janot                         \n",
      "correct=female   guess=male     name=Jewel                         \n",
      "correct=female   guess=male     name=Joey                          \n",
      "correct=female   guess=male     name=Jorey                         \n",
      "correct=female   guess=male     name=Kim                           \n",
      "correct=female   guess=male     name=Lark                          \n",
      "correct=female   guess=male     name=Lois                          \n",
      "correct=female   guess=male     name=Lulu                          \n",
      "correct=female   guess=male     name=Manon                         \n",
      "correct=female   guess=male     name=Mignon                        \n",
      "correct=female   guess=male     name=Nichol                        \n",
      "correct=female   guess=male     name=Orly                          \n",
      "correct=female   guess=male     name=Phyllis                       \n",
      "correct=female   guess=male     name=Pooh                          \n",
      "correct=female   guess=male     name=Quinn                         \n",
      "correct=female   guess=male     name=Rakel                         \n",
      "correct=female   guess=male     name=Sandy                         \n",
      "correct=female   guess=male     name=Shannen                       \n",
      "correct=female   guess=male     name=Shanon                        \n",
      "correct=female   guess=male     name=Sheril                        \n",
      "correct=female   guess=male     name=Sinead                        \n",
      "correct=female   guess=male     name=Storey                        \n",
      "correct=female   guess=male     name=Sue                           \n",
      "correct=female   guess=male     name=Sydel                         \n",
      "correct=female   guess=male     name=Teddy                         \n",
      "correct=female   guess=male     name=Tess                          \n",
      "correct=female   guess=male     name=Tim                           \n",
      "correct=female   guess=male     name=Trish                         \n",
      "correct=female   guess=male     name=Trixy                         \n",
      "correct=female   guess=male     name=Wenonah                       \n",
      "correct=female   guess=male     name=Willow                        \n",
      "correct=male     guess=female   name=Abbie                         \n",
      "correct=male     guess=female   name=Abel                          \n",
      "correct=male     guess=female   name=Allyn                         \n",
      "correct=male     guess=female   name=Ashley                        \n",
      "correct=male     guess=female   name=Blaine                        \n",
      "correct=male     guess=female   name=Caryl                         \n",
      "correct=male     guess=female   name=Darien                        \n",
      "correct=male     guess=female   name=Darryl                        \n",
      "correct=male     guess=female   name=Dory                          \n",
      "correct=male     guess=female   name=Florian                       \n",
      "correct=male     guess=female   name=Gerri                         \n",
      "correct=male     guess=female   name=Glynn                         \n",
      "correct=male     guess=female   name=Henrie                        \n",
      "correct=male     guess=female   name=Herculie                      \n",
      "correct=male     guess=female   name=Huntlee                       \n",
      "correct=male     guess=female   name=Jan                           \n",
      "correct=male     guess=female   name=Jo                            \n",
      "correct=male     guess=female   name=Julie                         \n",
      "correct=male     guess=female   name=Laurance                      \n",
      "correct=male     guess=female   name=Laurence                      \n",
      "correct=male     guess=female   name=Lennie                        \n",
      "correct=male     guess=female   name=Lenny                         \n",
      "correct=male     guess=female   name=Lincoln                       \n",
      "correct=male     guess=female   name=Mackenzie                     \n",
      "correct=male     guess=female   name=Merill                        \n",
      "correct=male     guess=female   name=Nelsen                        \n",
      "correct=male     guess=female   name=Ossie                         \n",
      "correct=male     guess=female   name=Pennie                        \n",
      "correct=male     guess=female   name=Price                         \n",
      "correct=male     guess=female   name=Randie                        \n",
      "correct=male     guess=female   name=Randy                         \n",
      "correct=male     guess=female   name=Stearne                       \n",
      "correct=male     guess=female   name=Tanny                         \n",
      "correct=male     guess=female   name=Tobie                         \n",
      "correct=male     guess=female   name=Tracie                        \n",
      "correct=male     guess=female   name=Vinnie                        \n",
      "correct=male     guess=female   name=Zane                          \n"
     ]
    }
   ],
   "source": [
    "# print error results\n",
    "error_analysis(gender_features2)"
   ]
  },
  {
   "cell_type": "markdown",
   "metadata": {},
   "source": [
    "#### Gender Feature 3\n",
    "For our last gender feature, we play around with few more numbers of prefixes and suffixes to yield the best accuracy score possible. We also notice `yn` is very indicative of female gender, so we implement that feature as well."
   ]
  },
  {
   "cell_type": "code",
   "execution_count": 30,
   "metadata": {},
   "outputs": [
    {
     "name": "stdout",
     "output_type": "stream",
     "text": [
      "0.838\n",
      "Most Informative Features\n",
      "                 suffix2 = 'na'           female : male   =     90.3 : 1.0\n",
      "                 suffix2 = 'la'           female : male   =     65.7 : 1.0\n",
      "             last_letter = 'k'              male : female =     37.7 : 1.0\n",
      "                 suffix2 = 'ia'           female : male   =     34.3 : 1.0\n",
      "             last_letter = 'a'            female : male   =     31.4 : 1.0\n"
     ]
    }
   ],
   "source": [
    "# define third version of gender features\n",
    "def gender_features3(name):\n",
    "    features = {}\n",
    "    features[\"first_letter\"] = name[0].lower()\n",
    "    features[\"last_letter\"] = name[-1].lower()\n",
    "    for letter in \"abcdefghijklmnopqrstuvwxyz\":\n",
    "        features[\"count({})\".format(letter)] = name.lower().count(letter)\n",
    "        features[\"has({})\".format(letter)] = (letter in name.lower())\n",
    "    features[\"suffix2\"] = name[-2:].lower()\n",
    "    features[\"suffix3\"] = name[-3:].lower()\n",
    "    features[\"suffix4\"] = name[-4:].lower()\n",
    "    features[\"prefix3\"] = name[:3].lower()\n",
    "    features[\"prefix4\"] = name[:4].lower()\n",
    "    features[\"has_yn\"] = \"yn\" in name\n",
    "    return features\n",
    "\n",
    "# train model and print accuracy score\n",
    "train_set = [(gender_features3(n), gender) for (n, gender) in train_names]\n",
    "devtest_set = [(gender_features3(n), gender) for (n, gender) in devtest_names]\n",
    "classifier = nltk.NaiveBayesClassifier.train(train_set)\n",
    "print(nltk.classify.accuracy(classifier, devtest_set))\n",
    "classifier.show_most_informative_features(5)"
   ]
  },
  {
   "cell_type": "markdown",
   "metadata": {},
   "source": [
    "The resulting score is the best yet. We will test the classifier with `gender_features3()` on our unseen data. "
   ]
  },
  {
   "cell_type": "code",
   "execution_count": 24,
   "metadata": {},
   "outputs": [
    {
     "name": "stdout",
     "output_type": "stream",
     "text": [
      "Number of Errors:  81\n",
      "correct=female   guess=male     name=Aubry                         \n",
      "correct=female   guess=male     name=Avrit                         \n",
      "correct=female   guess=male     name=Blair                         \n",
      "correct=female   guess=male     name=Brett                         \n",
      "correct=female   guess=male     name=Bridgett                      \n",
      "correct=female   guess=male     name=Chris                         \n",
      "correct=female   guess=male     name=Clem                          \n",
      "correct=female   guess=male     name=Con                           \n",
      "correct=female   guess=male     name=Constancy                     \n",
      "correct=female   guess=male     name=Dody                          \n",
      "correct=female   guess=male     name=Effie                         \n",
      "correct=female   guess=male     name=Elke                          \n",
      "correct=female   guess=male     name=Gabey                         \n",
      "correct=female   guess=male     name=Garland                       \n",
      "correct=female   guess=male     name=Idell                         \n",
      "correct=female   guess=male     name=Ike                           \n",
      "correct=female   guess=male     name=Ingrid                        \n",
      "correct=female   guess=male     name=Iris                          \n",
      "correct=female   guess=male     name=Janot                         \n",
      "correct=female   guess=male     name=Jewel                         \n",
      "correct=female   guess=male     name=Joey                          \n",
      "correct=female   guess=male     name=Jorey                         \n",
      "correct=female   guess=male     name=Jude                          \n",
      "correct=female   guess=male     name=Kim                           \n",
      "correct=female   guess=male     name=Lark                          \n",
      "correct=female   guess=male     name=Lin                           \n",
      "correct=female   guess=male     name=Lois                          \n",
      "correct=female   guess=male     name=Lulu                          \n",
      "correct=female   guess=male     name=Manon                         \n",
      "correct=female   guess=male     name=Mignon                        \n",
      "correct=female   guess=male     name=Nichol                        \n",
      "correct=female   guess=male     name=Nichole                       \n",
      "correct=female   guess=male     name=Orly                          \n",
      "correct=female   guess=male     name=Pooh                          \n",
      "correct=female   guess=male     name=Quinn                         \n",
      "correct=female   guess=male     name=Rakel                         \n",
      "correct=female   guess=male     name=Sandy                         \n",
      "correct=female   guess=male     name=Shannen                       \n",
      "correct=female   guess=male     name=Shanon                        \n",
      "correct=female   guess=male     name=Sheril                        \n",
      "correct=female   guess=male     name=Sinead                        \n",
      "correct=female   guess=male     name=Storey                        \n",
      "correct=female   guess=male     name=Sue                           \n",
      "correct=female   guess=male     name=Sydel                         \n",
      "correct=female   guess=male     name=Teddy                         \n",
      "correct=female   guess=male     name=Tess                          \n",
      "correct=female   guess=male     name=Tim                           \n",
      "correct=female   guess=male     name=Trish                         \n",
      "correct=female   guess=male     name=Wenonah                       \n",
      "correct=female   guess=male     name=Willow                        \n",
      "correct=male     guess=female   name=Abbie                         \n",
      "correct=male     guess=female   name=Abel                          \n",
      "correct=male     guess=female   name=Allyn                         \n",
      "correct=male     guess=female   name=Ashley                        \n",
      "correct=male     guess=female   name=Blaine                        \n",
      "correct=male     guess=female   name=Caryl                         \n",
      "correct=male     guess=female   name=Dory                          \n",
      "correct=male     guess=female   name=Elvis                         \n",
      "correct=male     guess=female   name=Florian                       \n",
      "correct=male     guess=female   name=Gerri                         \n",
      "correct=male     guess=female   name=Glynn                         \n",
      "correct=male     guess=female   name=Henrie                        \n",
      "correct=male     guess=female   name=Jan                           \n",
      "correct=male     guess=female   name=Jo                            \n",
      "correct=male     guess=female   name=Julie                         \n",
      "correct=male     guess=female   name=Laurance                      \n",
      "correct=male     guess=female   name=Laurence                      \n",
      "correct=male     guess=female   name=Lennie                        \n",
      "correct=male     guess=female   name=Lenny                         \n",
      "correct=male     guess=female   name=Lincoln                       \n",
      "correct=male     guess=female   name=Merill                        \n",
      "correct=male     guess=female   name=Ossie                         \n",
      "correct=male     guess=female   name=Pennie                        \n",
      "correct=male     guess=female   name=Price                         \n",
      "correct=male     guess=female   name=Randie                        \n",
      "correct=male     guess=female   name=Randy                         \n",
      "correct=male     guess=female   name=Tanny                         \n",
      "correct=male     guess=female   name=Tobie                         \n",
      "correct=male     guess=female   name=Tracie                        \n",
      "correct=male     guess=female   name=Vinnie                        \n",
      "correct=male     guess=female   name=Zane                          \n"
     ]
    }
   ],
   "source": [
    "# print error results\n",
    "error_analysis(gender_features3)"
   ]
  },
  {
   "cell_type": "markdown",
   "metadata": {},
   "source": [
    "### Conclusion\n",
    "The performance on the test set is about 3% better than the performance on the dev-test set. We did not expect so much improvement. By random chance, the test set has names that adheres to our gender features more than the dev-test set."
   ]
  },
  {
   "cell_type": "code",
   "execution_count": 25,
   "metadata": {},
   "outputs": [
    {
     "name": "stdout",
     "output_type": "stream",
     "text": [
      "0.868\n"
     ]
    }
   ],
   "source": [
    "# final performance test\n",
    "test_set = [(gender_features3(n), gender) for (n, gender) in test_names]\n",
    "print(nltk.classify.accuracy(classifier, test_set))"
   ]
  }
 ],
 "metadata": {
  "kernelspec": {
   "display_name": "Python 3",
   "language": "python",
   "name": "python3"
  },
  "language_info": {
   "codemirror_mode": {
    "name": "ipython",
    "version": 3
   },
   "file_extension": ".py",
   "mimetype": "text/x-python",
   "name": "python",
   "nbconvert_exporter": "python",
   "pygments_lexer": "ipython3",
   "version": "3.7.3"
  }
 },
 "nbformat": 4,
 "nbformat_minor": 2
}
