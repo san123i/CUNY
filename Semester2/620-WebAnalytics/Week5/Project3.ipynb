{
 "cells": [
  {
   "cell_type": "markdown",
   "metadata": {},
   "source": [
    "### DATA 620\n",
    "#### Project 3   \n",
    "### [Video Presentation]()\n",
    "##### Group Four\n",
    "- Santosh Cheruku\n",
    "- Vinicio Haro\n",
    "- Javern Wilson\n",
    "- Saayed Alam  "
   ]
  },
  {
   "cell_type": "code",
   "execution_count": 108,
   "metadata": {},
   "outputs": [],
   "source": [
    "# load libraries\n",
    "import nltk\n",
    "from nltk.corpus import names\n",
    "import random"
   ]
  },
  {
   "cell_type": "markdown",
   "metadata": {},
   "source": [
    "### Introduction\n",
    "In this assignment, we will work with naive Bayes classifiers to build a name gender classifier. We will select relevant features as we go along to improve the accuracy of our classifier. Deciding on relevant features for a classifier can have an enormous impact on the classifier's ability to extract a good model."
   ]
  },
  {
   "cell_type": "code",
   "execution_count": 109,
   "metadata": {},
   "outputs": [],
   "source": [
    "# load names from nltk library\n",
    "labeled_names = ([(name, \"male\") for name in names.words(\"male.txt\")] + \n",
    "                 [(name, \"female\") for name in names.words(\"female.txt\")])\n",
    "\n",
    "# random shuffle the names\n",
    "random.shuffle(labeled_names)"
   ]
  },
  {
   "cell_type": "markdown",
   "metadata": {},
   "source": [
    "### Data Preparation\n",
    "We begin by splitting the names courpus into three subsets: 500 words for the test set, 500 words for the dev-test set, and the remaining 6900 words for the training set. The training set is used to train the model, and the dev-test set is used to perform error analysis. The test set serves in our final evaluation of the classifier."
   ]
  },
  {
   "cell_type": "code",
   "execution_count": 110,
   "metadata": {},
   "outputs": [],
   "source": [
    "# split data into three subsets\n",
    "train_names = labeled_names[1500:]\n",
    "devtest_names = labeled_names[500:1000]\n",
    "test_names = labeled_names[:500]"
   ]
  },
  {
   "cell_type": "markdown",
   "metadata": {},
   "source": [
    "Using the dev-test set, we can generate a list of the errors that the classifier makes when predicting name genders. We will build a function to generate the error list with the number of errors."
   ]
  },
  {
   "cell_type": "code",
   "execution_count": 111,
   "metadata": {},
   "outputs": [],
   "source": [
    "# define error analysis function\n",
    "def error_analysis(gender_features):\n",
    "    # error list\n",
    "    errors = []\n",
    "    # extract mislabels\n",
    "    for (name, tag) in devtest_names:\n",
    "        guess = classifier.classify(gender_features(name))\n",
    "        if guess != tag:\n",
    "            errors.append((tag, guess, name))\n",
    "    print(\"Number of Errors: \", len(errors))\n",
    "    # print the errors\n",
    "    for (tag, guess, name) in sorted(errors):\n",
    "        print('correct={:<8} guess={:<8s} name={:<30}'.format(tag, guess, name))"
   ]
  },
  {
   "cell_type": "markdown",
   "metadata": {},
   "source": [
    "### Feature Engineering\n",
    "#### Gender Feature 1\n",
    "Our first feature function is a the example from the textbook. It classifies name based on the number of English alphabets and for that reason it overfits gender features. However, we will start with this function as benchmark and add or remove features to improve our classifier."
   ]
  },
  {
   "cell_type": "code",
   "execution_count": 112,
   "metadata": {},
   "outputs": [
    {
     "name": "stdout",
     "output_type": "stream",
     "text": [
      "0.792\n"
     ]
    }
   ],
   "source": [
    "# define first version of gender features\n",
    "def gender_features1(name):\n",
    "    features = {}\n",
    "    features[\"first_letter\"] = name[0].lower()\n",
    "    features[\"last_letter\"] = name[-1].lower()\n",
    "    for letter in \"abcdefghijklmnopqrstuvwxyz\":\n",
    "        features[\"count({})\".format(letter)] = name.lower().count(letter)\n",
    "        features[\"has({})\".format(letter)] = (letter in name.lower())\n",
    "    return features\n",
    "\n",
    "# train model and print accuracy score\n",
    "train_set = [(gender_features1(n), gender) for (n, gender) in train_names]\n",
    "devtest_set = [(gender_features1(n), gender) for (n, gender) in devtest_names]\n",
    "classifier = nltk.NaiveBayesClassifier.train(train_set)\n",
    "print(nltk.classify.accuracy(classifier, devtest_set))"
   ]
  },
  {
   "cell_type": "markdown",
   "metadata": {},
   "source": [
    " As expected, our first classifier score matches the one from the textbook. We will improve it."
   ]
  },
  {
   "cell_type": "code",
   "execution_count": 113,
   "metadata": {},
   "outputs": [
    {
     "name": "stdout",
     "output_type": "stream",
     "text": [
      "Number of Errors:  104\n",
      "correct=female   guess=male     name=Berty                         \n",
      "correct=female   guess=male     name=Bessy                         \n",
      "correct=female   guess=male     name=Beverly                       \n",
      "correct=female   guess=male     name=Bridgett                      \n",
      "correct=female   guess=male     name=Chriss                        \n",
      "correct=female   guess=male     name=Courtenay                     \n",
      "correct=female   guess=male     name=Doll                          \n",
      "correct=female   guess=male     name=Dolores                       \n",
      "correct=female   guess=male     name=Dorit                         \n",
      "correct=female   guess=male     name=Dot                           \n",
      "correct=female   guess=male     name=Ebony                         \n",
      "correct=female   guess=male     name=Farrah                        \n",
      "correct=female   guess=male     name=Fay                           \n",
      "correct=female   guess=male     name=Flo                           \n",
      "correct=female   guess=male     name=Florette                      \n",
      "correct=female   guess=male     name=Glen                          \n",
      "correct=female   guess=male     name=Glynis                        \n",
      "correct=female   guess=male     name=Gussie                        \n",
      "correct=female   guess=male     name=Gussy                         \n",
      "correct=female   guess=male     name=Gusty                         \n",
      "correct=female   guess=male     name=Gwendolen                     \n",
      "correct=female   guess=male     name=Hetty                         \n",
      "correct=female   guess=male     name=Holley                        \n",
      "correct=female   guess=male     name=Jenifer                       \n",
      "correct=female   guess=male     name=Jeniffer                      \n",
      "correct=female   guess=male     name=Joyous                        \n",
      "correct=female   guess=male     name=Kat                           \n",
      "correct=female   guess=male     name=Kerstin                       \n",
      "correct=female   guess=male     name=Koo                           \n",
      "correct=female   guess=male     name=Kristin                       \n",
      "correct=female   guess=male     name=Margalo                       \n",
      "correct=female   guess=male     name=Muffin                        \n",
      "correct=female   guess=male     name=Nat                           \n",
      "correct=female   guess=male     name=Norry                         \n",
      "correct=female   guess=male     name=Penny                         \n",
      "correct=female   guess=male     name=Raquel                        \n",
      "correct=female   guess=male     name=Rebekah                       \n",
      "correct=female   guess=male     name=Rosalind                      \n",
      "correct=female   guess=male     name=Rozamond                      \n",
      "correct=female   guess=male     name=Rozele                        \n",
      "correct=female   guess=male     name=Sam                           \n",
      "correct=female   guess=male     name=Sophey                        \n",
      "correct=female   guess=male     name=Storm                         \n",
      "correct=female   guess=male     name=Sunny                         \n",
      "correct=female   guess=male     name=Terri-Jo                      \n",
      "correct=female   guess=male     name=Tiffi                         \n",
      "correct=female   guess=male     name=Tish                          \n",
      "correct=female   guess=male     name=Tobe                          \n",
      "correct=female   guess=male     name=Wileen                        \n",
      "correct=female   guess=male     name=Willie                        \n",
      "correct=female   guess=male     name=Wynnie                        \n",
      "correct=female   guess=male     name=Zorah                         \n",
      "correct=male     guess=female   name=Alan                          \n",
      "correct=male     guess=female   name=Ansel                         \n",
      "correct=male     guess=female   name=Antony                        \n",
      "correct=male     guess=female   name=Baillie                       \n",
      "correct=male     guess=female   name=Barrie                        \n",
      "correct=male     guess=female   name=Bartie                        \n",
      "correct=male     guess=female   name=Berkeley                      \n",
      "correct=male     guess=female   name=Bertie                        \n",
      "correct=male     guess=female   name=Blaine                        \n",
      "correct=male     guess=female   name=Caleb                         \n",
      "correct=male     guess=female   name=Carleigh                      \n",
      "correct=male     guess=female   name=Carlin                        \n",
      "correct=male     guess=female   name=Caryl                         \n",
      "correct=male     guess=female   name=Cass                          \n",
      "correct=male     guess=female   name=Chaunce                       \n",
      "correct=male     guess=female   name=Clyde                         \n",
      "correct=male     guess=female   name=Cyrill                        \n",
      "correct=male     guess=female   name=Dannie                        \n",
      "correct=male     guess=female   name=Dryke                         \n",
      "correct=male     guess=female   name=Erin                          \n",
      "correct=male     guess=female   name=Erl                           \n",
      "correct=male     guess=female   name=Franklin                      \n",
      "correct=male     guess=female   name=Gail                          \n",
      "correct=male     guess=female   name=Hadleigh                      \n",
      "correct=male     guess=female   name=Hall                          \n",
      "correct=male     guess=female   name=Jean-Paul                     \n",
      "correct=male     guess=female   name=Jephthah                      \n",
      "correct=male     guess=female   name=Jeremie                       \n",
      "correct=male     guess=female   name=Juanita                       \n",
      "correct=male     guess=female   name=Kelvin                        \n",
      "correct=male     guess=female   name=Kristian                      \n",
      "correct=male     guess=female   name=Len                           \n",
      "correct=male     guess=female   name=Lenard                        \n",
      "correct=male     guess=female   name=Leon                          \n",
      "correct=male     guess=female   name=Lion                          \n",
      "correct=male     guess=female   name=Lyndon                        \n",
      "correct=male     guess=female   name=Manny                         \n",
      "correct=male     guess=female   name=Micheil                       \n",
      "correct=male     guess=female   name=Michele                       \n",
      "correct=male     guess=female   name=Neil                          \n",
      "correct=male     guess=female   name=Nickey                        \n",
      "correct=male     guess=female   name=Orville                       \n",
      "correct=male     guess=female   name=Parnell                       \n",
      "correct=male     guess=female   name=Partha                        \n",
      "correct=male     guess=female   name=Randi                         \n",
      "correct=male     guess=female   name=Salman                        \n",
      "correct=male     guess=female   name=Saundra                       \n",
      "correct=male     guess=female   name=Saxe                          \n",
      "correct=male     guess=female   name=Sidney                        \n",
      "correct=male     guess=female   name=Slade                         \n",
      "correct=male     guess=female   name=Tarrant                       \n",
      "correct=male     guess=female   name=Tristan                       \n"
     ]
    }
   ],
   "source": [
    "# print error results\n",
    "error_analysis(gender_features1)"
   ]
  },
  {
   "cell_type": "markdown",
   "metadata": {},
   "source": [
    "#### Gender Feature 2\n",
    "As discussed in the textbook and from common knowledge the list above makes it clear that some suffixes have more than one letter that can be suggestive of name genders. For example, names ending in `ie` appear to be mislabeled. The same can be said about prefixes as well. For example, names starting with `Do` is mostly female. Also, names starting with `Je` is generally males in the error list. "
   ]
  },
  {
   "cell_type": "code",
   "execution_count": 114,
   "metadata": {},
   "outputs": [
    {
     "name": "stdout",
     "output_type": "stream",
     "text": [
      "0.82\n"
     ]
    }
   ],
   "source": [
    "# define second version of gender features\n",
    "def gender_features2(name):\n",
    "    features = {}\n",
    "    features[\"first_letter\"] = name[0].lower()\n",
    "    features[\"last_letter\"] = name[-1].lower()\n",
    "    for letter in \"abcdefghijklmnopqrstuvwxyz\":\n",
    "        features[\"count({})\".format(letter)] = name.lower().count(letter)\n",
    "        features[\"has({})\".format(letter)] = (letter in name.lower())\n",
    "    features[\"suffix2\"] = name[-2:].lower()\n",
    "    features[\"suffix3\"] = name[-3:].lower()\n",
    "    features[\"prefix3\"] = name[:3].lower()\n",
    "    return features\n",
    "\n",
    "# train model and print accuracy score\n",
    "train_set = [(gender_features2(n), gender) for (n, gender) in train_names]\n",
    "devtest_set = [(gender_features2(n), gender) for (n, gender) in devtest_names]\n",
    "classifier = nltk.NaiveBayesClassifier.train(train_set)\n",
    "print(nltk.classify.accuracy(classifier, devtest_set))"
   ]
  },
  {
   "cell_type": "markdown",
   "metadata": {},
   "source": [
    "We see good improvement in our accuracy score. The number of errors has decreased as well. Let us see if we can improve our classifier even further. "
   ]
  },
  {
   "cell_type": "code",
   "execution_count": 115,
   "metadata": {},
   "outputs": [
    {
     "name": "stdout",
     "output_type": "stream",
     "text": [
      "Number of Errors:  90\n",
      "correct=female   guess=male     name=Alexis                        \n",
      "correct=female   guess=male     name=Alyson                        \n",
      "correct=female   guess=male     name=Berty                         \n",
      "correct=female   guess=male     name=Bridgett                      \n",
      "correct=female   guess=male     name=Charmain                      \n",
      "correct=female   guess=male     name=Chriss                        \n",
      "correct=female   guess=male     name=Courtenay                     \n",
      "correct=female   guess=male     name=Doll                          \n",
      "correct=female   guess=male     name=Dolores                       \n",
      "correct=female   guess=male     name=Dorit                         \n",
      "correct=female   guess=male     name=Dot                           \n",
      "correct=female   guess=male     name=Esme                          \n",
      "correct=female   guess=male     name=Eve                           \n",
      "correct=female   guess=male     name=Evey                          \n",
      "correct=female   guess=male     name=Flo                           \n",
      "correct=female   guess=male     name=Glynis                        \n",
      "correct=female   guess=male     name=Gusty                         \n",
      "correct=female   guess=male     name=Gwendolen                     \n",
      "correct=female   guess=male     name=Holley                        \n",
      "correct=female   guess=male     name=Jasmin                        \n",
      "correct=female   guess=male     name=Jenifer                       \n",
      "correct=female   guess=male     name=Jeniffer                      \n",
      "correct=female   guess=male     name=Jere                          \n",
      "correct=female   guess=male     name=Joan                          \n",
      "correct=female   guess=male     name=Joyous                        \n",
      "correct=female   guess=male     name=Kerstin                       \n",
      "correct=female   guess=male     name=Kirby                         \n",
      "correct=female   guess=male     name=Koo                           \n",
      "correct=female   guess=male     name=Kristin                       \n",
      "correct=female   guess=male     name=Lesly                         \n",
      "correct=female   guess=male     name=Margalo                       \n",
      "correct=female   guess=male     name=Mei                           \n",
      "correct=female   guess=male     name=Muffin                        \n",
      "correct=female   guess=male     name=Nat                           \n",
      "correct=female   guess=male     name=Noell                         \n",
      "correct=female   guess=male     name=Norry                         \n",
      "correct=female   guess=male     name=Penny                         \n",
      "correct=female   guess=male     name=Raquel                        \n",
      "correct=female   guess=male     name=Renell                        \n",
      "correct=female   guess=male     name=Rosalind                      \n",
      "correct=female   guess=male     name=Rozamond                      \n",
      "correct=female   guess=male     name=Sam                           \n",
      "correct=female   guess=male     name=Sandy                         \n",
      "correct=female   guess=male     name=Sophey                        \n",
      "correct=female   guess=male     name=Storm                         \n",
      "correct=female   guess=male     name=Sunny                         \n",
      "correct=female   guess=male     name=Terri-Jo                      \n",
      "correct=female   guess=male     name=Tish                          \n",
      "correct=female   guess=male     name=Tobe                          \n",
      "correct=female   guess=male     name=Willie                        \n",
      "correct=female   guess=male     name=Wynnie                        \n",
      "correct=male     guess=female   name=Alan                          \n",
      "correct=male     guess=female   name=Ansel                         \n",
      "correct=male     guess=female   name=Antony                        \n",
      "correct=male     guess=female   name=Baillie                       \n",
      "correct=male     guess=female   name=Barrie                        \n",
      "correct=male     guess=female   name=Bartie                        \n",
      "correct=male     guess=female   name=Berkeley                      \n",
      "correct=male     guess=female   name=Bertie                        \n",
      "correct=male     guess=female   name=Blaine                        \n",
      "correct=male     guess=female   name=Carleigh                      \n",
      "correct=male     guess=female   name=Carlin                        \n",
      "correct=male     guess=female   name=Caryl                         \n",
      "correct=male     guess=female   name=Cass                          \n",
      "correct=male     guess=female   name=Clyde                         \n",
      "correct=male     guess=female   name=Dannie                        \n",
      "correct=male     guess=female   name=Eddy                          \n",
      "correct=male     guess=female   name=Erin                          \n",
      "correct=male     guess=female   name=Erl                           \n",
      "correct=male     guess=female   name=Filmore                       \n",
      "correct=male     guess=female   name=Franklin                      \n",
      "correct=male     guess=female   name=Gail                          \n",
      "correct=male     guess=female   name=Hermann                       \n",
      "correct=male     guess=female   name=Jeremie                       \n",
      "correct=male     guess=female   name=Juanita                       \n",
      "correct=male     guess=female   name=Len                           \n",
      "correct=male     guess=female   name=Manny                         \n",
      "correct=male     guess=female   name=Meredeth                      \n",
      "correct=male     guess=female   name=Micheil                       \n",
      "correct=male     guess=female   name=Michele                       \n",
      "correct=male     guess=female   name=Neil                          \n",
      "correct=male     guess=female   name=Nickey                        \n",
      "correct=male     guess=female   name=Orville                       \n",
      "correct=male     guess=female   name=Partha                        \n",
      "correct=male     guess=female   name=Patsy                         \n",
      "correct=male     guess=female   name=Randi                         \n",
      "correct=male     guess=female   name=Saundra                       \n",
      "correct=male     guess=female   name=Sidney                        \n",
      "correct=male     guess=female   name=Slade                         \n",
      "correct=male     guess=female   name=Tristan                       \n"
     ]
    }
   ],
   "source": [
    "# print error results\n",
    "error_analysis(gender_features2)"
   ]
  },
  {
   "cell_type": "markdown",
   "metadata": {},
   "source": [
    "#### Gender Feature 3\n",
    "For our last gender feature, we play around with few more numbers of prefixes and suffixes to yield the best accuracy score possible. We also notice `yn` is very indicative of female gender, so we implement that feature as well."
   ]
  },
  {
   "cell_type": "code",
   "execution_count": 116,
   "metadata": {},
   "outputs": [
    {
     "name": "stdout",
     "output_type": "stream",
     "text": [
      "0.848\n"
     ]
    }
   ],
   "source": [
    "# define third version of gender features\n",
    "def gender_features3(name):\n",
    "    features = {}\n",
    "    features[\"first_letter\"] = name[0].lower()\n",
    "    features[\"last_letter\"] = name[-1].lower()\n",
    "    for letter in \"abcdefghijklmnopqrstuvwxyz\":\n",
    "        features[\"count({})\".format(letter)] = name.lower().count(letter)\n",
    "        features[\"has({})\".format(letter)] = (letter in name.lower())\n",
    "    features[\"suffix2\"] = name[-2:].lower()\n",
    "    features[\"suffix3\"] = name[-3:].lower()\n",
    "    features[\"suffix4\"] = name[-4:].lower()\n",
    "    features[\"prefix3\"] = name[:3].lower()\n",
    "    features[\"prefix4\"] = name[:4].lower()\n",
    "    features[\"has_yn\"] = \"yn\" in name\n",
    "    return features\n",
    "\n",
    "# train model and print accuracy score\n",
    "train_set = [(gender_features3(n), gender) for (n, gender) in train_names]\n",
    "devtest_set = [(gender_features3(n), gender) for (n, gender) in devtest_names]\n",
    "classifier = nltk.NaiveBayesClassifier.train(train_set)\n",
    "print(nltk.classify.accuracy(classifier, devtest_set))"
   ]
  },
  {
   "cell_type": "markdown",
   "metadata": {},
   "source": [
    "The resulting score is the best yet. We will test the classifier with `gender_features3()` on our unseen data. "
   ]
  },
  {
   "cell_type": "code",
   "execution_count": 117,
   "metadata": {},
   "outputs": [
    {
     "name": "stdout",
     "output_type": "stream",
     "text": [
      "Number of Errors:  76\n",
      "correct=female   guess=male     name=Abby                          \n",
      "correct=female   guess=male     name=Alexis                        \n",
      "correct=female   guess=male     name=Alyson                        \n",
      "correct=female   guess=male     name=Averyl                        \n",
      "correct=female   guess=male     name=Bridgett                      \n",
      "correct=female   guess=male     name=Charmain                      \n",
      "correct=female   guess=male     name=Chriss                        \n",
      "correct=female   guess=male     name=Courtenay                     \n",
      "correct=female   guess=male     name=Dell                          \n",
      "correct=female   guess=male     name=Dolores                       \n",
      "correct=female   guess=male     name=Dot                           \n",
      "correct=female   guess=male     name=Esme                          \n",
      "correct=female   guess=male     name=Eve                           \n",
      "correct=female   guess=male     name=Evey                          \n",
      "correct=female   guess=male     name=Fay                           \n",
      "correct=female   guess=male     name=Flo                           \n",
      "correct=female   guess=male     name=Glen                          \n",
      "correct=female   guess=male     name=Gusty                         \n",
      "correct=female   guess=male     name=Jaime                         \n",
      "correct=female   guess=male     name=Jeniffer                      \n",
      "correct=female   guess=male     name=Jere                          \n",
      "correct=female   guess=male     name=Joyous                        \n",
      "correct=female   guess=male     name=Kat                           \n",
      "correct=female   guess=male     name=Kerstin                       \n",
      "correct=female   guess=male     name=Kirby                         \n",
      "correct=female   guess=male     name=Koo                           \n",
      "correct=female   guess=male     name=Kristin                       \n",
      "correct=female   guess=male     name=Lesly                         \n",
      "correct=female   guess=male     name=Maxy                          \n",
      "correct=female   guess=male     name=Mei                           \n",
      "correct=female   guess=male     name=Muffin                        \n",
      "correct=female   guess=male     name=Nat                           \n",
      "correct=female   guess=male     name=Norry                         \n",
      "correct=female   guess=male     name=Penny                         \n",
      "correct=female   guess=male     name=Raquel                        \n",
      "correct=female   guess=male     name=Rozamond                      \n",
      "correct=female   guess=male     name=Sam                           \n",
      "correct=female   guess=male     name=Sandy                         \n",
      "correct=female   guess=male     name=Sandye                        \n",
      "correct=female   guess=male     name=Sophey                        \n",
      "correct=female   guess=male     name=Storm                         \n",
      "correct=female   guess=male     name=Sunny                         \n",
      "correct=female   guess=male     name=Terri-Jo                      \n",
      "correct=female   guess=male     name=Tish                          \n",
      "correct=female   guess=male     name=Tobe                          \n",
      "correct=female   guess=male     name=Willie                        \n",
      "correct=female   guess=male     name=Wynnie                        \n",
      "correct=male     guess=female   name=Alan                          \n",
      "correct=male     guess=female   name=Baillie                       \n",
      "correct=male     guess=female   name=Barrie                        \n",
      "correct=male     guess=female   name=Bertie                        \n",
      "correct=male     guess=female   name=Blaine                        \n",
      "correct=male     guess=female   name=Carleigh                      \n",
      "correct=male     guess=female   name=Carlin                        \n",
      "correct=male     guess=female   name=Caryl                         \n",
      "correct=male     guess=female   name=Cass                          \n",
      "correct=male     guess=female   name=Clyde                         \n",
      "correct=male     guess=female   name=Dannie                        \n",
      "correct=male     guess=female   name=Eddy                          \n",
      "correct=male     guess=female   name=Erin                          \n",
      "correct=male     guess=female   name=Franklin                      \n",
      "correct=male     guess=female   name=Gail                          \n",
      "correct=male     guess=female   name=Juanita                       \n",
      "correct=male     guess=female   name=Len                           \n",
      "correct=male     guess=female   name=Manny                         \n",
      "correct=male     guess=female   name=Meredeth                      \n",
      "correct=male     guess=female   name=Micheil                       \n",
      "correct=male     guess=female   name=Michele                       \n",
      "correct=male     guess=female   name=Neil                          \n",
      "correct=male     guess=female   name=Orville                       \n",
      "correct=male     guess=female   name=Partha                        \n",
      "correct=male     guess=female   name=Patsy                         \n",
      "correct=male     guess=female   name=Randi                         \n",
      "correct=male     guess=female   name=Saundra                       \n",
      "correct=male     guess=female   name=Slade                         \n",
      "correct=male     guess=female   name=Tristan                       \n"
     ]
    }
   ],
   "source": [
    "# print error results\n",
    "error_analysis(gender_features3)"
   ]
  },
  {
   "cell_type": "code",
   "execution_count": 118,
   "metadata": {},
   "outputs": [
    {
     "name": "stdout",
     "output_type": "stream",
     "text": [
      "0.846\n"
     ]
    }
   ],
   "source": [
    "# final performance test\n",
    "test_set = [(gender_features3(n), gender) for (n, gender) in test_names]\n",
    "print(nltk.classify.accuracy(classifier, test_set))"
   ]
  },
  {
   "cell_type": "markdown",
   "metadata": {},
   "source": [
    "### Conclusion\n",
    "The performance on the test set is on par with the performance on the dev-test set. We did not expect much improvement as we already had good amount of parameters, and any addition would have lead to over fitting. By random chance, the test set has names that adheres to our gender features similar to the dev-test set, resulting in similar performance."
   ]
  }
 ],
 "metadata": {
  "kernelspec": {
   "display_name": "Python 3",
   "language": "python",
   "name": "python3"
  },
  "language_info": {
   "codemirror_mode": {
    "name": "ipython",
    "version": 3
   },
   "file_extension": ".py",
   "mimetype": "text/x-python",
   "name": "python",
   "nbconvert_exporter": "python",
   "pygments_lexer": "ipython3",
   "version": "3.7.3"
  }
 },
 "nbformat": 4,
 "nbformat_minor": 2
}
