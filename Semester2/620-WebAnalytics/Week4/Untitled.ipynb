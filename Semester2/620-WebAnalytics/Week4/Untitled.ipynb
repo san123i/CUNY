{
 "cells": [
  {
   "cell_type": "markdown",
   "metadata": {},
   "source": [
    "# Assignment – High Frequency Words"
   ]
  },
  {
   "cell_type": "markdown",
   "metadata": {},
   "source": [
    "\tGroup 4\n",
    "\n",
    "\tSantosh Cheruku\n",
    "\tVinicio Haro\n",
    "\tJavern Wilson\n",
    "\tSaayed Alam\n"
   ]
  },
  {
   "cell_type": "markdown",
   "metadata": {},
   "source": [
    "Problem Statement\n",
    "Choose a corpus of interest.\n",
    "How many total unique words are in the corpus? (Please feel free to define unique words in any interesting, defensible way).\n",
    "Taking the most common words, how many unique words represent half of the total words in the corpus?\n",
    "Identify the 200 highest frequency words in this corpus.\n",
    "Create a graph that shows the relative frequency of these 200 words.\n",
    "Does the observed relative frequency of these words follow Zipf’s law? Explain.\n",
    "In what ways do you think the frequency of the words in this corpus differ from “all words in all corpora.”"
   ]
  },
  {
   "cell_type": "code",
   "execution_count": 3,
   "metadata": {},
   "outputs": [],
   "source": [
    "import requests\n",
    "import nltk\n",
    "import collections\n",
    "import nltk, re, pprint\n",
    "from nltk import word_tokenize\n",
    "from nltk.corpus import stopwords\n",
    "import urllib2\n",
    "import operator\n",
    "import pandas as pd\n",
    "import matplotlib.pyplot as plt\n",
    "from collections import Counter "
   ]
  },
  {
   "cell_type": "code",
   "execution_count": 4,
   "metadata": {},
   "outputs": [],
   "source": [
    "url = \"https://raw.githubusercontent.com/san123i/CUNY/master/Semester2/620-WebAnalytics/Week4/data.txt\""
   ]
  },
  {
   "cell_type": "code",
   "execution_count": 5,
   "metadata": {},
   "outputs": [],
   "source": [
    "response = urllib2.urlopen(url)\n",
    "raw = response.read()\n",
    "raw = unicode(raw, 'utf-8')"
   ]
  },
  {
   "cell_type": "code",
   "execution_count": 8,
   "metadata": {},
   "outputs": [],
   "source": [
    "list_words = raw.split()\n",
    "counter = Counter(list_words)\n",
    "unique_words = sorted(counter)"
   ]
  },
  {
   "cell_type": "code",
   "execution_count": 9,
   "metadata": {},
   "outputs": [
    {
     "name": "stdout",
     "output_type": "stream",
     "text": [
      "14321\n"
     ]
    }
   ],
   "source": [
    "#How many total unique words are in the corpus? (Please feel free to define unique words in any interesting, defensible way).\n",
    "print(len(unique_words))"
   ]
  },
  {
   "cell_type": "code",
   "execution_count": null,
   "metadata": {},
   "outputs": [],
   "source": []
  },
  {
   "cell_type": "code",
   "execution_count": 10,
   "metadata": {},
   "outputs": [],
   "source": [
    "#Identify the 200 highest frequency words in this corpus.\n",
    "common_200_words = counter.most_common(200)\n",
    "common_200_words_dict = dict(common_200_words)"
   ]
  },
  {
   "cell_type": "code",
   "execution_count": 11,
   "metadata": {},
   "outputs": [
    {
     "name": "stdout",
     "output_type": "stream",
     "text": [
      "{u'all': 216, u'think': 47, u'looked': 44, u'just': 81, u'over': 100, u'through': 81, u'behind': 39, u'go': 107, u'still': 53, u'its': 65, u'seemed': 88, u'William': 49, u'His': 78, u'\\xa7': 83, u'had': 649, u'young': 69, u'should': 54, u'to': 1695, u'only': 83, u'going': 84, u'saw': 48, u'under': 48, u'must': 68, u'might': 75, u'ought': 42, u'it.': 66, u'then': 157, u'them': 77, u'his': 909, u'They': 63, u'get': 94, u'very': 172, u'Mrs.': 84, u'Project': 79, u'me': 72, u'She': 113, u'they': 158, u'not': 307, u'now': 87, u'him': 258, u'Bealby.': 78, u'like': 127, u'In': 50, u'did': 118, u'\\u201cYou': 62, u'Mergleson': 44, u'large': 55, u'this': 225, u'she': 270, u'found': 58, u'went': 98, u'where': 48, u'old': 72, u'Bealby': 297, u'For': 46, u'people': 41, u'Bealby\\u2019s': 42, u'some': 139, u'back': 78, u'see': 66, u'are': 100, u'out': 171, u'even': 39, u'what': 90, u'said': 429, u'for': 459, u'Chancellor': 55, u'away': 60, u'boy': 40, u'him.': 80, u'him,': 40, u'got': 133, u'before': 75, u'ever': 40, u'He': 633, u'be': 302, u'we': 57, u'who': 84, u'Professor': 49, u'never': 41, u'quite': 80, u'come': 62, u'by': 242, u'on': 313, u'about': 190, u'last': 51, u'her': 227, u'of': 2038, u'could': 119, u'Mr.': 226, u'thing': 58, u'became': 48, u'Captain': 104, u'or': 171, u'first': 65, u'suddenly': 45, u'caravan': 47, u'into': 164, u'There': 81, u'one': 180, u'down': 83, u'But': 128, u'your': 90, u'\\u201cI': 141, u'has': 43, u'little': 226, u'long': 52, u'from': 232, u'would': 181, u'tramp': 77, u'there': 175, u'two': 68, u'been': 154, u'their': 68, u'much': 69, u'don\\u2019t': 61, u'way': 62, u'was': 1180, u'tell': 51, u'more': 130, u'sort': 51, u'head': 54, u'himself': 70, u'door': 39, u'that': 726, u'great': 77, u'but': 221, u'too': 55, u'with': 625, u'than': 88, u'those': 45, u'he': 1163, u'And': 234, u'made': 93, u'these': 93, u'work': 55, u'up': 193, u'can': 45, u'were': 208, u'voice': 44, u'my': 97, u'say': 41, u'something': 70, u'and': 2250, u'Sir': 46, u'do': 111, u'almost': 60, u'is': 175, u'mind': 40, u'it': 520, u'Douglas': 58, u'an': 237, u'as': 329, u'good': 67, u'at': 401, u'have': 173, u'in': 939, u'Lord': 167, u'You': 60, u'face': 46, u'said,': 71, u'any': 111, u'said.': 52, u'if': 118, u'Then': 122, u'no': 125, u'rather': 60, u'things': 70, u'when': 96, u'how': 50, u'other': 81, u'which': 106, u'you': 384, u'A': 61, u'Gutenberg-tm': 53, u'Bowles': 44, u'I': 294, u'after': 104, u'upon': 124, u'hand': 43, u'most': 40, u'moment': 60, u'nothing': 39, u'such': 49, u'The': 287, u'man': 111, u'a': 2077, u'off': 64, u'well': 41, u'It': 188, u'asked': 49, u'thought': 72, u'without': 41, u'so': 155, u'At': 42, u'time': 89, u'the': 3607, u'If': 51, u'came': 128, u'know': 58}\n"
     ]
    },
    {
     "data": {
      "text/plain": [
       "[<matplotlib.lines.Line2D at 0xf561438>]"
      ]
     },
     "execution_count": 11,
     "metadata": {},
     "output_type": "execute_result"
    },
    {
     "data": {
      "image/png": "[encoded data removed]",
      "text/plain": [
       "<Figure size 432x288 with 1 Axes>"
      ]
     },
     "metadata": {
      "needs_background": "light"
     },
     "output_type": "display_data"
    }
   ],
   "source": [
    "#Create a graph that shows the relative frequency of these 200 words\n",
    "lists = sorted(common_200_words_dict.items(), key=operator.itemgetter(1), reverse=True)\n",
    "print(common_200_words_dict)\n",
    "keys, values = zip(*lists)\n",
    "plt.plot(keys, values)\n"
   ]
  },
  {
   "cell_type": "code",
   "execution_count": null,
   "metadata": {},
   "outputs": [],
   "source": [
    "#Does the observed relative frequency of these words follow Zipf’s law? Explain\n",
    "Yes, the observed relative frequency follows the Zipfs law. \n",
    "Zips law states that the frequency of any word is inversely proportional to its rank in the frequency table. Looking at the chart,\n",
    "its clearly visible that the frequency of the most common word is "
   ]
  }
 ],
 "metadata": {
  "kernelspec": {
   "display_name": "Python 2",
   "language": "python",
   "name": "python2"
  },
  "language_info": {
   "codemirror_mode": {
    "name": "ipython",
    "version": 2
   },
   "file_extension": ".py",
   "mimetype": "text/x-python",
   "name": "python",
   "nbconvert_exporter": "python",
   "pygments_lexer": "ipython2",
   "version": "2.7.16"
  }
 },
 "nbformat": 4,
 "nbformat_minor": 2
}
