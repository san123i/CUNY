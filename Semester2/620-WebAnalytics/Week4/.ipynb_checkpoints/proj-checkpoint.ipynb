{
 "cells": [
  {
   "cell_type": "markdown",
   "metadata": {},
   "source": [
    "### DATA 620\n",
    "#### Project 2   \n",
    "### [Video Presentation]()\n",
    "##### Group Four\n",
    "- Santosh Cheruku\n",
    "- Vinicio Haro\n",
    "- Javern Wilson\n",
    "- Saayed Alam  "
   ]
  },
  {
   "cell_type": "code",
   "execution_count": null,
   "metadata": {},
   "outputs": [],
   "source": [
    "# load libraries\n",
    "import pandas as pd\n",
    "import networkx as nx\n",
    "import matplotlib.pyplot as plt\n",
    "import math\n",
    "from networkx.algorithms import bipartite as bi\n",
    "from collections import Counter\n",
    "% matplotlib inline"
   ]
  },
  {
   "cell_type": "markdown",
   "metadata": {},
   "source": [
    "In this assignment, we are asked to identify a large 2-node network dataset. The data meets the criteria that it consists of ties between and not within two (or more) distinct groups."
   ]
  },
  {
   "cell_type": "code",
   "execution_count": 814,
   "metadata": {},
   "outputs": [],
   "source": [
    "appear = pd.read_csv(\"https://raw.githubusercontent.com/saayedalam/Data/master/out.actor-movie\",\n",
    "                  header = None, skiprows = 1, sep = \" \").rename(columns = {0: \"movie\", 1: \"actor\"}).drop(2, axis = 1)\n",
    "appear['appearance'] = appear.groupby(['actor']).actor.transform('count')"
   ]
  },
  {
   "cell_type": "markdown",
   "metadata": {},
   "source": [
    "We reduce the size of the network by selecting highest number of edges between nodes i.e. number of appearances by an actor. "
   ]
  },
  {
   "cell_type": "code",
   "execution_count": 815,
   "metadata": {},
   "outputs": [],
   "source": [
    "appear = appear.sort_values(by = \"appearance\", ascending = False)\n",
    "appear = appear.head(50000)"
   ]
  },
  {
   "cell_type": "code",
   "execution_count": 816,
   "metadata": {},
   "outputs": [],
   "source": [
    "#s = nx.Graph(name = \"Sites\")\n",
    "#node_values = list(appear.movie.values) + list(appear.actor.values)  \n",
    "#s.add_nodes_from(node_values)\n",
    "#subset = appear[['movie', 'actor']]\n",
    "#edges_tuples = [tuple(x) for x in subset.values]\n",
    "#s.add_weighted_edges_from(edges_tuples)\n",
    "\n",
    "B = nx.Graph()\n",
    "# Add nodes with the node attribute \"bipartite\"\n",
    "B.add_nodes_from(list(appear.movie.values), bipartite=0)\n",
    "B.add_nodes_from(list(appear.actor.values), bipartite=1)\n",
    "# Add edges only between nodes of opposite node sets\n",
    "subset = appear[['movie', 'actor']]\n",
    "edges_tuples = [tuple(x) for x in subset.values]\n",
    "B.add_edges_from(edges_tuples, weight = appear.appearance)"
   ]
  },
  {
   "cell_type": "code",
   "execution_count": 818,
   "metadata": {},
   "outputs": [
    {
     "data": {
      "text/plain": [
       "3"
      ]
     },
     "execution_count": 818,
     "metadata": {},
     "output_type": "execute_result"
    }
   ],
   "source": [
    "len(list(nx.connected_component_subgraphs(B)))"
   ]
  },
  {
   "cell_type": "code",
   "execution_count": 819,
   "metadata": {},
   "outputs": [
    {
     "name": "stdout",
     "output_type": "stream",
     "text": [
      "Name: \n",
      "Type: Graph\n",
      "Number of nodes: 22836\n",
      "Number of edges: 49997\n",
      "Average degree:   4.3788\n"
     ]
    }
   ],
   "source": [
    "print(nx.info(B))"
   ]
  },
  {
   "cell_type": "markdown",
   "metadata": {},
   "source": [
    "What can you infer about each of the distinct groups?"
   ]
  },
  {
   "cell_type": "code",
   "execution_count": 820,
   "metadata": {},
   "outputs": [],
   "source": [
    "top_nodes = {n for n, d in B.nodes(data=True) if d['bipartite']==0}\n",
    "bottom_nodes = set(B) - top_nodes"
   ]
  },
  {
   "cell_type": "code",
   "execution_count": null,
   "metadata": {},
   "outputs": [],
   "source": [
    "W = bi.projected_graph(B, top_nodes)\n",
    "\n",
    "nx.draw(W)"
   ]
  },
  {
   "cell_type": "code",
   "execution_count": null,
   "metadata": {},
   "outputs": [],
   "source": []
  }
 ],
 "metadata": {
  "kernelspec": {
   "display_name": "Python 2",
   "language": "python",
   "name": "python2"
  },
  "language_info": {
   "codemirror_mode": {
    "name": "ipython",
    "version": 2
   },
   "file_extension": ".py",
   "mimetype": "text/x-python",
   "name": "python",
   "nbconvert_exporter": "python",
   "pygments_lexer": "ipython2",
   "version": "2.7.16"
  }
 },
 "nbformat": 4,
 "nbformat_minor": 2
}
