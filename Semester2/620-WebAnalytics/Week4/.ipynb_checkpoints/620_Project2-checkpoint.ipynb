{
 "cells": [
  {
   "cell_type": "markdown",
   "metadata": {},
   "source": [
    "### DATA 620\n",
    "#### Project 2   \n",
    "### [Video Presentation]()\n",
    "##### Group Four\n",
    "- Santosh Cheruku\n",
    "- Vinicio Haro\n",
    "- Javern Wilson\n",
    "- Saayed Alam  "
   ]
  },
  {
   "cell_type": "code",
   "execution_count": null,
   "metadata": {},
   "outputs": [],
   "source": [
    "# load libraries\n",
    "import pandas as pd\n",
    "import numpy as np\n",
    "import networkx as nx\n",
    "import matplotlib.pyplot as plt\n",
    "import math\n",
    "from networkx.algorithms import bipartite as bi\n",
    "from collections import Counter\n",
    "% matplotlib inline"
   ]
  },
  {
   "cell_type": "markdown",
   "metadata": {},
   "source": [
    "In this assignment, we are asked to identify a large 2-node network dataset. The data meets the criteria that it consists of ties between and not within two (or more) distinct groups. In our case the ties are between actors and movies. More precisely, an edge represents an appearance by an actor in a movie. There are no ties between actors nor movies. "
   ]
  },
  {
   "cell_type": "code",
   "execution_count": null,
   "metadata": {},
   "outputs": [],
   "source": [
    "# load dataset\n",
    "appear = pd.read_csv(\"https://raw.githubusercontent.com/san123i/CUNY/master/Semester2/620-WebAnalytics/Week4/data/out.actor-movie\",\n",
    "                  header = None, skiprows = 1, sep = \" \").rename(columns = {0: \"movie\", 1: \"actor\", 2: \"appearance\"})"
   ]
  },
  {
   "cell_type": "markdown",
   "metadata": {},
   "source": [
    "### Dataset\n",
    "This is a bipartite network of movies and the actors that have played in them. Since the dataset has more than a million edges, we will first sample only 2% of the dataset. We also built a weight variable which is the number of appearances an actor has made in movies. The more appearances an actor has, the more experience he has. "
   ]
  },
  {
   "cell_type": "code",
   "execution_count": null,
   "metadata": {
    "scrolled": false
   },
   "outputs": [],
   "source": [
    "# create a new variable of weight\n",
    "appear['appearance'] = appear.groupby(['actor',]).actor.transform('count')\n",
    "\n",
    "# sample 2% of the dataset\n",
    "appear = appear.sample(frac = 0.2, random_state = 123)\n",
    "appear.head()"
   ]
  },
  {
   "cell_type": "code",
   "execution_count": null,
   "metadata": {},
   "outputs": [],
   "source": [
    "# create a graph\n",
    "B = nx.Graph()\n",
    "\n",
    "# add nodes with the node attribute \"bipartite\"\n",
    "B.add_nodes_from(list(appear.movie.values), bipartite=0)\n",
    "B.add_nodes_from(list(appear.actor.values), bipartite=1)\n",
    "\n",
    "# add edges only between nodes of opposite node sets with weights\n",
    "subset = appear[['movie', 'actor', 'appearance']]\n",
    "edges_tuples = [tuple(x) for x in subset.values]\n",
    "B.add_weighted_edges_from(edges_tuples)"
   ]
  },
  {
   "cell_type": "code",
   "execution_count": null,
   "metadata": {},
   "outputs": [],
   "source": [
    "# print graph info\n",
    "print(nx.info(B))"
   ]
  },
  {
   "cell_type": "markdown",
   "metadata": {},
   "source": [
    "### Data Preparation\n",
    "We reduce the size of the network by island method. The island method works as follows: imagine our network as an island with a complex terrain, where the height of each point on the terrain is defined by the value of a node (number of appearances). Now let us imagine that the water level around this island is rising slowly, leaving portions of the landscape underwater. When the valleys in the island are flooded, the island essentially splits into smaller islands—revealing where the highest peaks are, and making these peaks smaller. In our case, the water level will reveal highest number of appearances"
   ]
  },
  {
   "cell_type": "code",
   "execution_count": null,
   "metadata": {},
   "outputs": [],
   "source": [
    "# trim edges function from the book \n",
    "def trim_edges(g, weight = 1):\n",
    "    edges = []\n",
    "    g2 = nx.Graph()\n",
    "    for f, to, edata in g.edges(data = True):\n",
    "        if edata['weight'] > weight:\n",
    "            x = float(edata['weight'])\n",
    "            edges.append((f, to, x))\n",
    "    g2.add_weighted_edges_from(edges)\n",
    "    return g2\n",
    "\n",
    "# island method function from the book \n",
    "def island_method(g, iterations = 5):\n",
    "    weights = [edata['weight'] for f, to, edata in g.edges(data = True)]\n",
    "    mn = int(min(weights))\n",
    "    mx = int(max(weights))\n",
    "    step = int((mx - mn) / iterations)\n",
    "    return [[threshold, trim_edges(g, threshold)] for threshold in range(mn, mx, step)]"
   ]
  },
  {
   "cell_type": "markdown",
   "metadata": {},
   "source": [
    "Let us examine the threshold table. For instance, threshold 4 represents 517 appearances. This could be background actors or actors will multiple appearances in a movie. A visualization of the graph would clear some assumptions. It seems like a movie or two movies had 132 apperances. "
   ]
  },
  {
   "cell_type": "code",
   "execution_count": null,
   "metadata": {},
   "outputs": [],
   "source": [
    "# display thresholds\n",
    "values = [['Threshold', 'Appearances']]\n",
    "islands = island_method(B, iterations = 5)\n",
    "\n",
    "for i in islands:\n",
    "    threshold = i[0]\n",
    "    num_people = len(i[1])\n",
    "    temp_list = [threshold, num_people]\n",
    "    values.append(temp_list)\n",
    "    \n",
    "headers = values.pop(0)\n",
    "islan_df = pd.DataFrame(values, columns = headers)\n",
    "islan_df"
   ]
  },
  {
   "cell_type": "code",
   "execution_count": null,
   "metadata": {},
   "outputs": [],
   "source": [
    "plt.figure(figsize = (14, 10))\n",
    "\n",
    "# trim edges\n",
    "island_plot = trim_edges(B, 517)\n",
    "weights = [math.log(edata['weight']) for f, t, edata in island_plot.edges(data=True)]\n",
    "\n",
    "# draw threshold \n",
    "sp = nx.random_layout(island_plot)\n",
    "nx.draw_networkx(island_plot, sp, width = weights, edge_color = weights, node_size = 200,\n",
    "                node_shape = \"*\", node_color = \"green\", alpha = 0.8)\n",
    "plt.axis('off')\n",
    "plt.title(\"Appearances\")\n",
    "plt.show()"
   ]
  },
  {
   "cell_type": "markdown",
   "metadata": {},
   "source": [
    "### Inference\n",
    "What can we infer about each of the distinct groups? Since, our graph is undirected, we cannot extract component subgraphs but we can infer other information. \n",
    "\n",
    "#### Movie Network\n",
    "Let us look at the movie group first.  It is clear that the network has a number of distinct clusters; we find them using the island method and visualize the graph. The resulting network graph of threshold 4 highlights strength of relationships using color and edge thickness. We can tell by the edge between the movies that there is a strong relationship. It means both movies have high number of appearances by the same actors. "
   ]
  },
  {
   "cell_type": "code",
   "execution_count": null,
   "metadata": {},
   "outputs": [],
   "source": [
    "# movie network \n",
    "movie_graph = bi.weighted_projected_graph(B, appear.movie, ratio = False)"
   ]
  },
  {
   "cell_type": "code",
   "execution_count": null,
   "metadata": {},
   "outputs": [],
   "source": [
    "# display thresholds\n",
    "values = [['Threshold', 'Connection between Movies']]\n",
    "islands = island_method(movie_graph, iterations = 5)\n",
    "\n",
    "for i in islands:\n",
    "    threshold = i[0]\n",
    "    num_people = len(i[1])\n",
    "    temp_list = [threshold, num_people]\n",
    "    values.append(temp_list)\n",
    "    \n",
    "headers = values.pop(0)\n",
    "islan_df = pd.DataFrame(values, columns = headers)\n",
    "islan_df"
   ]
  },
  {
   "cell_type": "code",
   "execution_count": null,
   "metadata": {},
   "outputs": [],
   "source": [
    "plt.figure(figsize = (14, 10))\n",
    "\n",
    "# trim edges\n",
    "movie_island = trim_edges(movie_graph, 4)\n",
    "weights = [math.log(edata['weight']) for f, t, edata in movie_island.edges(data=True)]\n",
    "\n",
    "# draw threshold \n",
    "sp = nx.random_layout(movie_island)\n",
    "nx.draw_networkx(movie_island, sp, width = weights, edge_color = weights, node_size = 200,\n",
    "                node_shape = \"s\", alpha = 0.8, node_color = \"blue\")\n",
    "plt.axis('off')\n",
    "plt.title(\"Sample Affiliation network of Movies\")\n",
    "plt.show()"
   ]
  },
  {
   "cell_type": "markdown",
   "metadata": {},
   "source": [
    "For finding very connected movies, popular movies who are likely to hold most information or actors who can quickly connect with the wider network, we use degree centrality. The movie with most connection from above graph has 3 connections i.e.  number of appearances by the same actors. Also, we graph the edge weight of movies and see that the majority of the movies do not have that many appearances by actors. It could be because majority of the movies do not have that many starring roles. "
   ]
  },
  {
   "cell_type": "code",
   "execution_count": null,
   "metadata": {},
   "outputs": [],
   "source": [
    "# degree centrality\n",
    "max(dict(movie_island.degree()).keys())\n",
    "deg = movie_island.degree()"
   ]
  },
  {
   "cell_type": "code",
   "execution_count": null,
   "metadata": {
    "scrolled": true
   },
   "outputs": [],
   "source": [
    "plt.figure(figsize = (14, 10))\n",
    "\n",
    "# visualize degree centrality\n",
    "plt.hist(dict(deg).values(), 100) \n",
    "plt.title(\"Network of Movies—edge weight histogram\")\n",
    "plt.show()"
   ]
  },
  {
   "cell_type": "markdown",
   "metadata": {},
   "source": [
    "#### Actor Graph\n",
    "Lastly, we will look at the actor network. The weighted projected graph is the projection of the bipartite network B onto the actor nodes with weights representing the number of appearances. From the threshold table, we can tell that the count of connection is quite similar to the connection between movies. In this particular dataset, that makes sense because actors build network by being in the same movie. The more appearances they have together, the stronger their network will be. "
   ]
  },
  {
   "cell_type": "code",
   "execution_count": null,
   "metadata": {},
   "outputs": [],
   "source": [
    "# actor network\n",
    "actor_graph = bi.weighted_projected_graph(B, appear.actor, ratio = False)"
   ]
  },
  {
   "cell_type": "code",
   "execution_count": null,
   "metadata": {},
   "outputs": [],
   "source": [
    "# display thresholds\n",
    "values = [['Threshold', 'Connection between Actors']]\n",
    "islands = island_method(actor_graph, iterations = 5)\n",
    "\n",
    "for i in islands:\n",
    "    threshold = i[0]\n",
    "    num_people = len(i[1])\n",
    "    temp_list = [threshold, num_people]\n",
    "    values.append(temp_list)\n",
    "    \n",
    "headers = values.pop(0)\n",
    "islan_df = pd.DataFrame(values, columns = headers)\n",
    "islan_df"
   ]
  },
  {
   "cell_type": "code",
   "execution_count": null,
   "metadata": {},
   "outputs": [],
   "source": [
    "plt.figure(figsize = (14, 10))\n",
    "\n",
    "# trim edges\n",
    "actor_island = trim_edges(actor_graph, 4)\n",
    "weights = [math.log(edata['weight']) for f, t, edata in actor_island.edges(data=True)]\n",
    "\n",
    "# draw threshold \n",
    "sp = nx.random_layout(actor_island)\n",
    "nx.draw_networkx(actor_island, sp, width = weights, edge_color = weights, node_size = 200,\n",
    "                node_shape = \"D\", alpha = 0.8, node_color = \"yellow\")\n",
    "plt.axis('off')\n",
    "plt.title(\"Network of Actors\")\n",
    "plt.show()"
   ]
  },
  {
   "cell_type": "code",
   "execution_count": null,
   "metadata": {},
   "outputs": [],
   "source": [
    "# degree centrality\n",
    "max(dict(actor_island.degree()).keys())"
   ]
  },
  {
   "cell_type": "markdown",
   "metadata": {},
   "source": [
    "### Conclusion\n",
    "From our undirected bipartite graph, we were able to infer several informations. We found the movie that has the most appearances. We were also able to find the movies that have high number of appearances and the actors with the most appearance. In general, what we learned from the dataset is the more appearances the same actors have in a network of movies, the wider their influence will become. This is a perfect example of the Marvel Cinematic Universe. "
   ]
  }
 ],
 "metadata": {
  "kernelspec": {
   "display_name": "Python 3",
   "language": "python",
   "name": "python3"
  },
  "language_info": {
   "codemirror_mode": {
    "name": "ipython",
    "version": 3
   },
   "file_extension": ".py",
   "mimetype": "text/x-python",
   "name": "python",
   "nbconvert_exporter": "python",
   "pygments_lexer": "ipython3",
   "version": "3.7.3"
  }
 },
 "nbformat": 4,
 "nbformat_minor": 2
}
