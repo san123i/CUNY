{
 "cells": [
  {
   "cell_type": "markdown",
   "metadata": {},
   "source": [
    "Advancement of technology has made many things automated and easier to access. But in this process certain unintentional\n",
    " bias has occured which also reflects in the functioning of these systems.\n",
    "    \n",
    "# In what ways do you think Recommender Systems reinforce human bias?\n",
    "\n",
    "    1. In few cases a reinforcement of bias is evident, for example if a new customer watches Thriller movies on day one it doesnt necessarily mean he a thriller loving person, but the algorithm treats it that way based on previous choice and tends to recommend thriller movies as a top recommended list.\n",
    "    2. Recommender systems can get influenced by mass opinion i.e., if majority of people watch a story on a day it makes it to the top recommended list of almost all the users. This is incorrect since not everyone is same and may not share similar opinion.\n",
    "    3. It can get influenced by social divide. In certain countries there are hard social divisions amongst people, and this reflects in their search strings or video views. And the recommender systems today are not built to avoid these from recommending to others.\n",
    "\n",
    "\n",
    "# Do you think recommender systems reinforce or help to prevent unethical targeting or customer segmentation?  Please provide one or more examples to support your arguments.\n",
    "   I believe it depends on how the firm or team develops the recommender systems algorithms. Although they are unintentional but mistakes happens when extra care is not taken into consideration to avoid specific scenarios.\n",
    "   Refer to below examples\n",
    "   Tech firms such as Google identified below issue and quickly corrected them. This is an unintentional mistake but care should be taken to avoid such mistakes from happening. \n",
    "   https://www.theverge.com/2018/1/12/16882408/google-racist-gorillas-photo-recognition-algorithm-ai\n",
    "   Another example of Google recommender algo not considering to avoid certain social segmentation\n",
    "   https://indianexpress.com/article/trending/this-is-serious/hima-das-caste-google-search-twitter-reactions-5261424/"
   ]
  }
 ],
 "metadata": {
  "kernelspec": {
   "display_name": "Python 3",
   "language": "python",
   "name": "python3"
  },
  "language_info": {
   "codemirror_mode": {
    "name": "ipython",
    "version": 3
   },
   "file_extension": ".py",
   "mimetype": "text/x-python",
   "name": "python",
   "nbconvert_exporter": "python",
   "pygments_lexer": "ipython3",
   "version": "3.7.3"
  }
 },
 "nbformat": 4,
 "nbformat_minor": 2
}
