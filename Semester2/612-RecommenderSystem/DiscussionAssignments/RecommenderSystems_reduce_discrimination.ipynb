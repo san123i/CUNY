{
 "cells": [
  {
   "cell_type": "markdown",
   "metadata": {},
   "source": [
    "## Read one or more of the articles below and consider how to counter \n",
    "## the radicalizing effects of recommender systems or ways to prevent algorithmic discrimination."
   ]
  },
  {
   "cell_type": "markdown",
   "metadata": {},
   "source": [
    "In reference to the article shared <a href=\"https://www.nytimes.com/2018/03/10/opinion/sunday/youtube-politics-radical.html\">YouTube, the Great Radicalizer</a>, I give my opinion below on how to counter/prevent the radicalizing effects of recommender systems and algorithmic discrimination"
   ]
  },
  {
   "cell_type": "markdown",
   "metadata": {},
   "source": [
    "    1.  Analyze the rapid growth of any content popularity. Videos that trend like a rapid fire, should always be examined to make sure there is no inflammatory content that's causing it's rapid popularity.\n",
    "    2.  Rank the items in recommender systems with an ethical/controversial index such that companies such as Youtube follow a model and if a person is indulging in more of these videos, then should be served with a lesser dose. This helps improve overall health of the society.\n",
    "    3.  Perform a sentiment analysis on the comments issued against items(videos here) and see what kind of response is that video generating and curtail its recommendation accordingly.\n",
    "     4. Algorithmic discrimination can only be avoided if there is a human touch to it. Therefore, the decisions behind an algorithmic weightage for different factors should not be driven by business folks only, but also researchers who have experience in human relations."
   ]
  }
 ],
 "metadata": {
  "kernelspec": {
   "display_name": "Python 3",
   "language": "python",
   "name": "python3"
  },
  "language_info": {
   "codemirror_mode": {
    "name": "ipython",
    "version": 3
   },
   "file_extension": ".py",
   "mimetype": "text/x-python",
   "name": "python",
   "nbconvert_exporter": "python",
   "pygments_lexer": "ipython3",
   "version": "3.7.3"
  }
 },
 "nbformat": 4,
 "nbformat_minor": 2
}
