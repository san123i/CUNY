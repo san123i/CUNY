{
 "cells": [
  {
   "cell_type": "markdown",
   "metadata": {},
   "source": [
    "# Final project proposal - Draft\n",
    "\n",
    "# date: 2019-07-06\n",
    "# by: Sang Yoon (Andy) Hwang, Santosh Cheruku, Anthony Munoz, Neil Hwang"
   ]
  },
  {
   "cell_type": "code",
   "execution_count": null,
   "metadata": {},
   "outputs": [],
   "source": [
    "Proposal: The purpose of this project is to apply different algorithms for prediction and see which can delivers best results. <br/>\n",
    "Also apply a distributed computing model using either Spark or an equally effective and run the program on it.\n",
    "\n",
    "Dataset: https://grouplens.org/datasets/book-crossing/"
   ]
  }
 ],
 "metadata": {
  "kernelspec": {
   "display_name": "Python 3",
   "language": "python",
   "name": "python3"
  },
  "language_info": {
   "codemirror_mode": {
    "name": "ipython",
    "version": 3
   },
   "file_extension": ".py",
   "mimetype": "text/x-python",
   "name": "python",
   "nbconvert_exporter": "python",
   "pygments_lexer": "ipython3",
   "version": "3.7.3"
  }
 },
 "nbformat": 4,
 "nbformat_minor": 2
}
