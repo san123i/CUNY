{
 "cells": [
  {
   "cell_type": "markdown",
   "metadata": {},
   "source": [
    "# data612 - Group Project 3 : Recommender System (Matrix Factorization)\n",
    "# date: 2019-06-25\n",
    "# by: Sang Yoon (Andy) Hwang, Santosh Cheruku, Anthony Munoz"
   ]
  },
  {
   "cell_type": "markdown",
   "metadata": {},
   "source": [
    "The purpose of this project is to show which algorithm works the best for prediction - SVD, NMF and ALS/SGD (the lowest RMSE).\n",
    "We will use the algorithm that works the best to predict user ratings and recommend items."
   ]
  },
  {
   "cell_type": "markdown",
   "metadata": {},
   "source": [
    "# Data Preparation"
   ]
  },
  {
   "cell_type": "markdown",
   "metadata": {},
   "source": [
    "We are going to use 100k ratings dataset from movielens."
   ]
  },
  {
   "cell_type": "code",
   "execution_count": 113,
   "metadata": {},
   "outputs": [],
   "source": [
    "import pandas as pd\n",
    "import numpy as np\n",
    "import surprise\n",
    "from plotly.offline import init_notebook_mode, plot, iplot\n",
    "import plotly.graph_objs as go\n",
    "from surprise import Dataset\n",
    "from surprise import KNNBasic\n",
    "from surprise import Reader\n",
    "from surprise import accuracy\n",
    "from surprise.model_selection import cross_validate\n",
    "from surprise.model_selection import train_test_split"
   ]
  },
  {
   "cell_type": "markdown",
   "metadata": {},
   "source": [
    "From https://grouplens.org/datasets/movielens/, ml-latest-small will be used."
   ]
  },
  {
   "cell_type": "code",
   "execution_count": 114,
   "metadata": {},
   "outputs": [],
   "source": [
    "df = pd.read_csv('https://raw.githubusercontent.com/san123i/CUNY/master/Semester2/612-RecommenderSystem/data/ml-100k/ratings.csv')"
   ]
  },
  {
   "cell_type": "code",
   "execution_count": 115,
   "metadata": {},
   "outputs": [
    {
     "data": {
      "text/html": [
       "<div>\n",
       "<style scoped>\n",
       "    .dataframe tbody tr th:only-of-type {\n",
       "        vertical-align: middle;\n",
       "    }\n",
       "\n",
       "    .dataframe tbody tr th {\n",
       "        vertical-align: top;\n",
       "    }\n",
       "\n",
       "    .dataframe thead th {\n",
       "        text-align: right;\n",
       "    }\n",
       "</style>\n",
       "<table border=\"1\" class=\"dataframe\">\n",
       "  <thead>\n",
       "    <tr style=\"text-align: right;\">\n",
       "      <th></th>\n",
       "      <th>userId</th>\n",
       "      <th>movieId</th>\n",
       "      <th>rating</th>\n",
       "      <th>timestamp</th>\n",
       "    </tr>\n",
       "  </thead>\n",
       "  <tbody>\n",
       "    <tr>\n",
       "      <th>0</th>\n",
       "      <td>1</td>\n",
       "      <td>1</td>\n",
       "      <td>4.0</td>\n",
       "      <td>964982703</td>\n",
       "    </tr>\n",
       "    <tr>\n",
       "      <th>1</th>\n",
       "      <td>1</td>\n",
       "      <td>3</td>\n",
       "      <td>4.0</td>\n",
       "      <td>964981247</td>\n",
       "    </tr>\n",
       "    <tr>\n",
       "      <th>2</th>\n",
       "      <td>1</td>\n",
       "      <td>6</td>\n",
       "      <td>4.0</td>\n",
       "      <td>964982224</td>\n",
       "    </tr>\n",
       "    <tr>\n",
       "      <th>3</th>\n",
       "      <td>1</td>\n",
       "      <td>47</td>\n",
       "      <td>5.0</td>\n",
       "      <td>964983815</td>\n",
       "    </tr>\n",
       "    <tr>\n",
       "      <th>4</th>\n",
       "      <td>1</td>\n",
       "      <td>50</td>\n",
       "      <td>5.0</td>\n",
       "      <td>964982931</td>\n",
       "    </tr>\n",
       "  </tbody>\n",
       "</table>\n",
       "</div>"
      ],
      "text/plain": [
       "   userId  movieId  rating  timestamp\n",
       "0       1        1     4.0  964982703\n",
       "1       1        3     4.0  964981247\n",
       "2       1        6     4.0  964982224\n",
       "3       1       47     5.0  964983815\n",
       "4       1       50     5.0  964982931"
      ]
     },
     "execution_count": 115,
     "metadata": {},
     "output_type": "execute_result"
    }
   ],
   "source": [
    "df.head()"
   ]
  },
  {
   "cell_type": "markdown",
   "metadata": {},
   "source": [
    "Just to make our life a little bit easier, we will change the names of the columns."
   ]
  },
  {
   "cell_type": "code",
   "execution_count": 116,
   "metadata": {},
   "outputs": [],
   "source": [
    "df.columns = ['user','item','rating','timestamp']"
   ]
  },
  {
   "cell_type": "code",
   "execution_count": 117,
   "metadata": {},
   "outputs": [
    {
     "name": "stdout",
     "output_type": "stream",
     "text": [
      "<class 'pandas.core.frame.DataFrame'>\n",
      "RangeIndex: 100836 entries, 0 to 100835\n",
      "Data columns (total 4 columns):\n",
      "user         100836 non-null int64\n",
      "item         100836 non-null int64\n",
      "rating       100836 non-null float64\n",
      "timestamp    100836 non-null int64\n",
      "dtypes: float64(1), int64(3)\n",
      "memory usage: 3.1 MB\n"
     ]
    }
   ],
   "source": [
    "df.info()"
   ]
  },
  {
   "cell_type": "markdown",
   "metadata": {},
   "source": [
    "# Modelling"
   ]
  },
  {
   "cell_type": "markdown",
   "metadata": {},
   "source": [
    "We will find the best algorithm based on RMSE. "
   ]
  },
  {
   "cell_type": "code",
   "execution_count": 118,
   "metadata": {},
   "outputs": [],
   "source": [
    "reader = Reader(rating_scale=(df.rating.min(), df.rating.max()))\n",
    "data = Dataset.load_from_df(df[['user', 'item', 'rating']], reader)"
   ]
  },
  {
   "cell_type": "markdown",
   "metadata": {},
   "source": [
    "Let's split data into 5 folds"
   ]
  },
  {
   "cell_type": "code",
   "execution_count": 119,
   "metadata": {},
   "outputs": [],
   "source": [
    "data.split(n_folds=5)"
   ]
  },
  {
   "cell_type": "markdown",
   "metadata": {},
   "source": [
    "# SVD"
   ]
  },
  {
   "cell_type": "code",
   "execution_count": 120,
   "metadata": {},
   "outputs": [
    {
     "name": "stdout",
     "output_type": "stream",
     "text": [
      "Evaluating RMSE of algorithm SVD.\n",
      "\n",
      "------------\n",
      "Fold 1\n",
      "RMSE: 0.8729\n",
      "------------\n",
      "Fold 2\n",
      "RMSE: 0.8691\n",
      "------------\n",
      "Fold 3\n",
      "RMSE: 0.8721\n",
      "------------\n",
      "Fold 4\n",
      "RMSE: 0.8788\n",
      "------------\n",
      "Fold 5\n",
      "RMSE: 0.8793\n",
      "------------\n",
      "------------\n",
      "Mean RMSE: 0.8744\n",
      "------------\n",
      "------------\n"
     ]
    }
   ],
   "source": [
    "algo = surprise.SVD()\n",
    "rmse_svd = surprise.evaluate(algo, data, measures=['RMSE'])"
   ]
  },
  {
   "cell_type": "code",
   "execution_count": 121,
   "metadata": {},
   "outputs": [],
   "source": [
    "# result = cross_validate(algo, data, measures=['RMSE'], cv=5, verbose=False)\n",
    "# result['test_rmse'] "
   ]
  },
  {
   "cell_type": "markdown",
   "metadata": {},
   "source": [
    "# Non-negative Matrix Factorization"
   ]
  },
  {
   "cell_type": "code",
   "execution_count": 122,
   "metadata": {},
   "outputs": [
    {
     "name": "stdout",
     "output_type": "stream",
     "text": [
      "Evaluating RMSE of algorithm NMF.\n",
      "\n",
      "------------\n",
      "Fold 1\n",
      "RMSE: 0.9217\n",
      "------------\n",
      "Fold 2\n",
      "RMSE: 0.9199\n",
      "------------\n",
      "Fold 3\n",
      "RMSE: 0.9182\n",
      "------------\n",
      "Fold 4\n",
      "RMSE: 0.9227\n",
      "------------\n",
      "Fold 5\n",
      "RMSE: 0.9255\n",
      "------------\n",
      "------------\n",
      "Mean RMSE: 0.9216\n",
      "------------\n",
      "------------\n"
     ]
    }
   ],
   "source": [
    "algo = surprise.NMF()\n",
    "rmse_nmf = surprise.evaluate(algo, data, measures=['RMSE'])"
   ]
  },
  {
   "cell_type": "code",
   "execution_count": 123,
   "metadata": {},
   "outputs": [],
   "source": [
    "#result = cross_validate(algo, data, measures=['RMSE'], cv=5, verbose=False)\n",
    "#result['test_rmse'] "
   ]
  },
  {
   "cell_type": "markdown",
   "metadata": {},
   "source": [
    "# BaselineOnly"
   ]
  },
  {
   "cell_type": "code",
   "execution_count": 139,
   "metadata": {},
   "outputs": [
    {
     "name": "stdout",
     "output_type": "stream",
     "text": [
      "Evaluating RMSE of algorithm BaselineOnly.\n",
      "\n",
      "------------\n",
      "Fold 1\n",
      "Estimating biases using als...\n",
      "RMSE: 0.8717\n",
      "------------\n",
      "Fold 2\n",
      "Estimating biases using als...\n",
      "RMSE: 0.8680\n",
      "------------\n",
      "Fold 3\n",
      "Estimating biases using als...\n",
      "RMSE: 0.8712\n",
      "------------\n",
      "Fold 4\n",
      "Estimating biases using als...\n",
      "RMSE: 0.8748\n",
      "------------\n",
      "Fold 5\n",
      "Estimating biases using als...\n",
      "RMSE: 0.8780\n",
      "------------\n",
      "------------\n",
      "Mean RMSE: 0.8727\n",
      "------------\n",
      "------------\n",
      "Evaluating RMSE of algorithm BaselineOnly.\n",
      "\n",
      "------------\n",
      "Fold 1\n",
      "Estimating biases using sgd...\n",
      "RMSE: 0.8681\n",
      "------------\n",
      "Fold 2\n",
      "Estimating biases using sgd...\n",
      "RMSE: 0.8657\n",
      "------------\n",
      "Fold 3\n",
      "Estimating biases using sgd...\n",
      "RMSE: 0.8686\n",
      "------------\n",
      "Fold 4\n",
      "Estimating biases using sgd...\n",
      "RMSE: 0.8721\n",
      "------------\n",
      "Fold 5\n",
      "Estimating biases using sgd...\n",
      "RMSE: 0.8747\n",
      "------------\n",
      "------------\n",
      "Mean RMSE: 0.8698\n",
      "------------\n",
      "------------\n"
     ]
    }
   ],
   "source": [
    "algo = surprise.BaselineOnly()\n",
    "rmse_bo = surprise.evaluate(algo, data, measures=['RMSE'])\n",
    "\n",
    "bsl_options = {'method': 'sgd'}\n",
    "algo = surprise.BaselineOnly(bsl_options=bsl_options)\n",
    "rmse_bo = surprise.evaluate(algo, data, measures=['RMSE'])"
   ]
  },
  {
   "cell_type": "code",
   "execution_count": 125,
   "metadata": {},
   "outputs": [],
   "source": [
    "#result = cross_validate(algo, data, measures=['RMSE'], cv=5, verbose=False)\n",
    "#result['test_rmse'] "
   ]
  },
  {
   "cell_type": "markdown",
   "metadata": {},
   "source": [
    "Surprisingly, BaselineOnly is the winner! We will now test accuracy using training set on test set."
   ]
  },
  {
   "cell_type": "markdown",
   "metadata": {},
   "source": [
    "# BaselineOnly"
   ]
  },
  {
   "cell_type": "markdown",
   "metadata": {},
   "source": [
    "We will perform train/test (80/20) split to create model. "
   ]
  },
  {
   "cell_type": "code",
   "execution_count": 126,
   "metadata": {},
   "outputs": [],
   "source": [
    "trainset, testset = train_test_split(data, test_size=.20)"
   ]
  },
  {
   "cell_type": "markdown",
   "metadata": {},
   "source": [
    "We will configure SGD parameter for BaselineOnly"
   ]
  },
  {
   "cell_type": "code",
   "execution_count": 127,
   "metadata": {},
   "outputs": [
    {
     "name": "stdout",
     "output_type": "stream",
     "text": [
      "Estimating biases using sgd...\n",
      "RMSE: 0.8697\n"
     ]
    },
    {
     "data": {
      "text/plain": [
       "0.8697316295496047"
      ]
     },
     "execution_count": 127,
     "metadata": {},
     "output_type": "execute_result"
    }
   ],
   "source": [
    "bsl_options = {'method': 'sgd'}\n",
    "algo = surprise.BaselineOnly(bsl_options=bsl_options)\n",
    "\n",
    "# Train the algorithm on the trainset, and predict ratings for the testset\n",
    "predictions_sgd = algo.fit(trainset).test(testset)\n",
    "\n",
    "# Then compute RMSE\n",
    "accuracy.rmse(predictions_sgd)"
   ]
  },
  {
   "cell_type": "markdown",
   "metadata": {},
   "source": [
    "Let's create DataFrame using prediction result."
   ]
  },
  {
   "cell_type": "code",
   "execution_count": 128,
   "metadata": {},
   "outputs": [
    {
     "data": {
      "text/html": [
       "<div>\n",
       "<style scoped>\n",
       "    .dataframe tbody tr th:only-of-type {\n",
       "        vertical-align: middle;\n",
       "    }\n",
       "\n",
       "    .dataframe tbody tr th {\n",
       "        vertical-align: top;\n",
       "    }\n",
       "\n",
       "    .dataframe thead th {\n",
       "        text-align: right;\n",
       "    }\n",
       "</style>\n",
       "<table border=\"1\" class=\"dataframe\">\n",
       "  <thead>\n",
       "    <tr style=\"text-align: right;\">\n",
       "      <th></th>\n",
       "      <th>uid</th>\n",
       "      <th>iid</th>\n",
       "      <th>r_ui</th>\n",
       "      <th>est</th>\n",
       "      <th>details</th>\n",
       "    </tr>\n",
       "  </thead>\n",
       "  <tbody>\n",
       "    <tr>\n",
       "      <th>0</th>\n",
       "      <td>509</td>\n",
       "      <td>2571</td>\n",
       "      <td>3.5</td>\n",
       "      <td>3.789377</td>\n",
       "      <td>{u'was_impossible': False}</td>\n",
       "    </tr>\n",
       "    <tr>\n",
       "      <th>1</th>\n",
       "      <td>599</td>\n",
       "      <td>38038</td>\n",
       "      <td>3.0</td>\n",
       "      <td>3.006275</td>\n",
       "      <td>{u'was_impossible': False}</td>\n",
       "    </tr>\n",
       "    <tr>\n",
       "      <th>2</th>\n",
       "      <td>64</td>\n",
       "      <td>33794</td>\n",
       "      <td>4.0</td>\n",
       "      <td>4.071825</td>\n",
       "      <td>{u'was_impossible': False}</td>\n",
       "    </tr>\n",
       "    <tr>\n",
       "      <th>3</th>\n",
       "      <td>307</td>\n",
       "      <td>55261</td>\n",
       "      <td>3.5</td>\n",
       "      <td>2.248657</td>\n",
       "      <td>{u'was_impossible': False}</td>\n",
       "    </tr>\n",
       "    <tr>\n",
       "      <th>4</th>\n",
       "      <td>385</td>\n",
       "      <td>1035</td>\n",
       "      <td>3.0</td>\n",
       "      <td>3.751237</td>\n",
       "      <td>{u'was_impossible': False}</td>\n",
       "    </tr>\n",
       "  </tbody>\n",
       "</table>\n",
       "</div>"
      ],
      "text/plain": [
       "   uid    iid  r_ui       est                     details\n",
       "0  509   2571   3.5  3.789377  {u'was_impossible': False}\n",
       "1  599  38038   3.0  3.006275  {u'was_impossible': False}\n",
       "2   64  33794   4.0  4.071825  {u'was_impossible': False}\n",
       "3  307  55261   3.5  2.248657  {u'was_impossible': False}\n",
       "4  385   1035   3.0  3.751237  {u'was_impossible': False}"
      ]
     },
     "execution_count": 128,
     "metadata": {},
     "output_type": "execute_result"
    }
   ],
   "source": [
    "prediction_df = pd.DataFrame(predictions_sgd)\n",
    "prediction_df.head()"
   ]
  },
  {
   "cell_type": "markdown",
   "metadata": {},
   "source": [
    "Let's select worst/top 10 prediction results on testset."
   ]
  },
  {
   "cell_type": "code",
   "execution_count": 129,
   "metadata": {},
   "outputs": [],
   "source": [
    "worst_10 = abs(prediction_df['r_ui'] - prediction_df['est']).sort_values(ascending=False).head(10)\n",
    "top_10 = abs(prediction_df['r_ui'] - prediction_df['est']).sort_values(ascending=True).head(10)"
   ]
  },
  {
   "cell_type": "markdown",
   "metadata": {},
   "source": [
    "Worst 10 - it was way off."
   ]
  },
  {
   "cell_type": "code",
   "execution_count": 130,
   "metadata": {},
   "outputs": [
    {
     "data": {
      "text/html": [
       "<div>\n",
       "<style scoped>\n",
       "    .dataframe tbody tr th:only-of-type {\n",
       "        vertical-align: middle;\n",
       "    }\n",
       "\n",
       "    .dataframe tbody tr th {\n",
       "        vertical-align: top;\n",
       "    }\n",
       "\n",
       "    .dataframe thead th {\n",
       "        text-align: right;\n",
       "    }\n",
       "</style>\n",
       "<table border=\"1\" class=\"dataframe\">\n",
       "  <thead>\n",
       "    <tr style=\"text-align: right;\">\n",
       "      <th></th>\n",
       "      <th>uid</th>\n",
       "      <th>iid</th>\n",
       "      <th>r_ui</th>\n",
       "      <th>est</th>\n",
       "      <th>details</th>\n",
       "    </tr>\n",
       "  </thead>\n",
       "  <tbody>\n",
       "    <tr>\n",
       "      <th>2895</th>\n",
       "      <td>256</td>\n",
       "      <td>5618</td>\n",
       "      <td>0.5</td>\n",
       "      <td>4.669513</td>\n",
       "      <td>{u'was_impossible': False}</td>\n",
       "    </tr>\n",
       "    <tr>\n",
       "      <th>7379</th>\n",
       "      <td>210</td>\n",
       "      <td>296</td>\n",
       "      <td>0.5</td>\n",
       "      <td>4.625153</td>\n",
       "      <td>{u'was_impossible': False}</td>\n",
       "    </tr>\n",
       "    <tr>\n",
       "      <th>13673</th>\n",
       "      <td>258</td>\n",
       "      <td>87232</td>\n",
       "      <td>0.5</td>\n",
       "      <td>4.476598</td>\n",
       "      <td>{u'was_impossible': False}</td>\n",
       "    </tr>\n",
       "    <tr>\n",
       "      <th>735</th>\n",
       "      <td>258</td>\n",
       "      <td>122886</td>\n",
       "      <td>0.5</td>\n",
       "      <td>4.416706</td>\n",
       "      <td>{u'was_impossible': False}</td>\n",
       "    </tr>\n",
       "    <tr>\n",
       "      <th>19945</th>\n",
       "      <td>393</td>\n",
       "      <td>74458</td>\n",
       "      <td>0.5</td>\n",
       "      <td>4.279718</td>\n",
       "      <td>{u'was_impossible': False}</td>\n",
       "    </tr>\n",
       "    <tr>\n",
       "      <th>7086</th>\n",
       "      <td>393</td>\n",
       "      <td>1732</td>\n",
       "      <td>0.5</td>\n",
       "      <td>4.275875</td>\n",
       "      <td>{u'was_impossible': False}</td>\n",
       "    </tr>\n",
       "    <tr>\n",
       "      <th>17544</th>\n",
       "      <td>224</td>\n",
       "      <td>969</td>\n",
       "      <td>1.0</td>\n",
       "      <td>4.744918</td>\n",
       "      <td>{u'was_impossible': False}</td>\n",
       "    </tr>\n",
       "    <tr>\n",
       "      <th>303</th>\n",
       "      <td>393</td>\n",
       "      <td>1240</td>\n",
       "      <td>0.5</td>\n",
       "      <td>4.240231</td>\n",
       "      <td>{u'was_impossible': False}</td>\n",
       "    </tr>\n",
       "    <tr>\n",
       "      <th>1725</th>\n",
       "      <td>393</td>\n",
       "      <td>32587</td>\n",
       "      <td>0.5</td>\n",
       "      <td>4.217925</td>\n",
       "      <td>{u'was_impossible': False}</td>\n",
       "    </tr>\n",
       "    <tr>\n",
       "      <th>5628</th>\n",
       "      <td>344</td>\n",
       "      <td>3949</td>\n",
       "      <td>0.5</td>\n",
       "      <td>4.141279</td>\n",
       "      <td>{u'was_impossible': False}</td>\n",
       "    </tr>\n",
       "  </tbody>\n",
       "</table>\n",
       "</div>"
      ],
      "text/plain": [
       "       uid     iid  r_ui       est                     details\n",
       "2895   256    5618   0.5  4.669513  {u'was_impossible': False}\n",
       "7379   210     296   0.5  4.625153  {u'was_impossible': False}\n",
       "13673  258   87232   0.5  4.476598  {u'was_impossible': False}\n",
       "735    258  122886   0.5  4.416706  {u'was_impossible': False}\n",
       "19945  393   74458   0.5  4.279718  {u'was_impossible': False}\n",
       "7086   393    1732   0.5  4.275875  {u'was_impossible': False}\n",
       "17544  224     969   1.0  4.744918  {u'was_impossible': False}\n",
       "303    393    1240   0.5  4.240231  {u'was_impossible': False}\n",
       "1725   393   32587   0.5  4.217925  {u'was_impossible': False}\n",
       "5628   344    3949   0.5  4.141279  {u'was_impossible': False}"
      ]
     },
     "execution_count": 130,
     "metadata": {},
     "output_type": "execute_result"
    }
   ],
   "source": [
    "prediction_df.iloc[worst_10.index]"
   ]
  },
  {
   "cell_type": "markdown",
   "metadata": {},
   "source": [
    "Best 10 - it predicted perfectly."
   ]
  },
  {
   "cell_type": "code",
   "execution_count": 131,
   "metadata": {},
   "outputs": [
    {
     "data": {
      "text/html": [
       "<div>\n",
       "<style scoped>\n",
       "    .dataframe tbody tr th:only-of-type {\n",
       "        vertical-align: middle;\n",
       "    }\n",
       "\n",
       "    .dataframe tbody tr th {\n",
       "        vertical-align: top;\n",
       "    }\n",
       "\n",
       "    .dataframe thead th {\n",
       "        text-align: right;\n",
       "    }\n",
       "</style>\n",
       "<table border=\"1\" class=\"dataframe\">\n",
       "  <thead>\n",
       "    <tr style=\"text-align: right;\">\n",
       "      <th></th>\n",
       "      <th>uid</th>\n",
       "      <th>iid</th>\n",
       "      <th>r_ui</th>\n",
       "      <th>est</th>\n",
       "      <th>details</th>\n",
       "    </tr>\n",
       "  </thead>\n",
       "  <tbody>\n",
       "    <tr>\n",
       "      <th>11671</th>\n",
       "      <td>276</td>\n",
       "      <td>1210</td>\n",
       "      <td>5.0</td>\n",
       "      <td>5.0</td>\n",
       "      <td>{u'was_impossible': False}</td>\n",
       "    </tr>\n",
       "    <tr>\n",
       "      <th>10560</th>\n",
       "      <td>523</td>\n",
       "      <td>5618</td>\n",
       "      <td>5.0</td>\n",
       "      <td>5.0</td>\n",
       "      <td>{u'was_impossible': False}</td>\n",
       "    </tr>\n",
       "    <tr>\n",
       "      <th>8174</th>\n",
       "      <td>93</td>\n",
       "      <td>356</td>\n",
       "      <td>5.0</td>\n",
       "      <td>5.0</td>\n",
       "      <td>{u'was_impossible': False}</td>\n",
       "    </tr>\n",
       "    <tr>\n",
       "      <th>8989</th>\n",
       "      <td>53</td>\n",
       "      <td>3100</td>\n",
       "      <td>5.0</td>\n",
       "      <td>5.0</td>\n",
       "      <td>{u'was_impossible': False}</td>\n",
       "    </tr>\n",
       "    <tr>\n",
       "      <th>18874</th>\n",
       "      <td>122</td>\n",
       "      <td>858</td>\n",
       "      <td>5.0</td>\n",
       "      <td>5.0</td>\n",
       "      <td>{u'was_impossible': False}</td>\n",
       "    </tr>\n",
       "    <tr>\n",
       "      <th>18828</th>\n",
       "      <td>371</td>\n",
       "      <td>2571</td>\n",
       "      <td>5.0</td>\n",
       "      <td>5.0</td>\n",
       "      <td>{u'was_impossible': False}</td>\n",
       "    </tr>\n",
       "    <tr>\n",
       "      <th>1145</th>\n",
       "      <td>171</td>\n",
       "      <td>318</td>\n",
       "      <td>5.0</td>\n",
       "      <td>5.0</td>\n",
       "      <td>{u'was_impossible': False}</td>\n",
       "    </tr>\n",
       "    <tr>\n",
       "      <th>108</th>\n",
       "      <td>515</td>\n",
       "      <td>48516</td>\n",
       "      <td>5.0</td>\n",
       "      <td>5.0</td>\n",
       "      <td>{u'was_impossible': False}</td>\n",
       "    </tr>\n",
       "    <tr>\n",
       "      <th>4091</th>\n",
       "      <td>1</td>\n",
       "      <td>1213</td>\n",
       "      <td>5.0</td>\n",
       "      <td>5.0</td>\n",
       "      <td>{u'was_impossible': False}</td>\n",
       "    </tr>\n",
       "    <tr>\n",
       "      <th>14091</th>\n",
       "      <td>452</td>\n",
       "      <td>1136</td>\n",
       "      <td>5.0</td>\n",
       "      <td>5.0</td>\n",
       "      <td>{u'was_impossible': False}</td>\n",
       "    </tr>\n",
       "  </tbody>\n",
       "</table>\n",
       "</div>"
      ],
      "text/plain": [
       "       uid    iid  r_ui  est                     details\n",
       "11671  276   1210   5.0  5.0  {u'was_impossible': False}\n",
       "10560  523   5618   5.0  5.0  {u'was_impossible': False}\n",
       "8174    93    356   5.0  5.0  {u'was_impossible': False}\n",
       "8989    53   3100   5.0  5.0  {u'was_impossible': False}\n",
       "18874  122    858   5.0  5.0  {u'was_impossible': False}\n",
       "18828  371   2571   5.0  5.0  {u'was_impossible': False}\n",
       "1145   171    318   5.0  5.0  {u'was_impossible': False}\n",
       "108    515  48516   5.0  5.0  {u'was_impossible': False}\n",
       "4091     1   1213   5.0  5.0  {u'was_impossible': False}\n",
       "14091  452   1136   5.0  5.0  {u'was_impossible': False}"
      ]
     },
     "execution_count": 131,
     "metadata": {},
     "output_type": "execute_result"
    }
   ],
   "source": [
    "prediction_df.iloc[top_10.index]"
   ]
  },
  {
   "cell_type": "markdown",
   "metadata": {},
   "source": [
    "We can also use individual uid and iid to check individual prediciton result. Let's select one of the options in testset."
   ]
  },
  {
   "cell_type": "code",
   "execution_count": 132,
   "metadata": {},
   "outputs": [],
   "source": [
    "test_10 = testset[0:10]"
   ]
  },
  {
   "cell_type": "code",
   "execution_count": 133,
   "metadata": {},
   "outputs": [
    {
     "name": "stdout",
     "output_type": "stream",
     "text": [
      "user: 599        item: 38038      r_ui = 3.00   est = 3.01   {u'was_impossible': False}\n"
     ]
    }
   ],
   "source": [
    "# prediction using training set compare the results with testset\n",
    "uid = test_10[1][0]   # raw user id (as in the ratings file).\n",
    "iid = test_10[1][1]   # raw item id (as in the ratings file).\n",
    "\n",
    "# get a prediction for specific users and items.\n",
    "pred = algo.predict(uid, iid, r_ui=test_10[1][2], verbose=True)"
   ]
  },
  {
   "cell_type": "markdown",
   "metadata": {},
   "source": [
    "We will then recommend top 5 movies by predicted ratings for any selected user. This time, I will merge item title data set with rating data set."
   ]
  },
  {
   "cell_type": "code",
   "execution_count": 134,
   "metadata": {},
   "outputs": [],
   "source": [
    "item_names = pd.read_csv('https://raw.githubusercontent.com/san123i/CUNY/master/Semester2/612-RecommenderSystem/data/ml-100k/movies.csv')\n",
    "item_names = item_names.iloc[:,[0,1]]\n",
    "item_names.columns = ['iid', 'title']\n",
    "prediction_df = prediction_df.merge(item_names, on = 'iid', how = 'inner')"
   ]
  },
  {
   "cell_type": "code",
   "execution_count": 135,
   "metadata": {},
   "outputs": [
    {
     "name": "stdout",
     "output_type": "stream",
     "text": [
      "top 5 movies for uid: 599 are iid: 1204 - Lawrence of Arabia (1962) with predicted ratings of 3.48038971771\n",
      "top 5 movies for uid: 599 are iid: 750 - Dr. Strangelove or: How I Learned to Stop Worrying and Love the Bomb (1964) with predicted ratings of 3.4785538895\n",
      "top 5 movies for uid: 599 are iid: 1104 - Streetcar Named Desire, A (1951) with predicted ratings of 3.46728978494\n",
      "top 5 movies for uid: 599 are iid: 904 - Rear Window (1954) with predicted ratings of 3.42858658907\n",
      "top 5 movies for uid: 599 are iid: 1223 - Grand Day Out with Wallace and Gromit, A (1989) with predicted ratings of 3.3773098515\n"
     ]
    }
   ],
   "source": [
    "def recommender_user(uid):\n",
    "    top_5 = prediction_df[prediction_df.uid == uid].sort_values(by = 'est', ascending = False).head(5)\n",
    "    for i in range(len(top_5)):\n",
    "        print('top 5 movies for uid: {0} are iid: {1} - {2} with predicted ratings of {3}'.format(uid, top_5.iid.values[i], top_5.title.values[i], top_5.est.values[i]))\n",
    "\n",
    "recommender_user(uid)"
   ]
  },
  {
   "cell_type": "markdown",
   "metadata": {},
   "source": [
    "# Conclusion - Evaluation"
   ]
  },
  {
   "cell_type": "code",
   "execution_count": 136,
   "metadata": {},
   "outputs": [],
   "source": [
    "rmse_models = [np.mean(rmse_svd['rmse']),np.mean(rmse_nmf['rmse']),np.mean(rmse_bo['rmse'])]\n",
    "rmse_df = pd.DataFrame(rmse_models)\n",
    "rmse_df.index = ['SVD','NMF','BaselineOnly']\n",
    "rmse_df.columns = ['RMSE - CV 5 folds']"
   ]
  },
  {
   "cell_type": "code",
   "execution_count": 137,
   "metadata": {},
   "outputs": [
    {
     "data": {
      "text/plain": [
       "<matplotlib.axes._subplots.AxesSubplot at 0x16b35eb8>"
      ]
     },
     "execution_count": 137,
     "metadata": {},
     "output_type": "execute_result"
    },
    {
     "data": {
      "image/png": "[encoded data removed]",
      "text/plain": [
       "<Figure size 432x288 with 1 Axes>"
      ]
     },
     "metadata": {
      "needs_background": "light"
     },
     "output_type": "display_data"
    }
   ],
   "source": [
    "df.rating.hist()"
   ]
  },
  {
   "cell_type": "code",
   "execution_count": 138,
   "metadata": {},
   "outputs": [
    {
     "data": {
      "text/html": [
       "<div>\n",
       "<style scoped>\n",
       "    .dataframe tbody tr th:only-of-type {\n",
       "        vertical-align: middle;\n",
       "    }\n",
       "\n",
       "    .dataframe tbody tr th {\n",
       "        vertical-align: top;\n",
       "    }\n",
       "\n",
       "    .dataframe thead th {\n",
       "        text-align: right;\n",
       "    }\n",
       "</style>\n",
       "<table border=\"1\" class=\"dataframe\">\n",
       "  <thead>\n",
       "    <tr style=\"text-align: right;\">\n",
       "      <th></th>\n",
       "      <th>RMSE - CV 5 folds</th>\n",
       "    </tr>\n",
       "  </thead>\n",
       "  <tbody>\n",
       "    <tr>\n",
       "      <th>SVD</th>\n",
       "      <td>0.874427</td>\n",
       "    </tr>\n",
       "    <tr>\n",
       "      <th>NMF</th>\n",
       "      <td>0.921585</td>\n",
       "    </tr>\n",
       "    <tr>\n",
       "      <th>BaselineOnly</th>\n",
       "      <td>0.872740</td>\n",
       "    </tr>\n",
       "  </tbody>\n",
       "</table>\n",
       "</div>"
      ],
      "text/plain": [
       "              RMSE - CV 5 folds\n",
       "SVD                    0.874427\n",
       "NMF                    0.921585\n",
       "BaselineOnly           0.872740"
      ]
     },
     "execution_count": 138,
     "metadata": {},
     "output_type": "execute_result"
    }
   ],
   "source": [
    "rmse_df"
   ]
  },
  {
   "cell_type": "markdown",
   "metadata": {},
   "source": [
    "Our first thought was that SVD would give us the best result but it did not as RMSE for SVD is little bit higher than BaselineOnly's. We cannot, however, strictly say that one should always prefer BaselineOnly to SGD based SVD - depending on the case, one can still use SVD if that is more suitable for his/her own purpose. \n",
    "\n",
    "We then have to think about why SVD had higher RMSE. \n",
    "\n",
    "Our guess is that it could be something to do with feature scaling issue - how ratings are scaled. \n",
    "From the documentation of the dataset we used (http://files.grouplens.org/datasets/movielens/ml-latest-small-README.html) and from the rating historgram, we know that ratings are half-star incremented. On the other hand, alternative dataset with 1 million ratings, which we could not run SVD due to the memory issue, (http://files.grouplens.org/datasets/movielens/ml-1m-README.txt) contains whole-star ratings only. \n",
    "\n",
    "According to benchmark RMSE examples on http://surpriselib.com/, we see that RMSE for SVD using 100k dataset is usually around 0.934 but only 0.873 using 1m dataset.\n",
    "\n",
    "Since SVD is based on SGD, (https://scikit-learn.org/stable/modules/sgd.html) there are several disdvantages - 1) SGD requires a number of hyperparameters such as the regularization parameter and the number of iterations. 2) SGD is sensitive to feature scaling.\n",
    "\n",
    "For the future reference, it will be a worth try to compare the RMSE of each model one another in different rating scales to see if there will be any improvement."
   ]
  }
 ],
 "metadata": {
  "kernelspec": {
   "display_name": "Python 2",
   "language": "python",
   "name": "python2"
  },
  "language_info": {
   "codemirror_mode": {
    "name": "ipython",
    "version": 2
   },
   "file_extension": ".py",
   "mimetype": "text/x-python",
   "name": "python",
   "nbconvert_exporter": "python",
   "pygments_lexer": "ipython2",
   "version": "2.7.16"
  }
 },
 "nbformat": 4,
 "nbformat_minor": 2
}
