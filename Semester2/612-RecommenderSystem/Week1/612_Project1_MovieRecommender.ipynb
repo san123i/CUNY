{
 "cells": [
  {
   "cell_type": "markdown",
   "metadata": {},
   "source": [
    "# Group: Sang Yoon (Andy) Hwang, Anthony, Santosh Cheruku\n",
    "\n",
    "The recommmender system we are building recommends movies to the users. It applies raw mean as well as baseline predictors. It also compares both and shows their overall accuracy.\n"
   ]
  },
  {
   "cell_type": "code",
   "execution_count": 14,
   "metadata": {},
   "outputs": [
    {
     "data": {
      "text/html": [
       "<div>\n",
       "<style scoped>\n",
       "    .dataframe tbody tr th:only-of-type {\n",
       "        vertical-align: middle;\n",
       "    }\n",
       "\n",
       "    .dataframe tbody tr th {\n",
       "        vertical-align: top;\n",
       "    }\n",
       "\n",
       "    .dataframe thead th {\n",
       "        text-align: right;\n",
       "    }\n",
       "</style>\n",
       "<table border=\"1\" class=\"dataframe\">\n",
       "  <thead>\n",
       "    <tr style=\"text-align: right;\">\n",
       "      <th></th>\n",
       "      <th>user</th>\n",
       "      <th>Titanic</th>\n",
       "      <th>Batman</th>\n",
       "      <th>Superman</th>\n",
       "      <th>Spiderman</th>\n",
       "      <th>Avengers</th>\n",
       "    </tr>\n",
       "  </thead>\n",
       "  <tbody>\n",
       "    <tr>\n",
       "      <th>0</th>\n",
       "      <td>Tom</td>\n",
       "      <td>5.0</td>\n",
       "      <td>5.0</td>\n",
       "      <td>1.0</td>\n",
       "      <td>NaN</td>\n",
       "      <td>4.0</td>\n",
       "    </tr>\n",
       "    <tr>\n",
       "      <th>1</th>\n",
       "      <td>Sally</td>\n",
       "      <td>4.0</td>\n",
       "      <td>5.0</td>\n",
       "      <td>1.5</td>\n",
       "      <td>4.0</td>\n",
       "      <td>5.0</td>\n",
       "    </tr>\n",
       "    <tr>\n",
       "      <th>2</th>\n",
       "      <td>Vincio</td>\n",
       "      <td>2.0</td>\n",
       "      <td>2.0</td>\n",
       "      <td>2.0</td>\n",
       "      <td>2.0</td>\n",
       "      <td>3.0</td>\n",
       "    </tr>\n",
       "    <tr>\n",
       "      <th>3</th>\n",
       "      <td>Andy</td>\n",
       "      <td>5.0</td>\n",
       "      <td>4.0</td>\n",
       "      <td>NaN</td>\n",
       "      <td>3.0</td>\n",
       "      <td>NaN</td>\n",
       "    </tr>\n",
       "    <tr>\n",
       "      <th>4</th>\n",
       "      <td>Mike</td>\n",
       "      <td>NaN</td>\n",
       "      <td>2.5</td>\n",
       "      <td>2.0</td>\n",
       "      <td>2.5</td>\n",
       "      <td>NaN</td>\n",
       "    </tr>\n",
       "  </tbody>\n",
       "</table>\n",
       "</div>"
      ],
      "text/plain": [
       "     user  Titanic  Batman  Superman  Spiderman  Avengers\n",
       "0     Tom      5.0     5.0       1.0        NaN       4.0\n",
       "1   Sally      4.0     5.0       1.5        4.0       5.0\n",
       "2  Vincio      2.0     2.0       2.0        2.0       3.0\n",
       "3    Andy      5.0     4.0       NaN        3.0       NaN\n",
       "4    Mike      NaN     2.5       2.0        2.5       NaN"
      ]
     },
     "execution_count": 14,
     "metadata": {},
     "output_type": "execute_result"
    }
   ],
   "source": [
    "\n",
    "\n",
    "import pandas as pd\n",
    "import math\n",
    "import numpy as np\n",
    "from sklearn.model_selection import train_test_split\n",
    "\n",
    "# Just create dataset with this format --> user, movie_title, rating and then use pivot/melt to create matrix\n",
    "data = {'user':['Tom','Sally','Vincio','Andy','Mike'], 'Titanic':[5,4,2,5, None],'Batman':[5,5,2,4,2.5], 'Superman':[1,1.5,2,None,2], 'Spiderman':[None, 4,2,3,2.5], 'Avengers':[4,5,3, None, None] }\n",
    "df = pd.DataFrame(data)\n",
    "df\n",
    "\n"
   ]
  },
  {
   "cell_type": "code",
   "execution_count": 15,
   "metadata": {},
   "outputs": [
    {
     "data": {
      "text/html": [
       "<div>\n",
       "<style scoped>\n",
       "    .dataframe tbody tr th:only-of-type {\n",
       "        vertical-align: middle;\n",
       "    }\n",
       "\n",
       "    .dataframe tbody tr th {\n",
       "        vertical-align: top;\n",
       "    }\n",
       "\n",
       "    .dataframe thead th {\n",
       "        text-align: right;\n",
       "    }\n",
       "</style>\n",
       "<table border=\"1\" class=\"dataframe\">\n",
       "  <thead>\n",
       "    <tr style=\"text-align: right;\">\n",
       "      <th></th>\n",
       "      <th>user</th>\n",
       "      <th>movie</th>\n",
       "      <th>rating</th>\n",
       "    </tr>\n",
       "  </thead>\n",
       "  <tbody>\n",
       "    <tr>\n",
       "      <th>0</th>\n",
       "      <td>Tom</td>\n",
       "      <td>Titanic</td>\n",
       "      <td>5.0</td>\n",
       "    </tr>\n",
       "    <tr>\n",
       "      <th>1</th>\n",
       "      <td>Sally</td>\n",
       "      <td>Titanic</td>\n",
       "      <td>4.0</td>\n",
       "    </tr>\n",
       "    <tr>\n",
       "      <th>2</th>\n",
       "      <td>Vincio</td>\n",
       "      <td>Titanic</td>\n",
       "      <td>2.0</td>\n",
       "    </tr>\n",
       "    <tr>\n",
       "      <th>3</th>\n",
       "      <td>Andy</td>\n",
       "      <td>Titanic</td>\n",
       "      <td>5.0</td>\n",
       "    </tr>\n",
       "    <tr>\n",
       "      <th>4</th>\n",
       "      <td>Mike</td>\n",
       "      <td>Titanic</td>\n",
       "      <td>NaN</td>\n",
       "    </tr>\n",
       "    <tr>\n",
       "      <th>5</th>\n",
       "      <td>Tom</td>\n",
       "      <td>Batman</td>\n",
       "      <td>5.0</td>\n",
       "    </tr>\n",
       "    <tr>\n",
       "      <th>6</th>\n",
       "      <td>Sally</td>\n",
       "      <td>Batman</td>\n",
       "      <td>5.0</td>\n",
       "    </tr>\n",
       "    <tr>\n",
       "      <th>7</th>\n",
       "      <td>Vincio</td>\n",
       "      <td>Batman</td>\n",
       "      <td>2.0</td>\n",
       "    </tr>\n",
       "    <tr>\n",
       "      <th>8</th>\n",
       "      <td>Andy</td>\n",
       "      <td>Batman</td>\n",
       "      <td>4.0</td>\n",
       "    </tr>\n",
       "    <tr>\n",
       "      <th>9</th>\n",
       "      <td>Mike</td>\n",
       "      <td>Batman</td>\n",
       "      <td>2.5</td>\n",
       "    </tr>\n",
       "    <tr>\n",
       "      <th>10</th>\n",
       "      <td>Tom</td>\n",
       "      <td>Superman</td>\n",
       "      <td>1.0</td>\n",
       "    </tr>\n",
       "    <tr>\n",
       "      <th>11</th>\n",
       "      <td>Sally</td>\n",
       "      <td>Superman</td>\n",
       "      <td>1.5</td>\n",
       "    </tr>\n",
       "    <tr>\n",
       "      <th>12</th>\n",
       "      <td>Vincio</td>\n",
       "      <td>Superman</td>\n",
       "      <td>2.0</td>\n",
       "    </tr>\n",
       "    <tr>\n",
       "      <th>13</th>\n",
       "      <td>Andy</td>\n",
       "      <td>Superman</td>\n",
       "      <td>NaN</td>\n",
       "    </tr>\n",
       "    <tr>\n",
       "      <th>14</th>\n",
       "      <td>Mike</td>\n",
       "      <td>Superman</td>\n",
       "      <td>2.0</td>\n",
       "    </tr>\n",
       "    <tr>\n",
       "      <th>15</th>\n",
       "      <td>Tom</td>\n",
       "      <td>Spiderman</td>\n",
       "      <td>NaN</td>\n",
       "    </tr>\n",
       "    <tr>\n",
       "      <th>16</th>\n",
       "      <td>Sally</td>\n",
       "      <td>Spiderman</td>\n",
       "      <td>4.0</td>\n",
       "    </tr>\n",
       "    <tr>\n",
       "      <th>17</th>\n",
       "      <td>Vincio</td>\n",
       "      <td>Spiderman</td>\n",
       "      <td>2.0</td>\n",
       "    </tr>\n",
       "    <tr>\n",
       "      <th>18</th>\n",
       "      <td>Andy</td>\n",
       "      <td>Spiderman</td>\n",
       "      <td>3.0</td>\n",
       "    </tr>\n",
       "    <tr>\n",
       "      <th>19</th>\n",
       "      <td>Mike</td>\n",
       "      <td>Spiderman</td>\n",
       "      <td>2.5</td>\n",
       "    </tr>\n",
       "    <tr>\n",
       "      <th>20</th>\n",
       "      <td>Tom</td>\n",
       "      <td>Avengers</td>\n",
       "      <td>4.0</td>\n",
       "    </tr>\n",
       "    <tr>\n",
       "      <th>21</th>\n",
       "      <td>Sally</td>\n",
       "      <td>Avengers</td>\n",
       "      <td>5.0</td>\n",
       "    </tr>\n",
       "    <tr>\n",
       "      <th>22</th>\n",
       "      <td>Vincio</td>\n",
       "      <td>Avengers</td>\n",
       "      <td>3.0</td>\n",
       "    </tr>\n",
       "    <tr>\n",
       "      <th>23</th>\n",
       "      <td>Andy</td>\n",
       "      <td>Avengers</td>\n",
       "      <td>NaN</td>\n",
       "    </tr>\n",
       "    <tr>\n",
       "      <th>24</th>\n",
       "      <td>Mike</td>\n",
       "      <td>Avengers</td>\n",
       "      <td>NaN</td>\n",
       "    </tr>\n",
       "  </tbody>\n",
       "</table>\n",
       "</div>"
      ],
      "text/plain": [
       "      user      movie  rating\n",
       "0      Tom    Titanic     5.0\n",
       "1    Sally    Titanic     4.0\n",
       "2   Vincio    Titanic     2.0\n",
       "3     Andy    Titanic     5.0\n",
       "4     Mike    Titanic     NaN\n",
       "5      Tom     Batman     5.0\n",
       "6    Sally     Batman     5.0\n",
       "7   Vincio     Batman     2.0\n",
       "8     Andy     Batman     4.0\n",
       "9     Mike     Batman     2.5\n",
       "10     Tom   Superman     1.0\n",
       "11   Sally   Superman     1.5\n",
       "12  Vincio   Superman     2.0\n",
       "13    Andy   Superman     NaN\n",
       "14    Mike   Superman     2.0\n",
       "15     Tom  Spiderman     NaN\n",
       "16   Sally  Spiderman     4.0\n",
       "17  Vincio  Spiderman     2.0\n",
       "18    Andy  Spiderman     3.0\n",
       "19    Mike  Spiderman     2.5\n",
       "20     Tom   Avengers     4.0\n",
       "21   Sally   Avengers     5.0\n",
       "22  Vincio   Avengers     3.0\n",
       "23    Andy   Avengers     NaN\n",
       "24    Mike   Avengers     NaN"
      ]
     },
     "execution_count": 15,
     "metadata": {},
     "output_type": "execute_result"
    }
   ],
   "source": [
    "\n",
    "# long-form dataframe\n",
    "df2 = pd.melt(df, \n",
    "               id_vars='user', \n",
    "               var_name='movie', \n",
    "               value_name='rating')\n",
    "df2"
   ]
  },
  {
   "cell_type": "code",
   "execution_count": 16,
   "metadata": {},
   "outputs": [
    {
     "data": {
      "text/html": [
       "<div>\n",
       "<style scoped>\n",
       "    .dataframe tbody tr th:only-of-type {\n",
       "        vertical-align: middle;\n",
       "    }\n",
       "\n",
       "    .dataframe tbody tr th {\n",
       "        vertical-align: top;\n",
       "    }\n",
       "\n",
       "    .dataframe thead th {\n",
       "        text-align: right;\n",
       "    }\n",
       "</style>\n",
       "<table border=\"1\" class=\"dataframe\">\n",
       "  <thead>\n",
       "    <tr style=\"text-align: right;\">\n",
       "      <th>movie</th>\n",
       "      <th>user</th>\n",
       "      <th>Avengers</th>\n",
       "      <th>Batman</th>\n",
       "      <th>Spiderman</th>\n",
       "      <th>Superman</th>\n",
       "      <th>Titanic</th>\n",
       "    </tr>\n",
       "  </thead>\n",
       "  <tbody>\n",
       "    <tr>\n",
       "      <th>0</th>\n",
       "      <td>Andy</td>\n",
       "      <td>NaN</td>\n",
       "      <td>NaN</td>\n",
       "      <td>3.0</td>\n",
       "      <td>NaN</td>\n",
       "      <td>5.0</td>\n",
       "    </tr>\n",
       "    <tr>\n",
       "      <th>1</th>\n",
       "      <td>Mike</td>\n",
       "      <td>NaN</td>\n",
       "      <td>2.5</td>\n",
       "      <td>2.5</td>\n",
       "      <td>2.0</td>\n",
       "      <td>NaN</td>\n",
       "    </tr>\n",
       "    <tr>\n",
       "      <th>2</th>\n",
       "      <td>Sally</td>\n",
       "      <td>5.0</td>\n",
       "      <td>5.0</td>\n",
       "      <td>NaN</td>\n",
       "      <td>NaN</td>\n",
       "      <td>4.0</td>\n",
       "    </tr>\n",
       "    <tr>\n",
       "      <th>3</th>\n",
       "      <td>Tom</td>\n",
       "      <td>4.0</td>\n",
       "      <td>5.0</td>\n",
       "      <td>NaN</td>\n",
       "      <td>1.0</td>\n",
       "      <td>NaN</td>\n",
       "    </tr>\n",
       "    <tr>\n",
       "      <th>4</th>\n",
       "      <td>Vincio</td>\n",
       "      <td>3.0</td>\n",
       "      <td>2.0</td>\n",
       "      <td>2.0</td>\n",
       "      <td>2.0</td>\n",
       "      <td>2.0</td>\n",
       "    </tr>\n",
       "  </tbody>\n",
       "</table>\n",
       "</div>"
      ],
      "text/plain": [
       "movie    user  Avengers  Batman  Spiderman  Superman  Titanic\n",
       "0        Andy       NaN     NaN        3.0       NaN      5.0\n",
       "1        Mike       NaN     2.5        2.5       2.0      NaN\n",
       "2       Sally       5.0     5.0        NaN       NaN      4.0\n",
       "3         Tom       4.0     5.0        NaN       1.0      NaN\n",
       "4      Vincio       3.0     2.0        2.0       2.0      2.0"
      ]
     },
     "execution_count": 16,
     "metadata": {},
     "output_type": "execute_result"
    }
   ],
   "source": [
    "\n",
    "\n",
    "train2, test2 = train_test_split(df2, test_size = 0.2, random_state = 42)\n",
    "\n",
    "train2 = pd.pivot_table(train2, index = 'user', columns = 'movie', values = 'rating' ).reset_index()\n",
    "train2"
   ]
  },
  {
   "cell_type": "code",
   "execution_count": 17,
   "metadata": {},
   "outputs": [
    {
     "data": {
      "text/html": [
       "<div>\n",
       "<style scoped>\n",
       "    .dataframe tbody tr th:only-of-type {\n",
       "        vertical-align: middle;\n",
       "    }\n",
       "\n",
       "    .dataframe tbody tr th {\n",
       "        vertical-align: top;\n",
       "    }\n",
       "\n",
       "    .dataframe thead th {\n",
       "        text-align: right;\n",
       "    }\n",
       "</style>\n",
       "<table border=\"1\" class=\"dataframe\">\n",
       "  <thead>\n",
       "    <tr style=\"text-align: right;\">\n",
       "      <th>movie</th>\n",
       "      <th>user</th>\n",
       "      <th>Batman</th>\n",
       "      <th>Spiderman</th>\n",
       "      <th>Superman</th>\n",
       "      <th>Titanic</th>\n",
       "    </tr>\n",
       "  </thead>\n",
       "  <tbody>\n",
       "    <tr>\n",
       "      <th>0</th>\n",
       "      <td>Andy</td>\n",
       "      <td>4.0</td>\n",
       "      <td>NaN</td>\n",
       "      <td>NaN</td>\n",
       "      <td>NaN</td>\n",
       "    </tr>\n",
       "    <tr>\n",
       "      <th>1</th>\n",
       "      <td>Sally</td>\n",
       "      <td>NaN</td>\n",
       "      <td>4.0</td>\n",
       "      <td>1.5</td>\n",
       "      <td>NaN</td>\n",
       "    </tr>\n",
       "    <tr>\n",
       "      <th>2</th>\n",
       "      <td>Tom</td>\n",
       "      <td>NaN</td>\n",
       "      <td>NaN</td>\n",
       "      <td>NaN</td>\n",
       "      <td>5.0</td>\n",
       "    </tr>\n",
       "  </tbody>\n",
       "</table>\n",
       "</div>"
      ],
      "text/plain": [
       "movie   user  Batman  Spiderman  Superman  Titanic\n",
       "0       Andy     4.0        NaN       NaN      NaN\n",
       "1      Sally     NaN        4.0       1.5      NaN\n",
       "2        Tom     NaN        NaN       NaN      5.0"
      ]
     },
     "execution_count": 17,
     "metadata": {},
     "output_type": "execute_result"
    }
   ],
   "source": [
    "\n",
    "\n",
    "test2 = pd.pivot_table(test2, index = 'user', columns = 'movie', values = 'rating' ).reset_index()\n",
    "test2\n"
   ]
  },
  {
   "cell_type": "code",
   "execution_count": 18,
   "metadata": {},
   "outputs": [
    {
     "data": {
      "text/plain": [
       "3.125"
      ]
     },
     "execution_count": 18,
     "metadata": {},
     "output_type": "execute_result"
    }
   ],
   "source": [
    "\n",
    "raw_avg2 = train2.sum()[1:].sum() / train2.iloc[:,1:].notnull().sum().sum()\n",
    "raw_avg2"
   ]
  },
  {
   "cell_type": "code",
   "execution_count": 19,
   "metadata": {},
   "outputs": [
    {
     "data": {
      "text/plain": [
       "1.3863170633011772"
      ]
     },
     "execution_count": 19,
     "metadata": {},
     "output_type": "execute_result"
    }
   ],
   "source": [
    "\n",
    "\n",
    "\n",
    "error_test2 = test2.iloc[:,1:] - raw_avg2\n",
    "sq_error_test2 = error_test2 ** 2 \n",
    "MSE_test2 = sq_error_test2.sum().sum() / test2.iloc[:,1:].notnull().sum().sum()\n",
    "RMSE_test2 = np.sqrt(MSE_test2)\n",
    "RMSE_test2\n"
   ]
  },
  {
   "cell_type": "code",
   "execution_count": 20,
   "metadata": {},
   "outputs": [
    {
     "data": {
      "text/plain": [
       "1.3050383136138188"
      ]
     },
     "execution_count": 20,
     "metadata": {},
     "output_type": "execute_result"
    }
   ],
   "source": [
    "\n",
    "error_train2 = train2.iloc[:,1:] - raw_avg2\n",
    "sq_error_train2 = error_train2 ** 2 \n",
    "MSE_train2 = sq_error_train2.sum().sum() / train2.iloc[:,1:].notnull().sum().sum()\n",
    "RMSE_train2 = np.sqrt(MSE_train2)\n",
    "RMSE_train2\n"
   ]
  },
  {
   "cell_type": "code",
   "execution_count": 21,
   "metadata": {},
   "outputs": [
    {
     "data": {
      "text/plain": [
       "Andy      0.875000\n",
       "Mike     -0.791667\n",
       "Sally     1.541667\n",
       "Tom       0.208333\n",
       "Vincio   -0.925000\n",
       "dtype: float64"
      ]
     },
     "execution_count": 21,
     "metadata": {},
     "output_type": "execute_result"
    }
   ],
   "source": [
    "\n",
    "#bias_user using df2\n",
    "sum_item_user2 = train2.sum(axis=1)\n",
    "n_item_user2 = train2.iloc[:,1:].notnull().sum(axis=1)\n",
    "\n",
    "bias_user2 = (sum_item_user2 / n_item_user2) - raw_avg2\n",
    "bias_user2.index = list(train2.user)\n",
    "bias_user2\n"
   ]
  },
  {
   "cell_type": "code",
   "execution_count": 22,
   "metadata": {},
   "outputs": [
    {
     "data": {
      "text/plain": [
       "movie\n",
       "Avengers     0.875000\n",
       "Batman       0.500000\n",
       "Spiderman   -0.625000\n",
       "Superman    -1.458333\n",
       "Titanic      0.541667\n",
       "dtype: float64"
      ]
     },
     "execution_count": 22,
     "metadata": {},
     "output_type": "execute_result"
    }
   ],
   "source": [
    "\n",
    "#bias_movie using df2\n",
    "sum_item_movie2 = train2.iloc[:,1:].sum(axis=0)\n",
    "n_item_movie2 = train2.iloc[:,1:].notnull().sum(axis=0)\n",
    "\n",
    "bias_movie2 = (sum_item_movie2 / n_item_movie2) - raw_avg2\n",
    "bias_movie2\n"
   ]
  },
  {
   "cell_type": "code",
   "execution_count": 23,
   "metadata": {},
   "outputs": [
    {
     "data": {
      "text/html": [
       "<div>\n",
       "<style scoped>\n",
       "    .dataframe tbody tr th:only-of-type {\n",
       "        vertical-align: middle;\n",
       "    }\n",
       "\n",
       "    .dataframe tbody tr th {\n",
       "        vertical-align: top;\n",
       "    }\n",
       "\n",
       "    .dataframe thead th {\n",
       "        text-align: right;\n",
       "    }\n",
       "</style>\n",
       "<table border=\"1\" class=\"dataframe\">\n",
       "  <thead>\n",
       "    <tr style=\"text-align: right;\">\n",
       "      <th>movie</th>\n",
       "      <th>Avengers</th>\n",
       "      <th>Batman</th>\n",
       "      <th>Spiderman</th>\n",
       "      <th>Superman</th>\n",
       "      <th>Titanic</th>\n",
       "    </tr>\n",
       "  </thead>\n",
       "  <tbody>\n",
       "    <tr>\n",
       "      <th>0</th>\n",
       "      <td>3.075000</td>\n",
       "      <td>2.700000</td>\n",
       "      <td>1.575000</td>\n",
       "      <td>0.741667</td>\n",
       "      <td>2.741667</td>\n",
       "    </tr>\n",
       "    <tr>\n",
       "      <th>1</th>\n",
       "      <td>4.208333</td>\n",
       "      <td>3.833333</td>\n",
       "      <td>2.708333</td>\n",
       "      <td>1.875000</td>\n",
       "      <td>3.875000</td>\n",
       "    </tr>\n",
       "    <tr>\n",
       "      <th>2</th>\n",
       "      <td>5.541667</td>\n",
       "      <td>5.166667</td>\n",
       "      <td>4.041667</td>\n",
       "      <td>3.208333</td>\n",
       "      <td>5.208333</td>\n",
       "    </tr>\n",
       "    <tr>\n",
       "      <th>3</th>\n",
       "      <td>3.208333</td>\n",
       "      <td>2.833333</td>\n",
       "      <td>1.708333</td>\n",
       "      <td>0.875000</td>\n",
       "      <td>2.875000</td>\n",
       "    </tr>\n",
       "    <tr>\n",
       "      <th>4</th>\n",
       "      <td>4.875000</td>\n",
       "      <td>4.500000</td>\n",
       "      <td>3.375000</td>\n",
       "      <td>2.541667</td>\n",
       "      <td>4.541667</td>\n",
       "    </tr>\n",
       "  </tbody>\n",
       "</table>\n",
       "</div>"
      ],
      "text/plain": [
       "movie  Avengers    Batman  Spiderman  Superman   Titanic\n",
       "0      3.075000  2.700000   1.575000  0.741667  2.741667\n",
       "1      4.208333  3.833333   2.708333  1.875000  3.875000\n",
       "2      5.541667  5.166667   4.041667  3.208333  5.208333\n",
       "3      3.208333  2.833333   1.708333  0.875000  2.875000\n",
       "4      4.875000  4.500000   3.375000  2.541667  4.541667"
      ]
     },
     "execution_count": 23,
     "metadata": {},
     "output_type": "execute_result"
    }
   ],
   "source": [
    "\n",
    "#using df2 - calculate baseline RMSE for testset\n",
    "bias_movie_df2 = pd.DataFrame(bias_movie2).T\n",
    "base_line_train2 = pd.DataFrame(columns = bias_movie2.index)\n",
    "for i in train2['user']:\n",
    "    base_line_train2 = pd.concat([bias_movie_df2 + bias_user2[i] + raw_avg2, base_line_train2])\n",
    "    \n",
    "base_line_train2.index = train2.index\n",
    "base_line_train2"
   ]
  },
  {
   "cell_type": "code",
   "execution_count": 24,
   "metadata": {},
   "outputs": [
    {
     "data": {
      "text/plain": [
       "0.9410672871207929"
      ]
     },
     "execution_count": 24,
     "metadata": {},
     "output_type": "execute_result"
    }
   ],
   "source": [
    "\n",
    "\n",
    "\n",
    "error_test2_baseline = test2 - base_line_train2\n",
    "sq_error_test2_baseline = error_test2_baseline ** 2\n",
    "MSE_test2_baseline = sq_error_test2_baseline.sum().sum() / test2.iloc[:,1:].notnull().sum().sum()\n",
    "RMSE_test2_baseline = np.sqrt(MSE_test2_baseline)\n",
    "RMSE_test2_baseline"
   ]
  },
  {
   "cell_type": "code",
   "execution_count": 25,
   "metadata": {},
   "outputs": [
    {
     "data": {
      "text/plain": [
       "1.468317016557089"
      ]
     },
     "execution_count": 25,
     "metadata": {},
     "output_type": "execute_result"
    }
   ],
   "source": [
    "\n",
    "\n",
    "error_train2_baseline = train2 - base_line_train2\n",
    "sq_error_train2_baseline = error_train2_baseline ** 2\n",
    "MSE_train2_baseline = sq_error_train2_baseline.sum().sum() / train2.iloc[:,1:].notnull().sum().sum()\n",
    "RMSE_train2_baseline = np.sqrt(MSE_train2_baseline)\n",
    "RMSE_train2_baseline"
   ]
  },
  {
   "cell_type": "code",
   "execution_count": 26,
   "metadata": {},
   "outputs": [
    {
     "name": "stdout",
     "output_type": "stream",
     "text": [
      "RMSE - raw average: training 1.3050383136138188\n",
      "RMSE - baseline predictor: training 1.468317016557089\n",
      "RMSE - raw average: test 1.3863170633011772\n",
      "RMSE - baseline predictor: test 0.9410672871207929\n"
     ]
    }
   ],
   "source": [
    "print('RMSE - raw average: training', RMSE_train2)\n",
    "print('RMSE - baseline predictor: training', RMSE_train2_baseline)\n",
    "print('RMSE - raw average: test', RMSE_test2)\n",
    "print('RMSE - baseline predictor: test', RMSE_test2_baseline)"
   ]
  }
 ],
 "metadata": {
  "kernelspec": {
   "display_name": "Python 2",
   "language": "python",
   "name": "python2"
  },
  "language_info": {
   "codemirror_mode": {
    "name": "ipython",
    "version": 2
   },
   "file_extension": ".py",
   "mimetype": "text/x-python",
   "name": "python",
   "nbconvert_exporter": "python",
   "pygments_lexer": "ipython2",
   "version": "2.7.16"
  }
 },
 "nbformat": 4,
 "nbformat_minor": 2
}
