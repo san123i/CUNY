{
 "cells": [
  {
   "cell_type": "code",
   "execution_count": 2,
   "metadata": {},
   "outputs": [],
   "source": [
    "import pandas as pd\n",
    "import numpy as np\n",
    "import re\n",
    "import sklearn.metrics.pairwise as pw\n",
    "from scipy import sparse\n",
    "from sklearn.metrics.pairwise import pairwise_distances"
   ]
  },
  {
   "cell_type": "code",
   "execution_count": 4,
   "metadata": {},
   "outputs": [],
   "source": [
    "movies = pd.read_csv('./data/movies.csv')\n",
    "ratings = pd.read_csv('./data/ratings.csv')\n",
    "\n",
    "#Importing movies rated by my friends\n",
    "movies_rated = pd.read_excel(\"./data/bbianchi.xlsx\",index_col='Movies')"
   ]
  },
  {
   "cell_type": "code",
   "execution_count": 5,
   "metadata": {},
   "outputs": [
    {
     "data": {
      "text/plain": [
       "83969     1\n",
       "101577    1\n",
       "26629     1\n",
       "45062     1\n",
       "79879     1\n",
       "Name: movieId, dtype: int64"
      ]
     },
     "metadata": {},
     "output_type": "display_data"
    },
    {
     "data": {
      "text/plain": [
       "Emma (1996)                                True\n",
       "War of the Worlds (2005)                   True\n",
       "Eros (2004)                                True\n",
       "Confessions of a Dangerous Mind (2002)     True\n",
       "Saturn 3 (1980)                            True\n",
       "Sweet November (2001)                     False\n",
       "Reckless Kelly (1994)                     False\n",
       "Family, The (2013)                        False\n",
       "X-Men: Days of Future Past (2014)         False\n",
       "Ladykillers, The (1955)                   False\n",
       "Name: title, dtype: bool"
      ]
     },
     "metadata": {},
     "output_type": "display_data"
    }
   ],
   "source": [
    "# Checking for duplicated movieIDs\n",
    "display(movies['movieId'].value_counts().sort_values(ascending=False).head()) \n",
    "# Checking for duplicated titles\n",
    "display(movies['title'].value_counts().sort_values(ascending=False).head(10) > 1)"
   ]
  },
  {
   "cell_type": "code",
   "execution_count": null,
   "metadata": {},
   "outputs": [],
   "source": [
    "# Extracting duplicated movie ids\n",
    "duplicate_movies = movies.groupby('title').filter(lambda x: len(x) == 2)\n",
    "duplic_ids = duplicate_movies['movieId'].values"
   ]
  }
 ],
 "metadata": {
  "kernelspec": {
   "display_name": "Python 2",
   "language": "python",
   "name": "python2"
  },
  "language_info": {
   "codemirror_mode": {
    "name": "ipython",
    "version": 2
   },
   "file_extension": ".py",
   "mimetype": "text/x-python",
   "name": "python",
   "nbconvert_exporter": "python",
   "pygments_lexer": "ipython2",
   "version": "2.7.16"
  }
 },
 "nbformat": 4,
 "nbformat_minor": 2
}
