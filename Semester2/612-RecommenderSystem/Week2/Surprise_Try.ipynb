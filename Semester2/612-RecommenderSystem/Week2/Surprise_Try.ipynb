{
 "cells": [
  {
   "cell_type": "code",
   "execution_count": 4,
   "metadata": {},
   "outputs": [],
   "source": [
    "from surprise import SVD\n",
    "from surprise import Dataset\n",
    "from surprise.model_selection import cross_validate\n"
   ]
  },
  {
   "cell_type": "code",
   "execution_count": 5,
   "metadata": {},
   "outputs": [
    {
     "name": "stdout",
     "output_type": "stream",
     "text": [
      "Evaluating RMSE, MAE of algorithm SVD on 5 split(s).\n",
      "\n",
      "                  Fold 1  Fold 2  Fold 3  Fold 4  Fold 5  Mean    Std     \n",
      "MAE (testset)     0.7333  0.7378  0.7364  0.7409  0.7391  0.7375  0.0026  \n",
      "RMSE (testset)    0.9340  0.9360  0.9336  0.9412  0.9349  0.9359  0.0028  \n",
      "Fit time          6.95    7.56    9.87    10.60   6.75    8.34    1.58    \n",
      "Test time         0.26    0.61    0.78    0.28    0.28    0.44    0.21    \n"
     ]
    },
    {
     "data": {
      "text/plain": [
       "{u'fit_time': (6.950999975204468,\n",
       "  7.559000015258789,\n",
       "  9.867000102996826,\n",
       "  10.599999904632568,\n",
       "  6.746000051498413),\n",
       " u'test_mae': array([0.73331634, 0.73775306, 0.73636017, 0.74090848, 0.73907995]),\n",
       " u'test_rmse': array([0.93403049, 0.9360058 , 0.93357089, 0.9412194 , 0.9348659 ]),\n",
       " u'test_time': (0.2649998664855957,\n",
       "  0.6119999885559082,\n",
       "  0.7809998989105225,\n",
       "  0.27700018882751465,\n",
       "  0.2839999198913574)}"
      ]
     },
     "execution_count": 5,
     "metadata": {},
     "output_type": "execute_result"
    }
   ],
   "source": [
    "\n",
    "\n",
    "# Load the movielens-100k dataset (download it if needed),\n",
    "data = Dataset.load_builtin('ml-100k')\n",
    "\n",
    "# We'll use the famous SVD algorithm.\n",
    "algo = SVD()\n",
    "\n",
    "# Run 5-fold cross-validation and print results\n",
    "cross_validate(algo, data, measures=['RMSE', 'MAE'], cv=5, verbose=True)"
   ]
  }
 ],
 "metadata": {
  "kernelspec": {
   "display_name": "Python 2",
   "language": "python",
   "name": "python2"
  },
  "language_info": {
   "codemirror_mode": {
    "name": "ipython",
    "version": 2
   },
   "file_extension": ".py",
   "mimetype": "text/x-python",
   "name": "python",
   "nbconvert_exporter": "python",
   "pygments_lexer": "ipython2",
   "version": "2.7.16"
  }
 },
 "nbformat": 4,
 "nbformat_minor": 2
}
