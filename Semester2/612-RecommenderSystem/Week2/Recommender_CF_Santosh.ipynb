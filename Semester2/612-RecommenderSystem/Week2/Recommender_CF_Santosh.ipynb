{
 "cells": [
  {
   "cell_type": "code",
   "execution_count": 81,
   "metadata": {},
   "outputs": [],
   "source": [
    "import pandas as pd\n",
    "from scipy.sparse import csr_matrix\n",
    "from sklearn.neighbors import NearestNeighbors"
   ]
  },
  {
   "cell_type": "code",
   "execution_count": 72,
   "metadata": {
    "scrolled": true
   },
   "outputs": [
    {
     "data": {
      "text/html": [
       "<div>\n",
       "<style scoped>\n",
       "    .dataframe tbody tr th:only-of-type {\n",
       "        vertical-align: middle;\n",
       "    }\n",
       "\n",
       "    .dataframe tbody tr th {\n",
       "        vertical-align: top;\n",
       "    }\n",
       "\n",
       "    .dataframe thead th {\n",
       "        text-align: right;\n",
       "    }\n",
       "</style>\n",
       "<table border=\"1\" class=\"dataframe\">\n",
       "  <thead>\n",
       "    <tr style=\"text-align: right;\">\n",
       "      <th></th>\n",
       "      <th>userId</th>\n",
       "      <th>movieId</th>\n",
       "      <th>rating</th>\n",
       "    </tr>\n",
       "  </thead>\n",
       "  <tbody>\n",
       "    <tr>\n",
       "      <th>0</th>\n",
       "      <td>308</td>\n",
       "      <td>1</td>\n",
       "      <td>4</td>\n",
       "    </tr>\n",
       "    <tr>\n",
       "      <th>1</th>\n",
       "      <td>287</td>\n",
       "      <td>1</td>\n",
       "      <td>5</td>\n",
       "    </tr>\n",
       "    <tr>\n",
       "      <th>2</th>\n",
       "      <td>148</td>\n",
       "      <td>1</td>\n",
       "      <td>4</td>\n",
       "    </tr>\n",
       "    <tr>\n",
       "      <th>3</th>\n",
       "      <td>280</td>\n",
       "      <td>1</td>\n",
       "      <td>4</td>\n",
       "    </tr>\n",
       "    <tr>\n",
       "      <th>4</th>\n",
       "      <td>66</td>\n",
       "      <td>1</td>\n",
       "      <td>3</td>\n",
       "    </tr>\n",
       "    <tr>\n",
       "      <th>5</th>\n",
       "      <td>5</td>\n",
       "      <td>1</td>\n",
       "      <td>4</td>\n",
       "    </tr>\n",
       "    <tr>\n",
       "      <th>6</th>\n",
       "      <td>109</td>\n",
       "      <td>1</td>\n",
       "      <td>4</td>\n",
       "    </tr>\n",
       "    <tr>\n",
       "      <th>7</th>\n",
       "      <td>181</td>\n",
       "      <td>1</td>\n",
       "      <td>3</td>\n",
       "    </tr>\n",
       "    <tr>\n",
       "      <th>8</th>\n",
       "      <td>95</td>\n",
       "      <td>1</td>\n",
       "      <td>5</td>\n",
       "    </tr>\n",
       "    <tr>\n",
       "      <th>9</th>\n",
       "      <td>268</td>\n",
       "      <td>1</td>\n",
       "      <td>3</td>\n",
       "    </tr>\n",
       "  </tbody>\n",
       "</table>\n",
       "</div>"
      ],
      "text/plain": [
       "   userId  movieId  rating\n",
       "0     308        1       4\n",
       "1     287        1       5\n",
       "2     148        1       4\n",
       "3     280        1       4\n",
       "4      66        1       3\n",
       "5       5        1       4\n",
       "6     109        1       4\n",
       "7     181        1       3\n",
       "8      95        1       5\n",
       "9     268        1       3"
      ]
     },
     "execution_count": 72,
     "metadata": {},
     "output_type": "execute_result"
    }
   ],
   "source": [
    "df_movies  = pd.read_csv('C:/CUNY/GIT/CUNY/Semester2/612-RecommenderSystem/Week2/ml-100k/ml-100k/u.item', header=None, sep='|')\n",
    "df_movies.columns = ['movieId','title','release_date','NA_1','NA_2','NA_','NA_2','NA_2','NA_2','NA_2','NA_2','NA_2','NA_2','NA_2','NA_2','NA_2','NA_2','NA_2','NA_2','NA_2','NA_2','NA_2','NA_2','NA_2']\n",
    "\n",
    "df_movies = df_movies[['movieId','title']]\n",
    "\n",
    "df_ratings = pd.read_csv('C:/CUNY/GIT/CUNY/Semester2/612-RecommenderSystem/Week2/ml-100k/ml-100k/u.data', header=None, sep='\\t')\n",
    "df_ratings.columns = ['userId', 'movieId', 'rating', 'timestamp']\n",
    "df_ratings = df_ratings[['userId','movieId','rating']]\n",
    "\n",
    "\n",
    "df_ratings.head(n=5)\n",
    "df_ratings = df_ratings.set_index('movieId').join(df_ratings.set_index('movieId'))\n",
    "df_ratings.reset_index(inplace = True)\n",
    "df_ratings[['userId','movieId','rating']].head(10)"
   ]
  },
  {
   "cell_type": "code",
   "execution_count": 73,
   "metadata": {},
   "outputs": [
    {
     "name": "stdout",
     "output_type": "stream",
     "text": [
      "<class 'pandas.core.frame.DataFrame'>\n",
      "RangeIndex: 100000 entries, 0 to 99999\n",
      "Data columns (total 4 columns):\n",
      "movieId      100000 non-null int64\n",
      "userId       100000 non-null int64\n",
      "rating       100000 non-null int64\n",
      "movieName    100000 non-null object\n",
      "dtypes: int64(3), object(1)\n",
      "memory usage: 3.1+ MB\n"
     ]
    }
   ],
   "source": [
    "\n",
    "df_ratings.info()"
   ]
  },
  {
   "cell_type": "code",
   "execution_count": 80,
   "metadata": {},
   "outputs": [
    {
     "data": {
      "text/plain": [
       "<1682x943 sparse matrix of type '<type 'numpy.float64'>'\n",
       "\twith 100000 stored elements in Compressed Sparse Row format>"
      ]
     },
     "execution_count": 80,
     "metadata": {},
     "output_type": "execute_result"
    }
   ],
   "source": [
    "df_ratings_feature = df_ratings.pivot(index='movieId',columns='userId',values='rating').fillna(0)\n",
    "df_ratings_feature.head(n=10)\n",
    "\n",
    "# convert dataframe of movie features to scipy sparse matrix\n",
    "mat_movie_feature = csr_matrix(df_ratings_feature.values)\n"
   ]
  },
  {
   "cell_type": "code",
   "execution_count": 84,
   "metadata": {},
   "outputs": [],
   "source": [
    "model_knn = NearestNeighbors(metric='cosine', algorithm='brute', n_neighbors=20, n_jobs=-1)\n"
   ]
  },
  {
   "cell_type": "code",
   "execution_count": null,
   "metadata": {},
   "outputs": [],
   "source": [
    "def make_recommendations(self, fav_movie, n_recommendations):\n",
    "    \"\"\"\n",
    "    make top n movie recommendations\n",
    "    Parameters\n",
    "    ----------\n",
    "    fav_movie: str, name of user input movie\n",
    "    n_recommendations: int, top n recommendations\n",
    "    \"\"\"\n",
    "    # get data\n",
    "    movie_user_mat_sparse, hashmap = self._prep_data()\n",
    "    # get recommendations\n",
    "    raw_recommends = self._inference(\n",
    "        self.model, movie_user_mat_sparse, hashmap,\n",
    "        fav_movie, n_recommendations)\n",
    "    # print results\n",
    "    reverse_hashmap = {v: k for k, v in hashmap.items()}\n",
    "    print('Recommendations for {}:'.format(fav_movie))\n",
    "    for i, (idx, dist) in enumerate(raw_recommends):\n",
    "        print('{0}: {1}, with distance '\n",
    "              'of {2}'.format(i+1, reverse_hashmap[idx], dist))"
   ]
  },
  {
   "cell_type": "code",
   "execution_count": null,
   "metadata": {},
   "outputs": [],
   "source": []
  }
 ],
 "metadata": {
  "kernelspec": {
   "display_name": "Python 2",
   "language": "python",
   "name": "python2"
  },
  "language_info": {
   "codemirror_mode": {
    "name": "ipython",
    "version": 2
   },
   "file_extension": ".py",
   "mimetype": "text/x-python",
   "name": "python",
   "nbconvert_exporter": "python",
   "pygments_lexer": "ipython2",
   "version": "2.7.16"
  }
 },
 "nbformat": 4,
 "nbformat_minor": 2
}
