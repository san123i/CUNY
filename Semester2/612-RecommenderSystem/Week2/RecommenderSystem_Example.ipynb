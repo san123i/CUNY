{
 "cells": [
  {
   "cell_type": "code",
   "execution_count": 122,
   "metadata": {},
   "outputs": [],
   "source": [
    "import pandas as pd\n",
    "import numpy as np\n",
    "import re\n",
    "import sklearn.metrics.pairwise as pw\n",
    "from scipy import sparse\n",
    "from sklearn.metrics.pairwise import pairwise_distances"
   ]
  },
  {
   "cell_type": "code",
   "execution_count": 123,
   "metadata": {},
   "outputs": [],
   "source": [
    "movies = pd.read_csv('./data/movies.csv')\n",
    "ratings = pd.read_csv('./data/ratings.csv')\n",
    "\n",
    "#Importing movies rated by my friends\n",
    "movies_rated = pd.read_excel(\"./data/bbianchi.xlsx\",index_col='Movies')"
   ]
  },
  {
   "cell_type": "code",
   "execution_count": null,
   "metadata": {},
   "outputs": [],
   "source": []
  },
  {
   "cell_type": "code",
   "execution_count": null,
   "metadata": {},
   "outputs": [],
   "source": []
  },
  {
   "cell_type": "code",
   "execution_count": 124,
   "metadata": {},
   "outputs": [
    {
     "data": {
      "text/html": [
       "<div>\n",
       "<style scoped>\n",
       "    .dataframe tbody tr th:only-of-type {\n",
       "        vertical-align: middle;\n",
       "    }\n",
       "\n",
       "    .dataframe tbody tr th {\n",
       "        vertical-align: top;\n",
       "    }\n",
       "\n",
       "    .dataframe thead th {\n",
       "        text-align: right;\n",
       "    }\n",
       "</style>\n",
       "<table border=\"1\" class=\"dataframe\">\n",
       "  <thead>\n",
       "    <tr style=\"text-align: right;\">\n",
       "      <th></th>\n",
       "      <th>movieId</th>\n",
       "      <th>title</th>\n",
       "      <th>genres</th>\n",
       "    </tr>\n",
       "  </thead>\n",
       "  <tbody>\n",
       "    <tr>\n",
       "      <th>0</th>\n",
       "      <td>1</td>\n",
       "      <td>Toy Story (1995)</td>\n",
       "      <td>Adventure|Animation|Children|Comedy|Fantasy</td>\n",
       "    </tr>\n",
       "    <tr>\n",
       "      <th>1</th>\n",
       "      <td>2</td>\n",
       "      <td>Jumanji (1995)</td>\n",
       "      <td>Adventure|Children|Fantasy</td>\n",
       "    </tr>\n",
       "    <tr>\n",
       "      <th>2</th>\n",
       "      <td>3</td>\n",
       "      <td>Grumpier Old Men (1995)</td>\n",
       "      <td>Comedy|Romance</td>\n",
       "    </tr>\n",
       "    <tr>\n",
       "      <th>3</th>\n",
       "      <td>4</td>\n",
       "      <td>Waiting to Exhale (1995)</td>\n",
       "      <td>Comedy|Drama|Romance</td>\n",
       "    </tr>\n",
       "    <tr>\n",
       "      <th>4</th>\n",
       "      <td>5</td>\n",
       "      <td>Father of the Bride Part II (1995)</td>\n",
       "      <td>Comedy</td>\n",
       "    </tr>\n",
       "  </tbody>\n",
       "</table>\n",
       "</div>"
      ],
      "text/plain": [
       "   movieId                               title  \\\n",
       "0        1                    Toy Story (1995)   \n",
       "1        2                      Jumanji (1995)   \n",
       "2        3             Grumpier Old Men (1995)   \n",
       "3        4            Waiting to Exhale (1995)   \n",
       "4        5  Father of the Bride Part II (1995)   \n",
       "\n",
       "                                        genres  \n",
       "0  Adventure|Animation|Children|Comedy|Fantasy  \n",
       "1                   Adventure|Children|Fantasy  \n",
       "2                               Comedy|Romance  \n",
       "3                         Comedy|Drama|Romance  \n",
       "4                                       Comedy  "
      ]
     },
     "execution_count": 124,
     "metadata": {},
     "output_type": "execute_result"
    }
   ],
   "source": [
    "# Removing duplicated ids with low review count from movie database\n",
    "movies = movies.loc[~movies['movieId'].isin(duplicated_ids)]\n",
    "# Removing duplicated ids with low review count from rating database\n",
    "ratings = ratings.loc[~ratings['movieId'].isin(duplicated_ids)]\n",
    "\n",
    "movies.head(5)"
   ]
  },
  {
   "cell_type": "code",
   "execution_count": 125,
   "metadata": {},
   "outputs": [
    {
     "data": {
      "text/html": [
       "<div>\n",
       "<style scoped>\n",
       "    .dataframe tbody tr th:only-of-type {\n",
       "        vertical-align: middle;\n",
       "    }\n",
       "\n",
       "    .dataframe tbody tr th {\n",
       "        vertical-align: top;\n",
       "    }\n",
       "\n",
       "    .dataframe thead th {\n",
       "        text-align: right;\n",
       "    }\n",
       "</style>\n",
       "<table border=\"1\" class=\"dataframe\">\n",
       "  <thead>\n",
       "    <tr style=\"text-align: right;\">\n",
       "      <th></th>\n",
       "      <th>userId</th>\n",
       "      <th>movieId</th>\n",
       "      <th>rating</th>\n",
       "      <th>timestamp</th>\n",
       "    </tr>\n",
       "  </thead>\n",
       "  <tbody>\n",
       "    <tr>\n",
       "      <th>0</th>\n",
       "      <td>1</td>\n",
       "      <td>1</td>\n",
       "      <td>4.0</td>\n",
       "      <td>964982703</td>\n",
       "    </tr>\n",
       "    <tr>\n",
       "      <th>1</th>\n",
       "      <td>1</td>\n",
       "      <td>3</td>\n",
       "      <td>4.0</td>\n",
       "      <td>964981247</td>\n",
       "    </tr>\n",
       "    <tr>\n",
       "      <th>2</th>\n",
       "      <td>1</td>\n",
       "      <td>6</td>\n",
       "      <td>4.0</td>\n",
       "      <td>964982224</td>\n",
       "    </tr>\n",
       "    <tr>\n",
       "      <th>3</th>\n",
       "      <td>1</td>\n",
       "      <td>47</td>\n",
       "      <td>5.0</td>\n",
       "      <td>964983815</td>\n",
       "    </tr>\n",
       "    <tr>\n",
       "      <th>4</th>\n",
       "      <td>1</td>\n",
       "      <td>50</td>\n",
       "      <td>5.0</td>\n",
       "      <td>964982931</td>\n",
       "    </tr>\n",
       "  </tbody>\n",
       "</table>\n",
       "</div>"
      ],
      "text/plain": [
       "   userId  movieId  rating  timestamp\n",
       "0       1        1     4.0  964982703\n",
       "1       1        3     4.0  964981247\n",
       "2       1        6     4.0  964982224\n",
       "3       1       47     5.0  964983815\n",
       "4       1       50     5.0  964982931"
      ]
     },
     "execution_count": 125,
     "metadata": {},
     "output_type": "execute_result"
    }
   ],
   "source": [
    "\n",
    "ratings.head(5)"
   ]
  },
  {
   "cell_type": "code",
   "execution_count": 126,
   "metadata": {},
   "outputs": [
    {
     "data": {
      "text/plain": [
       "'DataFrame'"
      ]
     },
     "execution_count": 126,
     "metadata": {},
     "output_type": "execute_result"
    }
   ],
   "source": [
    "ratings.__class__.__name__"
   ]
  },
  {
   "cell_type": "code",
   "execution_count": 127,
   "metadata": {},
   "outputs": [],
   "source": [
    "#Droping genres \n",
    "ratings.drop(['timestamp'], 1, inplace=True) "
   ]
  },
  {
   "cell_type": "code",
   "execution_count": 128,
   "metadata": {},
   "outputs": [
    {
     "name": "stdout",
     "output_type": "stream",
     "text": [
      "(100830, 5)\n"
     ]
    }
   ],
   "source": [
    "df = pd.merge(ratings, movies, on='movieId')\n",
    "print(df.shape)\n",
    "# df.head(2)"
   ]
  },
  {
   "cell_type": "code",
   "execution_count": 129,
   "metadata": {},
   "outputs": [],
   "source": [
    "def item_based_recom(input_dataframe,input_film_name):    \n",
    "    pivot_item_based = pd.pivot_table(input_dataframe,\n",
    "                                      index='title',\n",
    "                                      columns=['userId'], values='rating')  \n",
    "    sparse_pivot = sparse.csr_matrix(pivot_item_based.fillna(0))\n",
    "    recommender = pw.cosine_similarity(sparse_pivot)\n",
    "    recommender_df = pd.DataFrame(recommender, \n",
    "                                  columns=pivot_item_based.index,\n",
    "                                  index=pivot_item_based.index)\n",
    "    ## Item Rating Based Cosine Similarity\n",
    "    cosine_df = pd.DataFrame(recommender_df[film_name].sort_values(ascending=False))\n",
    "    cosine_df.reset_index(level=0, inplace=True)\n",
    "    cosine_df.columns = ['title','cosine_sim']\n",
    "    return cosine_df"
   ]
  },
  {
   "cell_type": "code",
   "execution_count": 130,
   "metadata": {},
   "outputs": [],
   "source": [
    "def user_based_recom(input_dataframe,input_user_id):    \n",
    "    pivot_user_based = pd.pivot_table(input_dataframe, index='title', columns=['userId'], values='rating').T\n",
    "    sparse_pivot_ub = sparse.csr_matrix(pivot_user_based.fillna(0))\n",
    "    user_recomm = pw.cosine_similarity(sparse_pivot_ub)\n",
    "    user_recomm_df = pd.DataFrame(user_recomm,columns=pivot_user_based.index.values,\n",
    "                 index=pivot_user_based.index.values)\n",
    "    ## Item Rating Based Cosine Similarity\n",
    "    usr_cosine_df = pd.DataFrame(user_recomm_df[input_user_id].sort_values(ascending=False))\n",
    "    usr_cosine_df.reset_index(level=0, inplace=True)\n",
    "    usr_cosine_df.columns = ['userId','cosine_sim']\n",
    "    return usr_cosine_df"
   ]
  },
  {
   "cell_type": "code",
   "execution_count": 131,
   "metadata": {},
   "outputs": [],
   "source": [
    "def insert_ratings(usr_rtg_dict,pivot_user_based):\n",
    "    \"\"\"\n",
    "    Function to insert new row in pivot_user_based with film ratings created by a new user \n",
    "    \"\"\"\n",
    "    #loop throgh dictionary with ids of people who rated\n",
    "    for person_id in usr_rtg_dict:\n",
    "    #Loop through movies that where rated\n",
    "        for movie in films_rated.get(person_id):\n",
    "    #Inset ratings in main DF\n",
    "              pivot_user_based.loc[person_id,movie] = usr_rtg_dict.get(person_id).get(movie)\n",
    "#               print(\"Inserted score for id: \", person_id,movie,usr_rtg_dict.get(person_id).get(movie))\n",
    "    return pivot_user_based\n",
    "\n",
    "def user_based_recom(input_dataframe,input_films_rated,user_id):    \n",
    "    \"\"\"\n",
    "    Function to create user based recoomendations.\n",
    "    \"\"\"\n",
    "    pivot_user_based = pd.pivot_table(df, index='userId', columns=['title'], values='rating')\n",
    "    pivot_user_based = insert_ratings(films_rated,pivot_user_based)\n",
    "    user_sparse_pivot = sparse.csr_matrix(pivot_user_based.fillna(0))\n",
    "    user_recommender = pw.cosine_similarity(user_sparse_pivot)\n",
    "    user_recommender_df = pd.DataFrame(user_recommender, columns=pivot_user_based.index.values,index = pivot_user_based.index.values)\n",
    "    ## Movie User based Cosine Similarity data frame \n",
    "    usr_cosine_df = pd.DataFrame(user_recommender_df[user_id].sort_values(ascending=False))\n",
    "    usr_cosine_df.reset_index(level=0, inplace=True)\n",
    "    usr_cosine_df.columns = ['title','cosine_sim']\n",
    "    ## 4 most similar users\n",
    "    similar_usr = list(usr_cosine_df['title'][1:5].values)\n",
    "    ## Comparing reviews with similar users\n",
    "    similar_usr_df = pivot_user_based.T[[user_id] + similar_usr].fillna(0)\n",
    "    similar_usr_df['mean_rev'] = similar_usr_df[similar_usr].mean(numeric_only=True,axis=1)\n",
    "    similar_usr_df.sort_values('mean_rev', ascending=False,inplace = True)\n",
    "#   Check user rated movies vs similar users ratings\n",
    "#   display(similar_usr_df[similar_usr_df[user_id]!=0])\n",
    "    return similar_usr_df[similar_usr_df[user_id]==0].rename({611:'Santosh Cheruku',\n",
    "                                                              'mean_rev':'Mean_score'},axis=1)"
   ]
  },
  {
   "cell_type": "code",
   "execution_count": 132,
   "metadata": {},
   "outputs": [],
   "source": [
    "people_who_rated = {611: \"Santosh\"}\n",
    "films_rated = movies_rated.to_dict()\n",
    "\n",
    "# film_name = 'Inception (2010)' \n",
    "film_name ='Captain America: The First Avenger (2011)' \n",
    "user_id = 611"
   ]
  },
  {
   "cell_type": "code",
   "execution_count": 133,
   "metadata": {},
   "outputs": [
    {
     "name": "stdout",
     "output_type": "stream",
     "text": [
      "Movie Recommender by B.Kurka:\n",
      "('User name: Favorite Movie:', 'Captain America: The First Avenger (2011)\\n\\n')\n",
      "('Films you might enjooy based that you watched', 'Captain America: The First Avenger (2011)')\n"
     ]
    },
    {
     "data": {
      "text/html": [
       "<div>\n",
       "<style scoped>\n",
       "    .dataframe tbody tr th:only-of-type {\n",
       "        vertical-align: middle;\n",
       "    }\n",
       "\n",
       "    .dataframe tbody tr th {\n",
       "        vertical-align: top;\n",
       "    }\n",
       "\n",
       "    .dataframe thead th {\n",
       "        text-align: right;\n",
       "    }\n",
       "</style>\n",
       "<table border=\"1\" class=\"dataframe\">\n",
       "  <thead>\n",
       "    <tr style=\"text-align: right;\">\n",
       "      <th></th>\n",
       "      <th>title</th>\n",
       "      <th>cosine_sim</th>\n",
       "    </tr>\n",
       "  </thead>\n",
       "  <tbody>\n",
       "    <tr>\n",
       "      <th>1</th>\n",
       "      <td>Thor (2011)</td>\n",
       "      <td>0.747897</td>\n",
       "    </tr>\n",
       "    <tr>\n",
       "      <th>2</th>\n",
       "      <td>Avengers: Age of Ultron (2015)</td>\n",
       "      <td>0.693643</td>\n",
       "    </tr>\n",
       "    <tr>\n",
       "      <th>3</th>\n",
       "      <td>Thor: The Dark World (2013)</td>\n",
       "      <td>0.668403</td>\n",
       "    </tr>\n",
       "    <tr>\n",
       "      <th>4</th>\n",
       "      <td>X-Men: First Class (2011)</td>\n",
       "      <td>0.650597</td>\n",
       "    </tr>\n",
       "    <tr>\n",
       "      <th>5</th>\n",
       "      <td>X-Men: Days of Future Past (2014)</td>\n",
       "      <td>0.650087</td>\n",
       "    </tr>\n",
       "  </tbody>\n",
       "</table>\n",
       "</div>"
      ],
      "text/plain": [
       "                               title  cosine_sim\n",
       "1                        Thor (2011)    0.747897\n",
       "2     Avengers: Age of Ultron (2015)    0.693643\n",
       "3        Thor: The Dark World (2013)    0.668403\n",
       "4          X-Men: First Class (2011)    0.650597\n",
       "5  X-Men: Days of Future Past (2014)    0.650087"
      ]
     },
     "metadata": {},
     "output_type": "display_data"
    },
    {
     "name": "stdout",
     "output_type": "stream",
     "text": [
      "***********************************************************************************************\n",
      "\n",
      "Flims recommended for you:\n"
     ]
    },
    {
     "data": {
      "text/html": [
       "<div>\n",
       "<style scoped>\n",
       "    .dataframe tbody tr th:only-of-type {\n",
       "        vertical-align: middle;\n",
       "    }\n",
       "\n",
       "    .dataframe tbody tr th {\n",
       "        vertical-align: top;\n",
       "    }\n",
       "\n",
       "    .dataframe thead th {\n",
       "        text-align: right;\n",
       "    }\n",
       "</style>\n",
       "<table border=\"1\" class=\"dataframe\">\n",
       "  <thead>\n",
       "    <tr style=\"text-align: right;\">\n",
       "      <th>userId</th>\n",
       "      <th>Santosh Cheruku</th>\n",
       "      <th>298</th>\n",
       "      <th>362</th>\n",
       "      <th>495</th>\n",
       "      <th>295</th>\n",
       "      <th>Mean_score</th>\n",
       "    </tr>\n",
       "    <tr>\n",
       "      <th>title</th>\n",
       "      <th></th>\n",
       "      <th></th>\n",
       "      <th></th>\n",
       "      <th></th>\n",
       "      <th></th>\n",
       "      <th></th>\n",
       "    </tr>\n",
       "  </thead>\n",
       "  <tbody>\n",
       "    <tr>\n",
       "      <th>Shawshank Redemption, The (1994)</th>\n",
       "      <td>0.0</td>\n",
       "      <td>3.5</td>\n",
       "      <td>4.5</td>\n",
       "      <td>5.0</td>\n",
       "      <td>5.0</td>\n",
       "      <td>4.500</td>\n",
       "    </tr>\n",
       "    <tr>\n",
       "      <th>Kill Bill: Vol. 1 (2003)</th>\n",
       "      <td>0.0</td>\n",
       "      <td>4.0</td>\n",
       "      <td>4.5</td>\n",
       "      <td>5.0</td>\n",
       "      <td>4.5</td>\n",
       "      <td>4.500</td>\n",
       "    </tr>\n",
       "    <tr>\n",
       "      <th>Kill Bill: Vol. 2 (2004)</th>\n",
       "      <td>0.0</td>\n",
       "      <td>4.0</td>\n",
       "      <td>4.5</td>\n",
       "      <td>5.0</td>\n",
       "      <td>4.5</td>\n",
       "      <td>4.500</td>\n",
       "    </tr>\n",
       "    <tr>\n",
       "      <th>Usual Suspects, The (1995)</th>\n",
       "      <td>0.0</td>\n",
       "      <td>3.5</td>\n",
       "      <td>3.5</td>\n",
       "      <td>4.0</td>\n",
       "      <td>5.0</td>\n",
       "      <td>4.000</td>\n",
       "    </tr>\n",
       "    <tr>\n",
       "      <th>Matrix, The (1999)</th>\n",
       "      <td>0.0</td>\n",
       "      <td>4.0</td>\n",
       "      <td>4.5</td>\n",
       "      <td>5.0</td>\n",
       "      <td>0.0</td>\n",
       "      <td>3.375</td>\n",
       "    </tr>\n",
       "  </tbody>\n",
       "</table>\n",
       "</div>"
      ],
      "text/plain": [
       "userId                            Santosh Cheruku  298  362  495  295  \\\n",
       "title                                                                   \n",
       "Shawshank Redemption, The (1994)              0.0  3.5  4.5  5.0  5.0   \n",
       "Kill Bill: Vol. 1 (2003)                      0.0  4.0  4.5  5.0  4.5   \n",
       "Kill Bill: Vol. 2 (2004)                      0.0  4.0  4.5  5.0  4.5   \n",
       "Usual Suspects, The (1995)                    0.0  3.5  3.5  4.0  5.0   \n",
       "Matrix, The (1999)                            0.0  4.0  4.5  5.0  0.0   \n",
       "\n",
       "userId                            Mean_score  \n",
       "title                                         \n",
       "Shawshank Redemption, The (1994)       4.500  \n",
       "Kill Bill: Vol. 1 (2003)               4.500  \n",
       "Kill Bill: Vol. 2 (2004)               4.500  \n",
       "Usual Suspects, The (1995)             4.000  \n",
       "Matrix, The (1999)                     3.375  "
      ]
     },
     "metadata": {},
     "output_type": "display_data"
    }
   ],
   "source": [
    "def generate_recomendations(df,film_name,input_films_rated,top_results=5):\n",
    "    print(\"Movie Recommender by B.Kurka:\")\n",
    "    print(\"User name: \" + \"Favorite Movie:\", film_name+'\\n\\n')\n",
    "    print(\"Films you might enjooy based that you watched\", film_name)\n",
    "    ## Item Rating Based Cosine Similarity\n",
    "    cos_sim = item_based_recom(df,film_name)\n",
    "    display(cos_sim[1:top_results+1])\n",
    "   \n",
    "    print(\"***********************************************************************************************\\n\")\n",
    "    print(\"Flims recommended for you:\")\n",
    "    a = user_based_recom(df,input_films_rated,user_id)[0:25]\n",
    "    \n",
    "    display(user_based_recom(df,input_films_rated,user_id)[0:5])\n",
    "#     display()\n",
    "\n",
    "    return None\n",
    "    \n",
    "generate_recomendations(df,film_name,films_rated,5)"
   ]
  },
  {
   "cell_type": "code",
   "execution_count": null,
   "metadata": {},
   "outputs": [],
   "source": []
  }
 ],
 "metadata": {
  "kernelspec": {
   "display_name": "Python 2",
   "language": "python",
   "name": "python2"
  },
  "language_info": {
   "codemirror_mode": {
    "name": "ipython",
    "version": 2
   },
   "file_extension": ".py",
   "mimetype": "text/x-python",
   "name": "python",
   "nbconvert_exporter": "python",
   "pygments_lexer": "ipython2",
   "version": "2.7.16"
  }
 },
 "nbformat": 4,
 "nbformat_minor": 2
}
